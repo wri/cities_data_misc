{
 "cells": [
  {
   "cell_type": "code",
   "execution_count": 1,
   "id": "4a652219",
   "metadata": {},
   "outputs": [],
   "source": [
    "import s3fs\n",
    "import xarray as xr\n",
    "import numpy as np\n",
    "import coiled"
   ]
  },
  {
   "cell_type": "code",
   "execution_count": 2,
   "id": "d62f36ae",
   "metadata": {},
   "outputs": [],
   "source": [
    "CITYLATLON = {}\n",
    "with open('ghsl_500k.csv', 'r') as ifile:\n",
    "    for line in ifile.readlines():\n",
    "        items = [i.strip() for i in line.split(',')]\n",
    "        CITYLATLON['city_{0}'.format(items[0])] = (float(items[2]), float(items[3]), int(items[0]))"
   ]
  },
  {
   "cell_type": "code",
   "execution_count": 3,
   "id": "28e80da6",
   "metadata": {},
   "outputs": [],
   "source": [
    "PERCENTILE_STARTYEAR = 1980\n",
    "PERCENTILE_ENDYEAR = 2019"
   ]
  },
  {
   "cell_type": "code",
   "execution_count": 10,
   "id": "15682ae4",
   "metadata": {},
   "outputs": [],
   "source": [
    "ERA_TRANSFORMS = {'air_temperature_at_2_metres': lambda x: x - 273.5, 'precipitation_amount_1hour_Accumulation': lambda x: x * 86400}"
   ]
  },
  {
   "cell_type": "code",
   "execution_count": 5,
   "id": "a1e7a699",
   "metadata": {},
   "outputs": [],
   "source": [
    "def s3open(path):\n",
    "    fs = s3fs.S3FileSystem(anon=True, default_fill_cache=False)\n",
    "    return s3fs.S3Map(path, s3=fs)"
   ]
  },
  {
   "cell_type": "code",
   "execution_count": 6,
   "id": "08f95088",
   "metadata": {},
   "outputs": [],
   "source": [
    "MONTHS = [\"01\", \"02\", \"03\", \"04\", \"05\", \"06\", \"07\", \"08\", \"09\", \"10\", \"11\", \"12\"]"
   ]
  },
  {
   "cell_type": "code",
   "execution_count": 43,
   "id": "de5e7287",
   "metadata": {},
   "outputs": [],
   "source": [
    "cluster.shutdown()"
   ]
  },
  {
   "cell_type": "code",
   "execution_count": 44,
   "id": "35115caf",
   "metadata": {},
   "outputs": [
    {
     "data": {
      "application/vnd.jupyter.widget-view+json": {
       "model_id": "8fb75541c3b04aa2b065ef21711cc38f",
       "version_major": 2,
       "version_minor": 0
      },
      "text/plain": [
       "Output()"
      ]
     },
     "metadata": {},
     "output_type": "display_data"
    },
    {
     "data": {
      "text/html": [
       "<pre style=\"white-space:pre;overflow-x:auto;line-height:normal;font-family:Menlo,'DejaVu Sans Mono',consolas,'Courier New',monospace\"></pre>\n"
      ],
      "text/plain": []
     },
     "metadata": {},
     "output_type": "display_data"
    },
    {
     "data": {
      "text/html": [
       "<pre style=\"white-space:pre;overflow-x:auto;line-height:normal;font-family:Menlo,'DejaVu Sans Mono',consolas,'Courier New',monospace\">╭────────────────────────────────────────── <span style=\"color: #008000; text-decoration-color: #008000; font-weight: bold\">Package Info</span> ──────────────────────────────────────────╮\n",
       "│                             ╷                                                                    │\n",
       "│  <span style=\"font-weight: bold\"> Package                   </span>│<span style=\"font-weight: bold\"> Note                                                             </span>  │\n",
       "│ ╶───────────────────────────┼──────────────────────────────────────────────────────────────────╴ │\n",
       "│   coiled_local_halfdeg      │ Source wheel built from C:\\Users\\theodore.wong\\halfdeg             │\n",
       "│                             ╵                                                                    │\n",
       "╰──────────────────────────────────────────────────────────────────────────────────────────────────╯\n",
       "</pre>\n"
      ],
      "text/plain": [
       "╭────────────────────────────────────────── \u001b[1;32mPackage Info\u001b[0m ──────────────────────────────────────────╮\n",
       "│                             ╷                                                                    │\n",
       "│  \u001b[1m \u001b[0m\u001b[1mPackage                  \u001b[0m\u001b[1m \u001b[0m│\u001b[1m \u001b[0m\u001b[1mNote                                                            \u001b[0m\u001b[1m \u001b[0m  │\n",
       "│ ╶───────────────────────────┼──────────────────────────────────────────────────────────────────╴ │\n",
       "│   coiled_local_halfdeg      │ Source wheel built from C:\\Users\\theodore.wong\\halfdeg             │\n",
       "│                             ╵                                                                    │\n",
       "╰──────────────────────────────────────────────────────────────────────────────────────────────────╯\n"
      ]
     },
     "metadata": {},
     "output_type": "display_data"
    },
    {
     "data": {
      "application/vnd.jupyter.widget-view+json": {
       "model_id": "fb9ac6ed66db4fc8820483cba5eaa9cf",
       "version_major": 2,
       "version_minor": 0
      },
      "text/plain": [
       "Output()"
      ]
     },
     "metadata": {},
     "output_type": "display_data"
    },
    {
     "data": {
      "text/html": [
       "<pre style=\"white-space:pre;overflow-x:auto;line-height:normal;font-family:Menlo,'DejaVu Sans Mono',consolas,'Courier New',monospace\"></pre>\n"
      ],
      "text/plain": []
     },
     "metadata": {},
     "output_type": "display_data"
    }
   ],
   "source": [
    "cluster = coiled.Cluster(n_workers=50, compute_purchase_option=\"spot_with_fallback\", shutdown_on_close=False, region=\"us-east-1\")\n",
    "client = cluster.get_client()"
   ]
  },
  {
   "cell_type": "code",
   "execution_count": 11,
   "id": "f7a06f06",
   "metadata": {},
   "outputs": [
    {
     "name": "stdout",
     "output_type": "stream",
     "text": [
      "CPU times: total: 18.5 s\n",
      "Wall time: 24.8 s\n"
     ]
    }
   ],
   "source": [
    "%%time\n",
    "varname='precipitation_amount_1hour_Accumulation'\n",
    "FILE_PATTERN = 'era5-pds/zarr/{year}/{month}/data/{varname}.zarr/'\n",
    "files_mapper = [s3open(FILE_PATTERN.format(year=year, month=month, varname=varname)) for year in range(PERCENTILE_STARTYEAR,PERCENTILE_ENDYEAR+1) for month in MONTHS]\n",
    "pr_ds = xr.open_mfdataset(files_mapper, engine='zarr', \n",
    "       concat_dim=['time0', 'time1'][int(varname=='precipitation_amount_1hour_Accumulation')], combine='nested', \n",
    "       coords='minimal', compat='override', parallel=True)\n",
    "pr_dailysum = ERA_TRANSFORMS[varname](pr_ds.resample(time1='D').sum())\n",
    "pr_dailysum = pr_dailysum.chunk({\"time1\": -1, \"lat\": \"auto\", \"lon\": \"auto\"})"
   ]
  },
  {
   "cell_type": "code",
   "execution_count": null,
   "id": "87cf950d",
   "metadata": {
    "scrolled": false
   },
   "outputs": [
    {
     "name": "stdout",
     "output_type": "stream",
     "text": [
      "0\n",
      "100\n",
      "200\n",
      "300\n",
      "400\n",
      "500\n",
      "600\n",
      "700\n",
      "800\n"
     ]
    }
   ],
   "source": [
    "%%time\n",
    "import time\n",
    "def returnperiod_value_daily(timeseries, rp):\n",
    "    d = np.delete(timeseries, np.argwhere(timeseries <= 0.01).flatten())  # Only consider actual positive events\n",
    "    vals, counts = np.unique(d, return_counts=True)\n",
    "    freqs = counts / d.size\n",
    "    cdf_y = np.cumsum(freqs)\n",
    "    targetfreq = (PERCENTILE_ENDYEAR - PERCENTILE_STARTYEAR + 1) / rp\n",
    "    return np.interp(1-targetfreq, vals, cdf_y)\n",
    "\n",
    "def pr_rp100_onecity(ts, loc_id):\n",
    "    ts_vals = ts.values\n",
    "    return returnperiod_value_daily(ts_vals, 100), loc_id\n",
    "\n",
    "results = []\n",
    "for idx_start, idx_end in [(0,100), (100,200), (200,300), (300,400), (400,500), (500,600), (600,700), (700,800), (800,900), (900,996)]:\n",
    "# Why break this job up? For some reason it seems to help avoid cancellation errors due to client disappearing\n",
    "    print(idx_start)\n",
    "    futures = []\n",
    "    for c in list(CITYLATLON.keys())[idx_start: idx_end]:\n",
    "        lat, lon, loc_id = CITYLATLON[c]\n",
    "        futures.append(client.submit(pr_rp100_onecity, pr_dailysum.sel(lat=lat, lon=lon, method='nearest')[varname], loc_id))\n",
    "    for f in futures:\n",
    "        if f.status == 'error':\n",
    "            f.retry()\n",
    "        results.append(f.result())\n",
    "\n"
   ]
  },
  {
   "cell_type": "code",
   "execution_count": null,
   "id": "a213a6a5",
   "metadata": {},
   "outputs": [],
   "source": [
    "for res in results:\n",
    "    with open('precip_rp100.txt', 'a') as ifile:\n",
    "        ifile.write('{0}\\t{1}\\n'.format(res[1], res[0]))"
   ]
  }
 ],
 "metadata": {
  "kernelspec": {
   "display_name": "Python (halfdegenv)",
   "language": "python",
   "name": "halfdegenv"
  },
  "language_info": {
   "codemirror_mode": {
    "name": "ipython",
    "version": 3
   },
   "file_extension": ".py",
   "mimetype": "text/x-python",
   "name": "python",
   "nbconvert_exporter": "python",
   "pygments_lexer": "ipython3",
   "version": "3.9.10"
  }
 },
 "nbformat": 4,
 "nbformat_minor": 5
}
