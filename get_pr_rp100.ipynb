{
 "cells": [
  {
   "cell_type": "code",
   "execution_count": 102,
   "id": "4a652219",
   "metadata": {},
   "outputs": [],
   "source": [
    "import s3fs\n",
    "import xarray as xr\n",
    "import numpy as np\n",
    "import coiled"
   ]
  },
  {
   "cell_type": "code",
   "execution_count": 103,
   "id": "f2b64322",
   "metadata": {},
   "outputs": [],
   "source": [
    "CITYLATLON = {}\n",
    "with open('ghsl_500k.csv', 'r') as ifile:\n",
    "    for line in ifile.readlines():\n",
    "        items = [i.strip() for i in line.split(',')]\n",
    "        CITYLATLON['city_{0}'.format(items[0])] = (float(items[2]), float(items[3]), int(items[0]))"
   ]
  },
  {
   "cell_type": "code",
   "execution_count": 104,
   "id": "04c604b1",
   "metadata": {},
   "outputs": [],
   "source": [
    "PERCENTILE_STARTYEAR = 1980\n",
    "PERCENTILE_ENDYEAR = 2019"
   ]
  },
  {
   "cell_type": "code",
   "execution_count": 105,
   "id": "86d9101d",
   "metadata": {},
   "outputs": [],
   "source": [
    "ERA_TRANSFORMS = {'air_temperature_at_2_metres': lambda x: x - 273.5, 'precipitation_amount_1hour_Accumulation': lambda x: x * 1000}"
   ]
  },
  {
   "cell_type": "code",
   "execution_count": 106,
   "id": "20eec8bd",
   "metadata": {},
   "outputs": [],
   "source": [
    "def s3open(path):\n",
    "    fs = s3fs.S3FileSystem(anon=True, default_fill_cache=False)\n",
    "    return s3fs.S3Map(path, s3=fs)"
   ]
  },
  {
   "cell_type": "code",
   "execution_count": 107,
   "id": "08f95088",
   "metadata": {},
   "outputs": [],
   "source": [
    "MONTHS = [\"01\", \"02\", \"03\", \"04\", \"05\", \"06\", \"07\", \"08\", \"09\", \"10\", \"11\", \"12\"]"
   ]
  },
  {
   "cell_type": "code",
   "execution_count": null,
   "id": "325a8557",
   "metadata": {},
   "outputs": [
    {
     "data": {
      "application/vnd.jupyter.widget-view+json": {
       "model_id": "7f379f0681f44c759ca0bd5e966d4dc5",
       "version_major": 2,
       "version_minor": 0
      },
      "text/plain": [
       "Output()"
      ]
     },
     "metadata": {},
     "output_type": "display_data"
    },
    {
     "data": {
      "text/html": [
       "<pre style=\"white-space:pre;overflow-x:auto;line-height:normal;font-family:Menlo,'DejaVu Sans Mono',consolas,'Courier New',monospace\"></pre>\n"
      ],
      "text/plain": []
     },
     "metadata": {},
     "output_type": "display_data"
    },
    {
     "data": {
      "text/html": [
       "<pre style=\"white-space:pre;overflow-x:auto;line-height:normal;font-family:Menlo,'DejaVu Sans Mono',consolas,'Courier New',monospace\">╭────────────────────────────────────────── <span style=\"color: #008000; text-decoration-color: #008000; font-weight: bold\">Package Info</span> ──────────────────────────────────────────╮\n",
       "│                             ╷                                                                    │\n",
       "│  <span style=\"font-weight: bold\"> Package                   </span>│<span style=\"font-weight: bold\"> Note                                                             </span>  │\n",
       "│ ╶───────────────────────────┼──────────────────────────────────────────────────────────────────╴ │\n",
       "│   coiled_local_halfdeg      │ Source wheel built from C:\\Users\\theodore.wong\\halfdeg             │\n",
       "│                             ╵                                                                    │\n",
       "╰──────────────────────────────────────────────────────────────────────────────────────────────────╯\n",
       "</pre>\n"
      ],
      "text/plain": [
       "╭────────────────────────────────────────── \u001b[1;32mPackage Info\u001b[0m ──────────────────────────────────────────╮\n",
       "│                             ╷                                                                    │\n",
       "│  \u001b[1m \u001b[0m\u001b[1mPackage                  \u001b[0m\u001b[1m \u001b[0m│\u001b[1m \u001b[0m\u001b[1mNote                                                            \u001b[0m\u001b[1m \u001b[0m  │\n",
       "│ ╶───────────────────────────┼──────────────────────────────────────────────────────────────────╴ │\n",
       "│   coiled_local_halfdeg      │ Source wheel built from C:\\Users\\theodore.wong\\halfdeg             │\n",
       "│                             ╵                                                                    │\n",
       "╰──────────────────────────────────────────────────────────────────────────────────────────────────╯\n"
      ]
     },
     "metadata": {},
     "output_type": "display_data"
    },
    {
     "data": {
      "application/vnd.jupyter.widget-view+json": {
       "model_id": "82d6e5fbba95431d8a3d8c561c5c37aa",
       "version_major": 2,
       "version_minor": 0
      },
      "text/plain": [
       "Output()"
      ]
     },
     "metadata": {},
     "output_type": "display_data"
    },
    {
     "data": {
      "text/html": [
       "<pre style=\"white-space:pre;overflow-x:auto;line-height:normal;font-family:Menlo,'DejaVu Sans Mono',consolas,'Courier New',monospace\"></pre>\n"
      ],
      "text/plain": []
     },
     "metadata": {},
     "output_type": "display_data"
    }
   ],
   "source": [
    "%%time\n",
    "def returnperiod_value_daily(timeseries, rp):\n",
    "    d = timeseries[timeseries > 0.01]  # Only consider actual positive events\n",
    "    vals, counts = np.unique(d, return_counts=True)\n",
    "    freqs = counts / d.size\n",
    "    cdf_y = np.cumsum(freqs)\n",
    "    targetfreq = (PERCENTILE_ENDYEAR - PERCENTILE_STARTYEAR + 1) / rp\n",
    "    return np.interp(1-targetfreq, vals, cdf_y)\n",
    "\n",
    "def pr_rp100_onecity(latlon):\n",
    "    varname='precipitation_amount_1hour_Accumulation'\n",
    "    FILE_PATTERN = 'era5-pds/zarr/{year}/{month}/data/{varname}.zarr/'\n",
    "    files_mapper = [s3open(FILE_PATTERN.format(year=year, month=month, varname=varname)) for year in range(PERCENTILE_STARTYEAR,PERCENTILE_ENDYEAR+1) for month in MONTHS]\n",
    "    pr_ds = xr.open_mfdataset(files_mapper, engine='zarr', \n",
    "           concat_dim=['time0', 'time1'][int(varname=='precipitation_amount_1hour_Accumulation')], combine='nested', \n",
    "           coords='minimal', compat='override', parallel=True)\n",
    "    pr_dailysum = ERA_TRANSFORMS[varname](pr_ds.resample(time1='D').sum())\n",
    "    ts = pr_dailysum[varname].sel(lat=latlon[0], lon=latlon[1], method='nearest')\n",
    "    return returnperiod_value_daily(ts.to_numpy(), 100)\n",
    "\n",
    "cluster = coiled.Cluster(n_workers=25)\n",
    "client = cluster.get_client()\n",
    "futs = client.map(pr_rp100_onecity, [(CITYLATLON[c][0], CITYLATLON[c][1]) for c in CITYLATLON])\n",
    "results = client.gather(futs)\n",
    "with open('precip_rp100.txt', 'w') as ofile:\n",
    "    for idx, res in enumerate(results):\n",
    "        print('{0}:{1}'.format(idx, res), end=' ')\n",
    "        ofile.write('{0}\\t{1}\\n'.format(idx, res))\n"
   ]
  },
  {
   "cell_type": "code",
   "execution_count": null,
   "id": "99dd98fd",
   "metadata": {},
   "outputs": [],
   "source": []
  }
 ],
 "metadata": {
  "kernelspec": {
   "display_name": "Python (halfdegenv)",
   "language": "python",
   "name": "halfdegenv"
  },
  "language_info": {
   "codemirror_mode": {
    "name": "ipython",
    "version": 3
   },
   "file_extension": ".py",
   "mimetype": "text/x-python",
   "name": "python",
   "nbconvert_exporter": "python",
   "pygments_lexer": "ipython3",
   "version": "3.9.10"
  }
 },
 "nbformat": 4,
 "nbformat_minor": 5
}
