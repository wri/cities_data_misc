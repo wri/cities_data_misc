{
 "cells": [
  {
   "cell_type": "code",
   "execution_count": 102,
   "id": "4a652219",
   "metadata": {},
   "outputs": [],
   "source": [
    "import s3fs\n",
    "import xarray as xr\n",
    "import numpy as np\n",
    "import coiled"
   ]
  },
  {
   "cell_type": "code",
   "execution_count": 103,
   "id": "5f3664ee",
   "metadata": {},
   "outputs": [],
   "source": [
    "CITYLATLON = {}\n",
    "with open('ghsl_500k.csv', 'r') as ifile:\n",
    "    for line in ifile.readlines():\n",
    "        items = [i.strip() for i in line.split(',')]\n",
    "        CITYLATLON['city_{0}'.format(items[0])] = (float(items[2]), float(items[3]), int(items[0]))"
   ]
  },
  {
   "cell_type": "code",
   "execution_count": 104,
   "id": "1adf91aa",
   "metadata": {},
   "outputs": [],
   "source": [
    "PERCENTILE_STARTYEAR = 1980\n",
    "PERCENTILE_ENDYEAR = 2019"
   ]
  },
  {
   "cell_type": "code",
   "execution_count": 105,
   "id": "350a24e8",
   "metadata": {},
   "outputs": [],
   "source": [
    "ERA_TRANSFORMS = {'air_temperature_at_2_metres': lambda x: x - 273.5, 'precipitation_amount_1hour_Accumulation': lambda x: x * 1000}"
   ]
  },
  {
   "cell_type": "code",
   "execution_count": 106,
   "id": "e4b5df53",
   "metadata": {},
   "outputs": [],
   "source": [
    "def s3open(path):\n",
    "    fs = s3fs.S3FileSystem(anon=True, default_fill_cache=False)\n",
    "    return s3fs.S3Map(path, s3=fs)"
   ]
  },
  {
   "cell_type": "code",
   "execution_count": 107,
   "id": "08f95088",
   "metadata": {},
   "outputs": [],
   "source": [
    "MONTHS = [\"01\", \"02\", \"03\", \"04\", \"05\", \"06\", \"07\", \"08\", \"09\", \"10\", \"11\", \"12\"]"
   ]
  },
  {
   "cell_type": "code",
   "execution_count": 123,
   "id": "241e2e40",
   "metadata": {},
   "outputs": [
    {
     "data": {
      "application/vnd.jupyter.widget-view+json": {
       "model_id": "5c00f1525ca743528760870dd86cd598",
       "version_major": 2,
       "version_minor": 0
      },
      "text/plain": [
       "Output()"
      ]
     },
     "metadata": {},
     "output_type": "display_data"
    },
    {
     "data": {
      "text/html": [
       "<pre style=\"white-space:pre;overflow-x:auto;line-height:normal;font-family:Menlo,'DejaVu Sans Mono',consolas,'Courier New',monospace\"></pre>\n"
      ],
      "text/plain": []
     },
     "metadata": {},
     "output_type": "display_data"
    },
    {
     "data": {
      "text/html": [
       "<pre style=\"white-space:pre;overflow-x:auto;line-height:normal;font-family:Menlo,'DejaVu Sans Mono',consolas,'Courier New',monospace\">╭────────────────────────────────────────── <span style=\"color: #008000; text-decoration-color: #008000; font-weight: bold\">Package Info</span> ──────────────────────────────────────────╮\n",
       "│                             ╷                                                                    │\n",
       "│  <span style=\"font-weight: bold\"> Package                   </span>│<span style=\"font-weight: bold\"> Note                                                             </span>  │\n",
       "│ ╶───────────────────────────┼──────────────────────────────────────────────────────────────────╴ │\n",
       "│   coiled_local_halfdeg      │ Source wheel built from C:\\Users\\theodore.wong\\halfdeg             │\n",
       "│                             ╵                                                                    │\n",
       "╰──────────────────────────────────────────────────────────────────────────────────────────────────╯\n",
       "</pre>\n"
      ],
      "text/plain": [
       "╭────────────────────────────────────────── \u001b[1;32mPackage Info\u001b[0m ──────────────────────────────────────────╮\n",
       "│                             ╷                                                                    │\n",
       "│  \u001b[1m \u001b[0m\u001b[1mPackage                  \u001b[0m\u001b[1m \u001b[0m│\u001b[1m \u001b[0m\u001b[1mNote                                                            \u001b[0m\u001b[1m \u001b[0m  │\n",
       "│ ╶───────────────────────────┼──────────────────────────────────────────────────────────────────╴ │\n",
       "│   coiled_local_halfdeg      │ Source wheel built from C:\\Users\\theodore.wong\\halfdeg             │\n",
       "│                             ╵                                                                    │\n",
       "╰──────────────────────────────────────────────────────────────────────────────────────────────────╯\n"
      ]
     },
     "metadata": {},
     "output_type": "display_data"
    },
    {
     "data": {
      "application/vnd.jupyter.widget-view+json": {
       "model_id": "7857679398ec448faa004498be326c82",
       "version_major": 2,
       "version_minor": 0
      },
      "text/plain": [
       "Output()"
      ]
     },
     "metadata": {},
     "output_type": "display_data"
    },
    {
     "data": {
      "text/html": [
       "<pre style=\"white-space:pre;overflow-x:auto;line-height:normal;font-family:Menlo,'DejaVu Sans Mono',consolas,'Courier New',monospace\"></pre>\n"
      ],
      "text/plain": []
     },
     "metadata": {},
     "output_type": "display_data"
    },
    {
     "name": "stdout",
     "output_type": "stream",
     "text": [
      "0:0.7080395857307249 1:0.46731551569506724 2:0.531118995544755 3:0.4753186709539121 4:0.5922691679273828 5:0.42760500816548713 6:0.46055580132716667 7:0.45676553564620664 8:0.5922691679273828 9:0.7494615563298489 10:0.7948804469273744 11:0.4381922198567834 12:0.5416796304073919 13:0.6350781341107872 14:0.692972027972028 15:0.778226728110599 16:0.30095253697383384 17:0.7609819905213271 18:0.7599119617224879 19:0.6631447513812155 20:0.708375347912525 21:0.5727315476190477 22:0.7735279742765274 23:0.666477093206951 24:0.34592404621757145 25:0.6561984911986589 26:0.7638815533980583 27:0.6322275960170697 28:0.6680068107400132 29:0.6511142469470828 30:0.6680068107400132 31:0.7735279742765274 32:0.30728170964181795 33:0.3674662287903667 34:0.42760500816548713 35:0.7652764199655765 36:0.5744983203605081 37:0.6511142469470828 38:0.7638815533980583 39:0.6322275960170697 40:0.7700850111856823 41:0.7788811287477954 42:0.5727315476190477 43:0.7178419354838709 44:0.596015248721525 45:0.4576084210526315 46:0.7003773839662445 47:0.522784396843292 48:0.7188885154061624 49:0.46089647466769407 50:0.5922691679273828 51:0.5190898612593382 52:0.42410791698693306 53:0.708375347912525 54:0.4901368056968464 55:0.34066208630079586 56:0.3875854419410745 57:0.26429489122463945 58:0.7080395857307249 59:0.7123607843137256 60:0.32796146100691015 61:0.42005832457062736 62:0.4476782972253896 63:0.5243355356963552 64:0.8593405374169315 65:0.22456831582168724 66:0.8916585855983511 67:0.3660672052761747 68:0.7677096952908586 69:0.42715999319612175 70:0.7895293556085922 71:0.7719930585683297 72:0.2111173979748389 73:0.8545308764044944 "
     ]
    },
    {
     "ename": "KeyboardInterrupt",
     "evalue": "",
     "output_type": "error",
     "traceback": [
      "\u001b[1;31m---------------------------------------------------------------------------\u001b[0m",
      "\u001b[1;31mKeyboardInterrupt\u001b[0m                         Traceback (most recent call last)",
      "File \u001b[1;32m<timed exec>:25\u001b[0m\n",
      "File \u001b[1;32m~\\halfdeg\\halfdegenv\\lib\\site-packages\\distributed\\client.py:321\u001b[0m, in \u001b[0;36mFuture.result\u001b[1;34m(self, timeout)\u001b[0m\n\u001b[0;32m    319\u001b[0m \u001b[38;5;28mself\u001b[39m\u001b[38;5;241m.\u001b[39m_verify_initialized()\n\u001b[0;32m    320\u001b[0m \u001b[38;5;28;01mwith\u001b[39;00m shorten_traceback():\n\u001b[1;32m--> 321\u001b[0m     \u001b[38;5;28;01mreturn\u001b[39;00m \u001b[38;5;28;43mself\u001b[39;49m\u001b[38;5;241;43m.\u001b[39;49m\u001b[43mclient\u001b[49m\u001b[38;5;241;43m.\u001b[39;49m\u001b[43msync\u001b[49m\u001b[43m(\u001b[49m\u001b[38;5;28;43mself\u001b[39;49m\u001b[38;5;241;43m.\u001b[39;49m\u001b[43m_result\u001b[49m\u001b[43m,\u001b[49m\u001b[43m \u001b[49m\u001b[43mcallback_timeout\u001b[49m\u001b[38;5;241;43m=\u001b[39;49m\u001b[43mtimeout\u001b[49m\u001b[43m)\u001b[49m\n",
      "File \u001b[1;32m~\\AppData\\Local\\Programs\\Python\\Python39\\lib\\threading.py:574\u001b[0m, in \u001b[0;36mEvent.wait\u001b[1;34m(self, timeout)\u001b[0m\n\u001b[0;32m    572\u001b[0m signaled \u001b[38;5;241m=\u001b[39m \u001b[38;5;28mself\u001b[39m\u001b[38;5;241m.\u001b[39m_flag\n\u001b[0;32m    573\u001b[0m \u001b[38;5;28;01mif\u001b[39;00m \u001b[38;5;129;01mnot\u001b[39;00m signaled:\n\u001b[1;32m--> 574\u001b[0m     signaled \u001b[38;5;241m=\u001b[39m \u001b[38;5;28;43mself\u001b[39;49m\u001b[38;5;241;43m.\u001b[39;49m\u001b[43m_cond\u001b[49m\u001b[38;5;241;43m.\u001b[39;49m\u001b[43mwait\u001b[49m\u001b[43m(\u001b[49m\u001b[43mtimeout\u001b[49m\u001b[43m)\u001b[49m\n\u001b[0;32m    575\u001b[0m \u001b[38;5;28;01mreturn\u001b[39;00m signaled\n",
      "File \u001b[1;32m~\\AppData\\Local\\Programs\\Python\\Python39\\lib\\threading.py:316\u001b[0m, in \u001b[0;36mCondition.wait\u001b[1;34m(self, timeout)\u001b[0m\n\u001b[0;32m    314\u001b[0m \u001b[38;5;28;01melse\u001b[39;00m:\n\u001b[0;32m    315\u001b[0m     \u001b[38;5;28;01mif\u001b[39;00m timeout \u001b[38;5;241m>\u001b[39m \u001b[38;5;241m0\u001b[39m:\n\u001b[1;32m--> 316\u001b[0m         gotit \u001b[38;5;241m=\u001b[39m \u001b[43mwaiter\u001b[49m\u001b[38;5;241;43m.\u001b[39;49m\u001b[43macquire\u001b[49m\u001b[43m(\u001b[49m\u001b[38;5;28;43;01mTrue\u001b[39;49;00m\u001b[43m,\u001b[49m\u001b[43m \u001b[49m\u001b[43mtimeout\u001b[49m\u001b[43m)\u001b[49m\n\u001b[0;32m    317\u001b[0m     \u001b[38;5;28;01melse\u001b[39;00m:\n\u001b[0;32m    318\u001b[0m         gotit \u001b[38;5;241m=\u001b[39m waiter\u001b[38;5;241m.\u001b[39macquire(\u001b[38;5;28;01mFalse\u001b[39;00m)\n",
      "\u001b[1;31mKeyboardInterrupt\u001b[0m: "
     ]
    }
   ],
   "source": [
    "%%time\n",
    "def returnperiod_value_daily(timeseries, rp):\n",
    "    d = np.delete(timeseries, np.argwhere(timeseries <= 0.01).flatten())  # Only consider actual positive events\n",
    "    vals, counts = np.unique(d, return_counts=True)\n",
    "    freqs = counts / d.size\n",
    "    cdf_y = np.cumsum(freqs)\n",
    "    targetfreq = (PERCENTILE_ENDYEAR - PERCENTILE_STARTYEAR + 1) / rp\n",
    "    return np.interp(1-targetfreq, vals, cdf_y)\n",
    "\n",
    "def pr_rp100_onecity(latlonid):\n",
    "    varname='precipitation_amount_1hour_Accumulation'\n",
    "    FILE_PATTERN = 'era5-pds/zarr/{year}/{month}/data/{varname}.zarr/'\n",
    "    files_mapper = [s3open(FILE_PATTERN.format(year=year, month=month, varname=varname)) for year in range(PERCENTILE_STARTYEAR,PERCENTILE_ENDYEAR+1) for month in MONTHS]\n",
    "    pr_ds = xr.open_mfdataset(files_mapper, engine='zarr', \n",
    "           concat_dim=['time0', 'time1'][int(varname=='precipitation_amount_1hour_Accumulation')], combine='nested', \n",
    "           coords='minimal', compat='override', parallel=True)\n",
    "    pr_dailysum = ERA_TRANSFORMS[varname](pr_ds.resample(time1='D').sum())\n",
    "    ts = pr_dailysum[varname].sel(lat=latlonid[0], lon=latlonid[1], method='nearest')\n",
    "    return returnperiod_value_daily(ts.to_numpy(), 100), latlonid[2]\n",
    "\n",
    "cluster = coiled.Cluster(n_workers=25)\n",
    "client = cluster.get_client()\n",
    "for c in CITYLATLON:\n",
    "    fut = client.submit(pr_rp100_onecity, (CITYLATLON[c][0], CITYLATLON[c][1], CITYLATLON[c][2]))\n",
    "    with open('precip_rp100.txt', 'a') as ofile:\n",
    "        res, loc_id = fut.result()\n",
    "        print('{0}:{1}'.format(loc_id, res), end=' ')\n",
    "        ofile.write('{0}\\t{1}\\n'.format(loc_id, res))\n"
   ]
  },
  {
   "cell_type": "code",
   "execution_count": 124,
   "id": "2fe3cee1",
   "metadata": {},
   "outputs": [],
   "source": [
    "cluster.shutdown()"
   ]
  },
  {
   "cell_type": "code",
   "execution_count": null,
   "id": "80a04bc2",
   "metadata": {},
   "outputs": [],
   "source": []
  }
 ],
 "metadata": {
  "kernelspec": {
   "display_name": "Python (halfdegenv)",
   "language": "python",
   "name": "halfdegenv"
  },
  "language_info": {
   "codemirror_mode": {
    "name": "ipython",
    "version": 3
   },
   "file_extension": ".py",
   "mimetype": "text/x-python",
   "name": "python",
   "nbconvert_exporter": "python",
   "pygments_lexer": "ipython3",
   "version": "3.9.10"
  }
 },
 "nbformat": 4,
 "nbformat_minor": 5
}
