{
 "cells": [
  {
   "cell_type": "code",
   "execution_count": null,
   "id": "6e07afc4",
   "metadata": {},
   "outputs": [],
   "source": [
    "import os, ee, json\n",
    "import geopandas as gpd\n",
    "\n",
    "#ee.Authenticate()\n",
    "ee.Initialize()\n",
    "\n",
    "FILEPATH = 'C:/Users/theodore.wong/boundaries'"
   ]
  },
  {
   "cell_type": "code",
   "execution_count": null,
   "id": "b4090074",
   "metadata": {},
   "outputs": [],
   "source": [
    "filenames = os.listdir(f'{FILEPATH}/Deep_Dive_boundaries')"
   ]
  },
  {
   "cell_type": "code",
   "execution_count": null,
   "id": "7044acc9",
   "metadata": {},
   "outputs": [],
   "source": [
    "citycountries = [(i.split('.')[0].split('-')[1], i.split('.')[0].split('-')[2].replace('_', ' ')) for i in filenames]\n",
    "citycountries = list(set(citycountries))"
   ]
  },
  {
   "cell_type": "code",
   "execution_count": null,
   "id": "445f6e2f",
   "metadata": {},
   "outputs": [],
   "source": [
    "YEAR = 2020"
   ]
  },
  {
   "cell_type": "code",
   "execution_count": null,
   "id": "86981350",
   "metadata": {},
   "outputs": [],
   "source": [
    "ue_fc = ee.FeatureCollection(f'projects/wri-datalab/cities/urban_land_use/data/global_cities_Aug2024/urbanextents_unions_{YEAR}')"
   ]
  },
  {
   "cell_type": "code",
   "execution_count": null,
   "id": "8416e9c9",
   "metadata": {},
   "outputs": [],
   "source": [
    "# Chooses urban extent polygons that intersect with bounding box of GeoBoundaries boundaries\n",
    "# Returns and stores geojson of union of these urban extent polygons\n",
    "for countrycity in countrycities:\n",
    "    print(countrycity)\n",
    "    bbox = ee.Geometry.BBox(min(lons[countrycity]), min(lats[countrycity]), max(lons[countrycity]), max(lats[countrycity]))\n",
    "    urbexts = ue_fc.filterBounds(bbox)\n",
    "    urbexts_gdf = geemap.ee_to_gdf(urbexts)\n",
    "    urbexts_dissolved = urbexts_gdf.dissolve()\n",
    "    urbexts_dissolved['city_id_large'] = ['+'.join([str(i) for i in urbexts_gdf['city_id_large']])]\n",
    "    urbexts_dissolved['city_ids'] = ['+'.join([str(i) for i in urbexts_gdf['city_ids']])]\n",
    "    urbexts_dissolved['city_name_large'] = ['+'.join([str(i) for i in urbexts_gdf['city_name_large']])]\n",
    "    urbexts_dissolved['city_names'] = ['+'.join([str(i) for i in urbexts_gdf['city_names']])]\n",
    "    urbexts_dissolved['country_name'] = ['+'.join([str(i) for i in urbexts_gdf['country_name']])]\n",
    "    urbexts_dissolved['reference_idstring'] = ['+'.join([str(i) for i in urbexts_gdf['reference_idstring']])]\n",
    "    with open('{0}/urbanextent-{1}__{2}__{3}.geojson'.format(FILEPATH, YEAR, countrycity[0], countrycity[1].replace(' ', '-')), 'w') as ofile:\n",
    "        ofile.write(urbexts_dissolved.to_json())"
   ]
  },
  {
   "cell_type": "code",
   "execution_count": null,
   "id": "20183d74",
   "metadata": {},
   "outputs": [],
   "source": []
  }
 ],
 "metadata": {
  "kernelspec": {
   "display_name": "Python [conda env:cif]",
   "language": "python",
   "name": "conda-env-cif-py"
  },
  "language_info": {
   "codemirror_mode": {
    "name": "ipython",
    "version": 3
   },
   "file_extension": ".py",
   "mimetype": "text/x-python",
   "name": "python",
   "nbconvert_exporter": "python",
   "pygments_lexer": "ipython3",
   "version": "3.10.14"
  }
 },
 "nbformat": 4,
 "nbformat_minor": 5
}
