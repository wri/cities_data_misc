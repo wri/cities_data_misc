{
 "cells": [
  {
   "cell_type": "code",
   "execution_count": 5,
   "id": "9b13658b",
   "metadata": {},
   "outputs": [],
   "source": [
    "import io, sys, os, datetime, requests, json\n",
    "from collections import defaultdict\n",
    "import numpy as np\n",
    "import pandas as pd\n",
    "import xarray as xr\n",
    "import netCDF4\n",
    "import boto3\n",
    "import ee"
   ]
  },
  {
   "cell_type": "code",
   "execution_count": 6,
   "id": "e8cd8892",
   "metadata": {},
   "outputs": [],
   "source": [
    "#ee.Authenticate()\n",
    "ee.Initialize()"
   ]
  },
  {
   "cell_type": "code",
   "execution_count": 20,
   "id": "461f7608",
   "metadata": {},
   "outputs": [],
   "source": [
    "SPECIES_INFO = {\n",
    "    'no2': {\n",
    "        'name': 'nitrogen dioxide',\n",
    "        'molar_mass': 46.0055,\n",
    "        'cams_unit': 'kg/kg',\n",
    "        'who_threshold': 25.0,\n",
    "        'eac4_varname': 'no2'\n",
    "    },\n",
    "    'so2': {\n",
    "        'name': 'sulfur dioxide',\n",
    "        'molar_mass': 64.066,\n",
    "        'cams_unit': 'kg/kg',\n",
    "        'who_threshold': 40.0,\n",
    "        'eac4_varname': 'so2'\n",
    "    },\n",
    "    'o3': {    # Ozone thresholds are based on 8-hour average, not 24-hour.\n",
    "               # We use averages at 9am, noon, 3pm to get a 9-hour average at peak O3 production.\n",
    "        'name': 'ozone',\n",
    "        'molar_mass': 48.0,\n",
    "        'cams_unit': 'kg/kg',\n",
    "        'who_threshold': 100.0,\n",
    "        'eac4_varname': 'go3'\n",
    "    },\n",
    "    'pm25': {\n",
    "        'name': 'fine particulate matter',\n",
    "        'cams_unit': 'kg/m^3',\n",
    "        'who_threshold': 15.0,\n",
    "        'eac4_varname': 'pm2p5'\n",
    "    },\n",
    "    'pm10': {\n",
    "        'name': 'coarse particulate matter',\n",
    "        'cams_unit': 'kg/m^3',\n",
    "        'who_threshold': 45.0,\n",
    "        'eac4_varname': 'pm10'\n",
    "    },\n",
    "    'co': {\n",
    "        'name': 'carbon monoxide',\n",
    "        'molar_mass': 28.01,\n",
    "        'cams_unit': 'kg/kg',\n",
    "        'who_threshold': 4000.0,\n",
    "        'eac4_varname': 'co'\n",
    "    }\n",
    "}"
   ]
  },
  {
   "cell_type": "code",
   "execution_count": 4,
   "id": "1fa0477e",
   "metadata": {},
   "outputs": [],
   "source": [
    "with open('aws_creds.json', 'r') as credfile:\n",
    "    aws_keys = json.loads(credfile.read())\n",
    "ACCESS_KEY = aws_keys['Access Key']\n",
    "SECRET_KEY = aws_keys['Secret Key']\n",
    "s3client = boto3.client(\n",
    "    service_name='s3',\n",
    "    aws_access_key_id=ACCESS_KEY,\n",
    "    aws_secret_access_key=SECRET_KEY\n",
    ")"
   ]
  },
  {
   "cell_type": "code",
   "execution_count": 3,
   "id": "e5b1a8ac",
   "metadata": {},
   "outputs": [],
   "source": [
    "pressuretemp = xr.open_dataset('data/pressure_temp_2020.nc')"
   ]
  },
  {
   "cell_type": "code",
   "execution_count": 7,
   "id": "4d0b18d2",
   "metadata": {},
   "outputs": [],
   "source": [
    "year = 2020\n",
    "bucket = 'cities-cities4forests'"
   ]
  },
  {
   "cell_type": "code",
   "execution_count": 43,
   "id": "bd50e07e",
   "metadata": {},
   "outputs": [],
   "source": [
    "# Create raster of exeedance days for ANY pollutant\n",
    "SAVE_SINGLE_POLLUTANT_EXCEEDANCEDAY_RASTERS = False\n",
    "\n",
    "for year in [2010, 2015, 2020]:\n",
    "    exceedances = {}\n",
    "    bucket = 'cities-cities4forests'\n",
    "    for species in SPECIES_INFO.keys():\n",
    "        varname = SPECIES_INFO[species]['eac4_varname']\n",
    "        local_filename = 'cams-eac4_{}_sfc_2020.nc'.format(species)\n",
    "        if not local_filename in os.listdir('.'):\n",
    "            f = s3client.download_file(bucket, 'data/air_pollution/cams/cams-eac4_{}_sfc_2020.nc'.format(species), local_filename)\n",
    "        nc_file = xr.open_dataset(local_filename)\n",
    "        mmr = nc_file[varname] \n",
    "        if species in ['no2', 'co', 'so2', 'o3']:\n",
    "\n",
    "            conc = mmr * pressuretemp['msl'] / (287.058 * pressuretemp['t2m'])\n",
    "            if species in ['no2', 'co', 'so2']:\n",
    "                conc_1D = conc.resample(time='1D').mean()\n",
    "                exc_days = (conc_1D * 10**9 >= SPECIES_INFO[species]['who_threshold']) * 1\n",
    "            else:\n",
    "                conc_8H = conc.resample(time='8H').mean()\n",
    "                conc_1D = conc_8H.resample(time='1D').max()\n",
    "                exc_days = (conc_1D * 10**9 >= SPECIES_INFO[species]['who_threshold']) * 1\n",
    "        else:\n",
    "            conc = nc_file[varname]\n",
    "            conc_1D = conc.resample(time='1D').mean()\n",
    "            exc_days = (conc_1D * 10**9 >= SPECIES_INFO[species]['who_threshold']) * 1\n",
    "        exceedances[species] = exc_days\n",
    "        if SAVE_SINGLE_POLLUTANT_EXCEEDANCEDAY_RASTERS:\n",
    "            x = exc_days\n",
    "            x = x.rio.set_spatial_dims(x_dim='longitude', y_dim='latitude')\n",
    "            x.rio.write_crs(\"epsg:4326\", inplace=True)\n",
    "            x.rio.to_raster(r\"cams-eac4-exceedancedays_{0}_{1}.tiff\".format(species, year))\n",
    "    exc_sum = exceedances[list(SPECIES_INFO.keys())[0]]\n",
    "    for species in list(SPECIES_INFO.keys())[1:]:\n",
    "        exc_sum += exceedances[species]\n",
    "    result = ((exc_sum > 0) * 1).sum(dim='time')\n",
    "\n",
    "    x = result\n",
    "    x = x.rio.set_spatial_dims(x_dim='longitude', y_dim='latitude')\n",
    "    x.rio.write_crs(\"epsg:4326\", inplace=True)\n",
    "    x.rio.to_raster(r\"cams-eac4-exceedancedays_{0}_{1}.tiff\".format('any', year))"
   ]
  },
  {
   "cell_type": "code",
   "execution_count": null,
   "id": "b07ed955",
   "metadata": {},
   "outputs": [],
   "source": []
  }
 ],
 "metadata": {
  "kernelspec": {
   "display_name": "Python 3 (ipykernel)",
   "language": "python",
   "name": "python3"
  },
  "language_info": {
   "codemirror_mode": {
    "name": "ipython",
    "version": 3
   },
   "file_extension": ".py",
   "mimetype": "text/x-python",
   "name": "python",
   "nbconvert_exporter": "python",
   "pygments_lexer": "ipython3",
   "version": "3.9.10"
  }
 },
 "nbformat": 4,
 "nbformat_minor": 5
}
