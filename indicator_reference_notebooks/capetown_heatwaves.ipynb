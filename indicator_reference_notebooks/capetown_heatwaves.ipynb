{
 "cells": [
  {
   "cell_type": "code",
   "execution_count": 1,
   "id": "8afa2fb7-a95a-450c-84ed-276e16cc4e62",
   "metadata": {},
   "outputs": [
    {
     "name": "stdout",
     "output_type": "stream",
     "text": [
      "Authenticating to GEE with configured credentials file.\n"
     ]
    }
   ],
   "source": [
    "import logging, requests, os, sys, boto3\n",
    "import matplotlib.pyplot as plt\n",
    "sys.path.append('C:/Users/tgwon/wri/cif/cities-cif')\n",
    "os.environ['GOOGLE_APPLICATION_USER'] = 'script-service-account@wri-gee.iam.gserviceaccount.com'\n",
    "os.environ['GOOGLE_APPLICATION_CREDENTIALS'] = 'C:/Users/tgwon/.google/credkey.json'\n",
    "sys.path = ['C:\\\\Users\\\\tgwon\\\\wri\\\\indicators', 'C:\\\\Users\\\\tgwon\\\\wri\\\\cif\\\\cities-cif', 'C:\\\\Users\\\\tgwon\\\\anaconda3\\\\envs\\\\cities-cif\\\\python310.zip', 'C:\\\\Users\\\\tgwon\\\\anaconda3\\\\envs\\\\cities-cif\\\\DLLs', 'C:\\\\Users\\\\tgwon\\\\anaconda3\\\\envs\\\\cities-cif\\\\lib', 'C:\\\\Users\\\\tgwon\\\\anaconda3\\\\envs\\\\cities-cif\\\\lib\\\\site-packages', 'C:\\\\Users\\\\tgwon\\\\anaconda3\\\\envs\\\\cities-cif\\\\lib\\\\site-packages\\\\win32', 'C:\\\\Users\\\\tgwon\\\\anaconda3\\\\envs\\\\cities-cif\\\\lib\\\\site-packages\\\\win32\\\\lib', 'C:\\\\Users\\\\tgwon\\\\anaconda3\\\\envs\\\\cities-cif\\\\lib\\\\site-packages\\\\Pythonwin',]\n",
    "\n",
    "from botocore.exceptions import ClientError\n",
    "import pandas as pd\n",
    "import geopandas as gpd\n",
    "from city_metrix.layers.layer_geometry import GeoExtent\n",
    "from city_metrix.metrics.expected_heat_hazard import future_heatwave_frequency, future_heatwave_maxduration"
   ]
  },
  {
   "cell_type": "code",
   "execution_count": 2,
   "id": "888b8543-3981-48f4-8afc-5cc58c9c5f54",
   "metadata": {},
   "outputs": [
    {
     "data": {
      "text/html": [
       "\n",
       "            <style>\n",
       "                .geemap-dark {\n",
       "                    --jp-widgets-color: white;\n",
       "                    --jp-widgets-label-color: white;\n",
       "                    --jp-ui-font-color1: white;\n",
       "                    --jp-layout-color2: #454545;\n",
       "                    background-color: #383838;\n",
       "                }\n",
       "\n",
       "                .geemap-dark .jupyter-button {\n",
       "                    --jp-layout-color3: #383838;\n",
       "                }\n",
       "\n",
       "                .geemap-colab {\n",
       "                    background-color: var(--colab-primary-surface-color, white);\n",
       "                }\n",
       "\n",
       "                .geemap-colab .jupyter-button {\n",
       "                    --jp-layout-color3: var(--colab-primary-surface-color, white);\n",
       "                }\n",
       "            </style>\n",
       "            "
      ],
      "text/plain": [
       "<IPython.core.display.HTML object>"
      ]
     },
     "metadata": {},
     "output_type": "display_data"
    }
   ],
   "source": [
    "LOCAL_PREFIX = 'C:/Users/tgwon/wri/indicators'\n",
    "START_YEARS = [2020, 2030, 2040, 2050, 2060, 2070, 2080, 2090]"
   ]
  },
  {
   "cell_type": "code",
   "execution_count": 3,
   "id": "ae2036bb-d577-48ab-8c8f-680658ec832e",
   "metadata": {},
   "outputs": [
    {
     "data": {
      "text/html": [
       "\n",
       "            <style>\n",
       "                .geemap-dark {\n",
       "                    --jp-widgets-color: white;\n",
       "                    --jp-widgets-label-color: white;\n",
       "                    --jp-ui-font-color1: white;\n",
       "                    --jp-layout-color2: #454545;\n",
       "                    background-color: #383838;\n",
       "                }\n",
       "\n",
       "                .geemap-dark .jupyter-button {\n",
       "                    --jp-layout-color3: #383838;\n",
       "                }\n",
       "\n",
       "                .geemap-colab {\n",
       "                    background-color: var(--colab-primary-surface-color, white);\n",
       "                }\n",
       "\n",
       "                .geemap-colab .jupyter-button {\n",
       "                    --jp-layout-color3: var(--colab-primary-surface-color, white);\n",
       "                }\n",
       "            </style>\n",
       "            "
      ],
      "text/plain": [
       "<IPython.core.display.HTML object>"
      ]
     },
     "metadata": {},
     "output_type": "display_data"
    }
   ],
   "source": [
    "# Set up for S3 uploads\n",
    "\n",
    "SESSION = boto3.Session(profile_name='CitiesUserPermissionSet-540362055257')\n",
    "BUCKET = 'wri-cities-indicators'\n",
    "S3_OUTPUT_PREFIX = 'devdata/ted_misc'\n",
    "\n",
    "def upload_s3(session, file_name, bucket, object_name):\n",
    "    s3_client = session.client('s3')\n",
    "    try:\n",
    "        response = s3_client.upload_file(file_name, bucket, object_name, ExtraArgs={'ACL': 'public-read'})\n",
    "    except ClientError as e:\n",
    "        logging.error(e)\n",
    "        return False\n",
    "    return True"
   ]
  },
  {
   "cell_type": "code",
   "execution_count": 4,
   "id": "f9973c9b-223f-41e1-bb71-a36e2f4b75d1",
   "metadata": {},
   "outputs": [
    {
     "data": {
      "text/html": [
       "\n",
       "            <style>\n",
       "                .geemap-dark {\n",
       "                    --jp-widgets-color: white;\n",
       "                    --jp-widgets-label-color: white;\n",
       "                    --jp-ui-font-color1: white;\n",
       "                    --jp-layout-color2: #454545;\n",
       "                    background-color: #383838;\n",
       "                }\n",
       "\n",
       "                .geemap-dark .jupyter-button {\n",
       "                    --jp-layout-color3: #383838;\n",
       "                }\n",
       "\n",
       "                .geemap-colab {\n",
       "                    background-color: var(--colab-primary-surface-color, white);\n",
       "                }\n",
       "\n",
       "                .geemap-colab .jupyter-button {\n",
       "                    --jp-layout-color3: var(--colab-primary-surface-color, white);\n",
       "                }\n",
       "            </style>\n",
       "            "
      ],
      "text/plain": [
       "<IPython.core.display.HTML object>"
      ]
     },
     "metadata": {},
     "output_type": "display_data"
    }
   ],
   "source": [
    "# Get Cape Town boundary\n",
    "\n",
    "CITYDATA_URL = 'https://cities-data-api.wri.org/cities'\n",
    "citydata = requests.get(CITYDATA_URL).json()\n",
    "cities = citydata['cities']\n",
    "capetown = [c for c in cities if c['name']=='Cape Town'][0]\n",
    "capetown_gdf = gpd.GeoDataFrame.from_file(capetown['layers_url']['geojson'])"
   ]
  },
  {
   "cell_type": "code",
   "execution_count": 5,
   "id": "482b1985-8f71-41e8-96b7-e0632c9d2142",
   "metadata": {},
   "outputs": [
    {
     "data": {
      "text/html": [
       "\n",
       "            <style>\n",
       "                .geemap-dark {\n",
       "                    --jp-widgets-color: white;\n",
       "                    --jp-widgets-label-color: white;\n",
       "                    --jp-ui-font-color1: white;\n",
       "                    --jp-layout-color2: #454545;\n",
       "                    background-color: #383838;\n",
       "                }\n",
       "\n",
       "                .geemap-dark .jupyter-button {\n",
       "                    --jp-layout-color3: #383838;\n",
       "                }\n",
       "\n",
       "                .geemap-colab {\n",
       "                    background-color: var(--colab-primary-surface-color, white);\n",
       "                }\n",
       "\n",
       "                .geemap-colab .jupyter-button {\n",
       "                    --jp-layout-color3: var(--colab-primary-surface-color, white);\n",
       "                }\n",
       "            </style>\n",
       "            "
      ],
      "text/plain": [
       "<IPython.core.display.HTML object>"
      ]
     },
     "metadata": {},
     "output_type": "display_data"
    },
    {
     "name": "stdout",
     "output_type": "stream",
     "text": [
      "2020\n",
      "0 of 1\n",
      "2030\n",
      "0 of 1\n",
      "2040\n",
      "0 of 1\n",
      "2050\n",
      "0 of 1\n",
      "2060\n",
      "0 of 1\n",
      "2070\n",
      "0 of 1\n",
      "2080\n",
      "0 of 1\n",
      "2090\n",
      "0 of 1\n"
     ]
    },
    {
     "data": {
      "text/plain": [
       "True"
      ]
     },
     "execution_count": 5,
     "metadata": {},
     "output_type": "execute_result"
    }
   ],
   "source": [
    "# Get heatwave frequency data\n",
    "# Store locally\n",
    "# Upload to S3\n",
    "\n",
    "results = []\n",
    "for year in START_YEARS:\n",
    "    print(year)\n",
    "    results.append(future_heatwave_frequency(start_year=year, end_year=year+9, zones=capetown_gdf))\n",
    "res_freq = pd.DataFrame(\\\n",
    "    {\\\n",
    "        'decade': [f'{year}__{year+9}' for year in START_YEARS],\\\n",
    "        'estimate_rank1': [float(result.model_1[0]) for result in results],\\\n",
    "        'estimate_rank2': [float(result.model_2[0]) for result in results],\\\n",
    "        'estimate_rank3': [float(result.model_3[0]) for result in results]\\\n",
    "    }\\\n",
    ")\n",
    "oname = 'heatwave_frequency__ZAF-Cape_Town.json'\n",
    "with open(f'{LOCAL_PREFIX}/{oname}', 'w') as ofile:\n",
    "    ofile.write(res_freq.to_json())\n",
    "upload_s3(SESSION, f'{LOCAL_PREFIX}/{oname}', BUCKET, f'{S3_OUTPUT_PREFIX}/{oname}')"
   ]
  },
  {
   "cell_type": "code",
   "execution_count": 11,
   "id": "cf278b0e-617b-4604-bced-a070c6df01cf",
   "metadata": {},
   "outputs": [
    {
     "data": {
      "text/html": [
       "\n",
       "            <style>\n",
       "                .geemap-dark {\n",
       "                    --jp-widgets-color: white;\n",
       "                    --jp-widgets-label-color: white;\n",
       "                    --jp-ui-font-color1: white;\n",
       "                    --jp-layout-color2: #454545;\n",
       "                    background-color: #383838;\n",
       "                }\n",
       "\n",
       "                .geemap-dark .jupyter-button {\n",
       "                    --jp-layout-color3: #383838;\n",
       "                }\n",
       "\n",
       "                .geemap-colab {\n",
       "                    background-color: var(--colab-primary-surface-color, white);\n",
       "                }\n",
       "\n",
       "                .geemap-colab .jupyter-button {\n",
       "                    --jp-layout-color3: var(--colab-primary-surface-color, white);\n",
       "                }\n",
       "            </style>\n",
       "            "
      ],
      "text/plain": [
       "<IPython.core.display.HTML object>"
      ]
     },
     "metadata": {},
     "output_type": "display_data"
    },
    {
     "data": {
      "text/plain": [
       "<Figure size 1500x480 with 0 Axes>"
      ]
     },
     "metadata": {},
     "output_type": "display_data"
    },
    {
     "data": {
      "image/png": "[encoded data removed]",
      "text/plain": [
       "<Figure size 640x200 with 1 Axes>"
      ]
     },
     "metadata": {},
     "output_type": "display_data"
    }
   ],
   "source": [
    "# Visualize HW freqs\n",
    "\n",
    "plt.figure().set_figwidth(15)\n",
    "plt.figure().set_figheight(2)\n",
    "plt.ylabel('Avg duration of longest HW')\n",
    "plt.rcParams.update({'font.size': 6})\n",
    "decades = [i.replace('__', '-') for i in res_freq.decade]\n",
    "\n",
    "plt.plot(decades, res_freq.estimate_rank1, label='Rank 1 estimate')\n",
    "plt.plot(decades, res_freq.estimate_rank2, label='Rank 2 estimate')\n",
    "plt.plot(decades, res_freq.estimate_rank3, label='Rank 3 estimate')\n",
    "\n",
    "plt.legend()\n",
    "plt.show()"
   ]
  },
  {
   "cell_type": "code",
   "execution_count": 8,
   "id": "c246ac0f-b978-4821-9ef8-3fc968491c25",
   "metadata": {},
   "outputs": [
    {
     "data": {
      "text/html": [
       "\n",
       "            <style>\n",
       "                .geemap-dark {\n",
       "                    --jp-widgets-color: white;\n",
       "                    --jp-widgets-label-color: white;\n",
       "                    --jp-ui-font-color1: white;\n",
       "                    --jp-layout-color2: #454545;\n",
       "                    background-color: #383838;\n",
       "                }\n",
       "\n",
       "                .geemap-dark .jupyter-button {\n",
       "                    --jp-layout-color3: #383838;\n",
       "                }\n",
       "\n",
       "                .geemap-colab {\n",
       "                    background-color: var(--colab-primary-surface-color, white);\n",
       "                }\n",
       "\n",
       "                .geemap-colab .jupyter-button {\n",
       "                    --jp-layout-color3: var(--colab-primary-surface-color, white);\n",
       "                }\n",
       "            </style>\n",
       "            "
      ],
      "text/plain": [
       "<IPython.core.display.HTML object>"
      ]
     },
     "metadata": {},
     "output_type": "display_data"
    },
    {
     "name": "stdout",
     "output_type": "stream",
     "text": [
      "2020\n",
      "0 of 1\n",
      "2030\n",
      "0 of 1\n",
      "2040\n",
      "0 of 1\n",
      "2050\n",
      "0 of 1\n",
      "2060\n",
      "0 of 1\n",
      "2070\n",
      "0 of 1\n",
      "2080\n",
      "0 of 1\n",
      "2090\n",
      "0 of 1\n"
     ]
    },
    {
     "data": {
      "text/plain": [
       "True"
      ]
     },
     "execution_count": 8,
     "metadata": {},
     "output_type": "execute_result"
    }
   ],
   "source": [
    "# Get heatwave max-duration data\n",
    "# Store locally\n",
    "# Upload to S3\n",
    "\n",
    "results = []\n",
    "for year in START_YEARS:\n",
    "    print(year)\n",
    "    results.append(future_heatwave_maxduration(start_year=year, end_year=year+9, zones=capetown_gdf))\n",
    "res_maxdur = pd.DataFrame(\\\n",
    "    {\\\n",
    "        'decade': [f'{year}__{year+9}' for year in START_YEARS],\\\n",
    "        'estimate_rank1': [float(result.model_1[0]) for result in results],\\\n",
    "        'estimate_rank2': [float(result.model_2[0]) for result in results],\\\n",
    "        'estimate_rank3': [float(result.model_3[0]) for result in results]\\\n",
    "    }\\\n",
    ")\n",
    "oname = 'heatwave_maxduration__ZAF-Cape_Town.json'\n",
    "with open(f'{LOCAL_PREFIX}/{oname}', 'w') as ofile:\n",
    "    ofile.write(res_maxdur.to_json())\n",
    "upload_s3(SESSION, f'{LOCAL_PREFIX}/{oname}', BUCKET, f'{S3_OUTPUT_PREFIX}/{oname}')"
   ]
  },
  {
   "cell_type": "code",
   "execution_count": 10,
   "id": "87bde8e4-0828-4e6e-ab70-f014e98b2c40",
   "metadata": {},
   "outputs": [
    {
     "data": {
      "text/html": [
       "\n",
       "            <style>\n",
       "                .geemap-dark {\n",
       "                    --jp-widgets-color: white;\n",
       "                    --jp-widgets-label-color: white;\n",
       "                    --jp-ui-font-color1: white;\n",
       "                    --jp-layout-color2: #454545;\n",
       "                    background-color: #383838;\n",
       "                }\n",
       "\n",
       "                .geemap-dark .jupyter-button {\n",
       "                    --jp-layout-color3: #383838;\n",
       "                }\n",
       "\n",
       "                .geemap-colab {\n",
       "                    background-color: var(--colab-primary-surface-color, white);\n",
       "                }\n",
       "\n",
       "                .geemap-colab .jupyter-button {\n",
       "                    --jp-layout-color3: var(--colab-primary-surface-color, white);\n",
       "                }\n",
       "            </style>\n",
       "            "
      ],
      "text/plain": [
       "<IPython.core.display.HTML object>"
      ]
     },
     "metadata": {},
     "output_type": "display_data"
    },
    {
     "data": {
      "text/plain": [
       "<Figure size 1500x480 with 0 Axes>"
      ]
     },
     "metadata": {},
     "output_type": "display_data"
    },
    {
     "data": {
      "image/png": "[encoded data removed]",
      "text/plain": [
       "<Figure size 640x200 with 1 Axes>"
      ]
     },
     "metadata": {},
     "output_type": "display_data"
    }
   ],
   "source": [
    "# Visualize HW max-durations\n",
    "\n",
    "plt.figure().set_figwidth(15)\n",
    "plt.figure().set_figheight(2)\n",
    "plt.ylabel('Avg duration of longest HW')\n",
    "plt.rcParams.update({'font.size': 6})\n",
    "decades = [i.replace('__', '-') for i in res_maxdur.decade]\n",
    "\n",
    "plt.plot(decades, res_maxdur.estimate_rank1, label='Rank 1 estimate')\n",
    "plt.plot(decades, res_maxdur.estimate_rank2, label='Rank 2 estimate')\n",
    "plt.plot(decades, res_maxdur.estimate_rank3, label='Rank 3 estimate')\n",
    "\n",
    "plt.legend()\n",
    "plt.show()"
   ]
  },
  {
   "cell_type": "code",
   "execution_count": null,
   "id": "0d0407d9-c561-440b-9690-f2ee55b3544f",
   "metadata": {},
   "outputs": [],
   "source": []
  }
 ],
 "metadata": {
  "kernelspec": {
   "display_name": "Python 3 (ipykernel)",
   "language": "python",
   "name": "python3"
  },
  "language_info": {
   "codemirror_mode": {
    "name": "ipython",
    "version": 3
   },
   "file_extension": ".py",
   "mimetype": "text/x-python",
   "name": "python",
   "nbconvert_exporter": "python",
   "pygments_lexer": "ipython3",
   "version": "3.10.16"
  }
 },
 "nbformat": 4,
 "nbformat_minor": 5
}
