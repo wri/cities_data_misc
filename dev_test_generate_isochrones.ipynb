{
 "cells": [
  {
   "cell_type": "code",
   "execution_count": 82,
   "id": "19003321-8a82-4c1e-a046-531c7d585f65",
   "metadata": {},
   "outputs": [
    {
     "data": {
      "text/html": [
       "\n",
       "            <style>\n",
       "                .geemap-dark {\n",
       "                    --jp-widgets-color: white;\n",
       "                    --jp-widgets-label-color: white;\n",
       "                    --jp-ui-font-color1: white;\n",
       "                    --jp-layout-color2: #454545;\n",
       "                    background-color: #383838;\n",
       "                }\n",
       "\n",
       "                .geemap-dark .jupyter-button {\n",
       "                    --jp-layout-color3: #383838;\n",
       "                }\n",
       "\n",
       "                .geemap-colab {\n",
       "                    background-color: var(--colab-primary-surface-color, white);\n",
       "                }\n",
       "\n",
       "                .geemap-colab .jupyter-button {\n",
       "                    --jp-layout-color3: var(--colab-primary-surface-color, white);\n",
       "                }\n",
       "            </style>\n",
       "            "
      ],
      "text/plain": [
       "<IPython.core.display.HTML object>"
      ]
     },
     "metadata": {},
     "output_type": "display_data"
    }
   ],
   "source": [
    "import os, sys, requests, json, pathlib, datetime, shapely\n",
    "import numpy as np\n",
    "import pandas as pd\n",
    "import geopandas as gpd\n",
    "import xarray as xr\n",
    "import r5py\n",
    "import geocube\n",
    "from geocube.api.core import make_geocube\n",
    "from geocube.rasterize import rasterize_points_griddata, rasterize_points_radial\n",
    "os.chdir('C:/Users/tgwon/wri/cif/cities-cif')\n",
    "sys.path.append('C:/Users/tgwon/wri/cif/cities-cif')\n",
    "os.environ['GOOGLE_APPLICATION_USER'] = 'script-service-account@wri-gee.iam.gserviceaccount.com'\n",
    "os.environ['GOOGLE_APPLICATION_CREDENTIALS'] = 'C:/Users/tgwon/.google/credkey.json'\n",
    "sys.path = ['C:\\\\Users\\\\tgwon\\\\wri\\\\indicators', 'C:\\\\Users\\\\tgwon\\\\wri\\\\cif\\\\cities-cif', 'C:\\\\Users\\\\tgwon\\\\anaconda3\\\\envs\\\\cities-cif\\\\python310.zip', 'C:\\\\Users\\\\tgwon\\\\anaconda3\\\\envs\\\\cities-cif\\\\DLLs', 'C:\\\\Users\\\\tgwon\\\\anaconda3\\\\envs\\\\cities-cif\\\\lib', 'C:\\\\Users\\\\tgwon\\\\anaconda3\\\\envs\\\\cities-cif\\\\lib\\\\site-packages', 'C:\\\\Users\\\\tgwon\\\\anaconda3\\\\envs\\\\cities-cif\\\\lib\\\\site-packages\\\\win32', 'C:\\\\Users\\\\tgwon\\\\anaconda3\\\\envs\\\\cities-cif\\\\lib\\\\site-packages\\\\win32\\\\lib', 'C:\\\\Users\\\\tgwon\\\\anaconda3\\\\envs\\\\cities-cif\\\\lib\\\\site-packages\\\\Pythonwin',]\n",
    "\n",
    "from city_metrix.layers import WorldPop, UrbanExtents\n",
    "from city_metrix.layers.layer_geometry import GeoExtent"
   ]
  },
  {
   "cell_type": "code",
   "execution_count": 10,
   "id": "adffc2ab-6652-43aa-8e09-30251d7ce367",
   "metadata": {},
   "outputs": [
    {
     "data": {
      "text/html": [
       "\n",
       "            <style>\n",
       "                .geemap-dark {\n",
       "                    --jp-widgets-color: white;\n",
       "                    --jp-widgets-label-color: white;\n",
       "                    --jp-ui-font-color1: white;\n",
       "                    --jp-layout-color2: #454545;\n",
       "                    background-color: #383838;\n",
       "                }\n",
       "\n",
       "                .geemap-dark .jupyter-button {\n",
       "                    --jp-layout-color3: #383838;\n",
       "                }\n",
       "\n",
       "                .geemap-colab {\n",
       "                    background-color: var(--colab-primary-surface-color, white);\n",
       "                }\n",
       "\n",
       "                .geemap-colab .jupyter-button {\n",
       "                    --jp-layout-color3: var(--colab-primary-surface-color, white);\n",
       "                }\n",
       "            </style>\n",
       "            "
      ],
      "text/plain": [
       "<IPython.core.display.HTML object>"
      ]
     },
     "metadata": {},
     "output_type": "display_data"
    },
    {
     "data": {
      "text/html": [
       "<div>\n",
       "<style scoped>\n",
       "    .dataframe tbody tr th:only-of-type {\n",
       "        vertical-align: middle;\n",
       "    }\n",
       "\n",
       "    .dataframe tbody tr th {\n",
       "        vertical-align: top;\n",
       "    }\n",
       "\n",
       "    .dataframe thead th {\n",
       "        text-align: right;\n",
       "    }\n",
       "</style>\n",
       "<table border=\"1\" class=\"dataframe\">\n",
       "  <thead>\n",
       "    <tr style=\"text-align: right;\">\n",
       "      <th></th>\n",
       "      <th>index</th>\n",
       "      <th>id</th>\n",
       "      <th>amenityclass_road</th>\n",
       "      <th>geometry</th>\n",
       "    </tr>\n",
       "  </thead>\n",
       "  <tbody>\n",
       "    <tr>\n",
       "      <th>0</th>\n",
       "      <td>0</td>\n",
       "      <td>0</td>\n",
       "      <td>True</td>\n",
       "      <td>POINT (-58.38529 -34.60049)</td>\n",
       "    </tr>\n",
       "    <tr>\n",
       "      <th>1</th>\n",
       "      <td>1</td>\n",
       "      <td>1</td>\n",
       "      <td>True</td>\n",
       "      <td>POINT (-58.38488 -34.60157)</td>\n",
       "    </tr>\n",
       "    <tr>\n",
       "      <th>2</th>\n",
       "      <td>2</td>\n",
       "      <td>2</td>\n",
       "      <td>True</td>\n",
       "      <td>POINT (-58.38455 -34.60046)</td>\n",
       "    </tr>\n",
       "    <tr>\n",
       "      <th>3</th>\n",
       "      <td>3</td>\n",
       "      <td>3</td>\n",
       "      <td>True</td>\n",
       "      <td>POINT (-58.38451 -34.60263)</td>\n",
       "    </tr>\n",
       "    <tr>\n",
       "      <th>4</th>\n",
       "      <td>4</td>\n",
       "      <td>4</td>\n",
       "      <td>True</td>\n",
       "      <td>POINT (-58.38433 -34.60054)</td>\n",
       "    </tr>\n",
       "    <tr>\n",
       "      <th>...</th>\n",
       "      <td>...</td>\n",
       "      <td>...</td>\n",
       "      <td>...</td>\n",
       "      <td>...</td>\n",
       "    </tr>\n",
       "    <tr>\n",
       "      <th>23589</th>\n",
       "      <td>31699</td>\n",
       "      <td>31699</td>\n",
       "      <td>True</td>\n",
       "      <td>POINT (-58.4904 -34.57111)</td>\n",
       "    </tr>\n",
       "    <tr>\n",
       "      <th>23590</th>\n",
       "      <td>31700</td>\n",
       "      <td>31700</td>\n",
       "      <td>True</td>\n",
       "      <td>POINT (-58.4898 -34.57166)</td>\n",
       "    </tr>\n",
       "    <tr>\n",
       "      <th>23591</th>\n",
       "      <td>31704</td>\n",
       "      <td>31704</td>\n",
       "      <td>True</td>\n",
       "      <td>POINT (-57.94129 -34.90402)</td>\n",
       "    </tr>\n",
       "    <tr>\n",
       "      <th>23592</th>\n",
       "      <td>31705</td>\n",
       "      <td>31705</td>\n",
       "      <td>True</td>\n",
       "      <td>POINT (-57.94122 -34.90409)</td>\n",
       "    </tr>\n",
       "    <tr>\n",
       "      <th>23593</th>\n",
       "      <td>31706</td>\n",
       "      <td>31706</td>\n",
       "      <td>True</td>\n",
       "      <td>POINT (-57.94105 -34.90407)</td>\n",
       "    </tr>\n",
       "  </tbody>\n",
       "</table>\n",
       "<p>23594 rows × 4 columns</p>\n",
       "</div>"
      ],
      "text/plain": [
       "       index     id  amenityclass_road                     geometry\n",
       "0          0      0               True  POINT (-58.38529 -34.60049)\n",
       "1          1      1               True  POINT (-58.38488 -34.60157)\n",
       "2          2      2               True  POINT (-58.38455 -34.60046)\n",
       "3          3      3               True  POINT (-58.38451 -34.60263)\n",
       "4          4      4               True  POINT (-58.38433 -34.60054)\n",
       "...      ...    ...                ...                          ...\n",
       "23589  31699  31699               True   POINT (-58.4904 -34.57111)\n",
       "23590  31700  31700               True   POINT (-58.4898 -34.57166)\n",
       "23591  31704  31704               True  POINT (-57.94129 -34.90402)\n",
       "23592  31705  31705               True  POINT (-57.94122 -34.90409)\n",
       "23593  31706  31706               True  POINT (-57.94105 -34.90407)\n",
       "\n",
       "[23594 rows x 4 columns]"
      ]
     },
     "execution_count": 10,
     "metadata": {},
     "output_type": "execute_result"
    }
   ],
   "source": [
    "# Get geodataframe of amenity points from file\n",
    "\n",
    "points = gpd.GeoDataFrame.from_file('C:/Users/tgwon/wri/indicators/amenitypoints/points__public_open_space__ARG-Buenos_Aires__urbextbound.geojson')\n",
    "points"
   ]
  },
  {
   "cell_type": "code",
   "execution_count": 5,
   "id": "cd5d826c-a4fa-4895-8fff-f4ba5a443050",
   "metadata": {},
   "outputs": [
    {
     "data": {
      "text/html": [
       "\n",
       "            <style>\n",
       "                .geemap-dark {\n",
       "                    --jp-widgets-color: white;\n",
       "                    --jp-widgets-label-color: white;\n",
       "                    --jp-ui-font-color1: white;\n",
       "                    --jp-layout-color2: #454545;\n",
       "                    background-color: #383838;\n",
       "                }\n",
       "\n",
       "                .geemap-dark .jupyter-button {\n",
       "                    --jp-layout-color3: #383838;\n",
       "                }\n",
       "\n",
       "                .geemap-colab {\n",
       "                    background-color: var(--colab-primary-surface-color, white);\n",
       "                }\n",
       "\n",
       "                .geemap-colab .jupyter-button {\n",
       "                    --jp-layout-color3: var(--colab-primary-surface-color, white);\n",
       "                }\n",
       "            </style>\n",
       "            "
      ],
      "text/plain": [
       "<IPython.core.display.HTML object>"
      ]
     },
     "metadata": {},
     "output_type": "display_data"
    },
    {
     "name": "stderr",
     "output_type": "stream",
     "text": [
      "Skipping field bbox: unsupported OGR type: 3\n",
      "Skipping field bbox: unsupported OGR type: 3\n"
     ]
    }
   ],
   "source": [
    "# Get admin bound from API, and get urban extent as geodataframe\n",
    "\n",
    "CITYDATA_URL = 'https://cities-data-api.wri.org/cities'\n",
    "citydata = requests.get(CITYDATA_URL).json()\n",
    "focal_cities = [c for c in citydata['cities'] if c['name']=='Buenos Aires']\n",
    "city = focal_cities[0]\n",
    "\n",
    "url = city['layers_url']['geojson']\n",
    "gpd.GeoDataFrame.from_file(url)\n",
    "city_admin = gpd.GeoDataFrame.from_file(url)\n",
    "\n",
    "the_city_urbext = UrbanExtents().get_data(GeoExtent(city_admin.total_bounds)).to_crs('EPSG:4326').dissolve()"
   ]
  },
  {
   "cell_type": "code",
   "execution_count": 7,
   "id": "51751dd7-bd0c-4682-ab11-de0dcfa9420a",
   "metadata": {},
   "outputs": [
    {
     "data": {
      "text/html": [
       "\n",
       "            <style>\n",
       "                .geemap-dark {\n",
       "                    --jp-widgets-color: white;\n",
       "                    --jp-widgets-label-color: white;\n",
       "                    --jp-ui-font-color1: white;\n",
       "                    --jp-layout-color2: #454545;\n",
       "                    background-color: #383838;\n",
       "                }\n",
       "\n",
       "                .geemap-dark .jupyter-button {\n",
       "                    --jp-layout-color3: #383838;\n",
       "                }\n",
       "\n",
       "                .geemap-colab {\n",
       "                    background-color: var(--colab-primary-surface-color, white);\n",
       "                }\n",
       "\n",
       "                .geemap-colab .jupyter-button {\n",
       "                    --jp-layout-color3: var(--colab-primary-surface-color, white);\n",
       "                }\n",
       "            </style>\n",
       "            "
      ],
      "text/plain": [
       "<IPython.core.display.HTML object>"
      ]
     },
     "metadata": {},
     "output_type": "display_data"
    },
    {
     "name": "stdout",
     "output_type": "stream",
     "text": [
      "Extracting layer world pop from Google Earth Engine for bbox :\n",
      "[########################################] | 100% Completed | 3.46 sms\n"
     ]
    }
   ],
   "source": [
    "# Create geodataframe of population-pixel points by vectorizing WorldPop raster. Include only those within the boundary of interest.\n",
    "\n",
    "bbox = GeoExtent(the_city_urbext.total_bounds)\n",
    "utm_crs = bbox.as_utm_bbox().crs\n",
    "worldpop_data = WorldPop(agesex_classes=[]).get_data(bbox)\n",
    "wp_df = worldpop_data.drop_vars(['time']).to_dataframe().reset_index()\n",
    "pop_points = gpd.GeoDataFrame(wp_df.population, geometry=gpd.points_from_xy(wp_df.x,wp_df.y))\n",
    "pop_points_geogr = pop_points.set_crs(utm_crs).to_crs('EPSG:4326')\n",
    "\n",
    "# Clip to boundary\n",
    "pop_points_clipped = pop_points_geogr.loc[pop_points_geogr.intersects(the_city_urbext.dissolve().geometry[0])]"
   ]
  },
  {
   "cell_type": "code",
   "execution_count": 8,
   "id": "088569a6-122c-4402-958c-0191fd47f1f0",
   "metadata": {},
   "outputs": [
    {
     "data": {
      "text/html": [
       "\n",
       "            <style>\n",
       "                .geemap-dark {\n",
       "                    --jp-widgets-color: white;\n",
       "                    --jp-widgets-label-color: white;\n",
       "                    --jp-ui-font-color1: white;\n",
       "                    --jp-layout-color2: #454545;\n",
       "                    background-color: #383838;\n",
       "                }\n",
       "\n",
       "                .geemap-dark .jupyter-button {\n",
       "                    --jp-layout-color3: #383838;\n",
       "                }\n",
       "\n",
       "                .geemap-colab {\n",
       "                    background-color: var(--colab-primary-surface-color, white);\n",
       "                }\n",
       "\n",
       "                .geemap-colab .jupyter-button {\n",
       "                    --jp-layout-color3: var(--colab-primary-surface-color, white);\n",
       "                }\n",
       "            </style>\n",
       "            "
      ],
      "text/plain": [
       "<IPython.core.display.HTML object>"
      ]
     },
     "metadata": {},
     "output_type": "display_data"
    },
    {
     "data": {
      "text/html": [
       "<div>\n",
       "<style scoped>\n",
       "    .dataframe tbody tr th:only-of-type {\n",
       "        vertical-align: middle;\n",
       "    }\n",
       "\n",
       "    .dataframe tbody tr th {\n",
       "        vertical-align: top;\n",
       "    }\n",
       "\n",
       "    .dataframe thead th {\n",
       "        text-align: right;\n",
       "    }\n",
       "</style>\n",
       "<table border=\"1\" class=\"dataframe\">\n",
       "  <thead>\n",
       "    <tr style=\"text-align: right;\">\n",
       "      <th></th>\n",
       "      <th>population</th>\n",
       "      <th>geometry</th>\n",
       "    </tr>\n",
       "  </thead>\n",
       "  <tbody>\n",
       "    <tr>\n",
       "      <th>15878</th>\n",
       "      <td>3.872722</td>\n",
       "      <td>POINT (-58.09357 -35.04939)</td>\n",
       "    </tr>\n",
       "    <tr>\n",
       "      <th>15879</th>\n",
       "      <td>4.176632</td>\n",
       "      <td>POINT (-58.09247 -35.0494)</td>\n",
       "    </tr>\n",
       "    <tr>\n",
       "      <th>15880</th>\n",
       "      <td>4.160919</td>\n",
       "      <td>POINT (-58.09137 -35.04941)</td>\n",
       "    </tr>\n",
       "    <tr>\n",
       "      <th>15881</th>\n",
       "      <td>3.464365</td>\n",
       "      <td>POINT (-58.09028 -35.04941)</td>\n",
       "    </tr>\n",
       "    <tr>\n",
       "      <th>15882</th>\n",
       "      <td>3.208935</td>\n",
       "      <td>POINT (-58.08918 -35.04942)</td>\n",
       "    </tr>\n",
       "    <tr>\n",
       "      <th>...</th>\n",
       "      <td>...</td>\n",
       "      <td>...</td>\n",
       "    </tr>\n",
       "    <tr>\n",
       "      <th>908804</th>\n",
       "      <td>6.233791</td>\n",
       "      <td>POINT (-58.78115 -34.29107)</td>\n",
       "    </tr>\n",
       "    <tr>\n",
       "      <th>908805</th>\n",
       "      <td>5.842262</td>\n",
       "      <td>POINT (-58.78006 -34.29109)</td>\n",
       "    </tr>\n",
       "    <tr>\n",
       "      <th>909872</th>\n",
       "      <td>6.098891</td>\n",
       "      <td>POINT (-58.78765 -34.29008)</td>\n",
       "    </tr>\n",
       "    <tr>\n",
       "      <th>909873</th>\n",
       "      <td>6.265943</td>\n",
       "      <td>POINT (-58.78656 -34.29009)</td>\n",
       "    </tr>\n",
       "    <tr>\n",
       "      <th>909874</th>\n",
       "      <td>6.038480</td>\n",
       "      <td>POINT (-58.78547 -34.29011)</td>\n",
       "    </tr>\n",
       "  </tbody>\n",
       "</table>\n",
       "<p>218299 rows × 2 columns</p>\n",
       "</div>"
      ],
      "text/plain": [
       "        population                     geometry\n",
       "15878     3.872722  POINT (-58.09357 -35.04939)\n",
       "15879     4.176632   POINT (-58.09247 -35.0494)\n",
       "15880     4.160919  POINT (-58.09137 -35.04941)\n",
       "15881     3.464365  POINT (-58.09028 -35.04941)\n",
       "15882     3.208935  POINT (-58.08918 -35.04942)\n",
       "...            ...                          ...\n",
       "908804    6.233791  POINT (-58.78115 -34.29107)\n",
       "908805    5.842262  POINT (-58.78006 -34.29109)\n",
       "909872    6.098891  POINT (-58.78765 -34.29008)\n",
       "909873    6.265943  POINT (-58.78656 -34.29009)\n",
       "909874    6.038480  POINT (-58.78547 -34.29011)\n",
       "\n",
       "[218299 rows x 2 columns]"
      ]
     },
     "execution_count": 8,
     "metadata": {},
     "output_type": "execute_result"
    }
   ],
   "source": [
    "pop_points_clipped"
   ]
  },
  {
   "cell_type": "code",
   "execution_count": 9,
   "id": "00699264-5ef2-447f-b92b-124bae756604",
   "metadata": {},
   "outputs": [
    {
     "data": {
      "text/html": [
       "\n",
       "            <style>\n",
       "                .geemap-dark {\n",
       "                    --jp-widgets-color: white;\n",
       "                    --jp-widgets-label-color: white;\n",
       "                    --jp-ui-font-color1: white;\n",
       "                    --jp-layout-color2: #454545;\n",
       "                    background-color: #383838;\n",
       "                }\n",
       "\n",
       "                .geemap-dark .jupyter-button {\n",
       "                    --jp-layout-color3: #383838;\n",
       "                }\n",
       "\n",
       "                .geemap-colab {\n",
       "                    background-color: var(--colab-primary-surface-color, white);\n",
       "                }\n",
       "\n",
       "                .geemap-colab .jupyter-button {\n",
       "                    --jp-layout-color3: var(--colab-primary-surface-color, white);\n",
       "                }\n",
       "            </style>\n",
       "            "
      ],
      "text/plain": [
       "<IPython.core.display.HTML object>"
      ]
     },
     "metadata": {},
     "output_type": "display_data"
    }
   ],
   "source": [
    "b = r5py.TransportNetwork(pathlib.Path('C:/Users/tgwon/wri/indicators/pbf/ARG-Buenos_Aires__urbextbound.osm.pbf'))"
   ]
  },
  {
   "cell_type": "code",
   "execution_count": null,
   "id": "0bb9887e-88c2-4eda-8127-46d179b058f4",
   "metadata": {},
   "outputs": [
    {
     "data": {
      "text/html": [
       "\n",
       "            <style>\n",
       "                .geemap-dark {\n",
       "                    --jp-widgets-color: white;\n",
       "                    --jp-widgets-label-color: white;\n",
       "                    --jp-ui-font-color1: white;\n",
       "                    --jp-layout-color2: #454545;\n",
       "                    background-color: #383838;\n",
       "                }\n",
       "\n",
       "                .geemap-dark .jupyter-button {\n",
       "                    --jp-layout-color3: #383838;\n",
       "                }\n",
       "\n",
       "                .geemap-colab {\n",
       "                    background-color: var(--colab-primary-surface-color, white);\n",
       "                }\n",
       "\n",
       "                .geemap-colab .jupyter-button {\n",
       "                    --jp-layout-color3: var(--colab-primary-surface-color, white);\n",
       "                }\n",
       "            </style>\n",
       "            "
      ],
      "text/plain": [
       "<IPython.core.display.HTML object>"
      ]
     },
     "metadata": {},
     "output_type": "display_data"
    },
    {
     "name": "stdout",
     "output_type": "stream",
     "text": [
      "0 1 2 3 4 5 6 7 8 9 10 11 12 13 14 15 16 17 18 19 20 21 22 23 24 25 26 27 28 29 30 31 32 33 34 35 36 37 38 39 40 41 42 43 44 45 46 47 48 49 50 51 52 53 54 55 56 57 58 59 60 61 62 63 64 65 66 67 68 69 70 71 72 73 74 75 76 77 78 79 80 81 82 83 84 85 86 87 88 89 90 91 92 93 94 95 96 97 98 99 100 101 102 103 104 105 106 107 108 109 110 111 112 113 114 115 116 117 118 119 120 121 122 123 124 125 126 127 128 129 130 131 132 133 134 135 136 137 138 139 140 141 142 143 144 145 146 147 148 149 150 151 152 153 154 155 156 157 158 159 160 161 162 163 164 165 166 167 168 169 170 171 172 173 174 175 176 177 178 179 180 181 182 183 184 185 186 187 188 189 190 191 192 193 194 195 196 197 198 199 200 201 202 203 204 205 206 207 208 209 210 211 212 213 214 215 216 217 218 219 220 221 222 223 224 225 226 227 228 229 230 231 232 233 234 235 236 237 238 239 240 241 242 243 244 245 246 247 248 249 250 251 252 253 254 255 256 257 258 259 260 261 262 263 264 265 266 267 268 269 270 271 272 273 274 275 276 277 278 279 280 281 282 283 284 285 286 287 288 289 290 291 292 293 294 295 296 297 298 299 300 301 302 303 304 305 306 307 308 309 310 311 312 313 314 315 316 317 318 319 320 321 322 323 324 325 326 327 328 329 330 331 332 333 334 335 336 337 338 339 340 341 342 343 344 345 346 347 348 349 350 351 352 353 354 355 356 357 358 359 360 361 362 363 364 365 366 367 368 369 370 371 372 373 374 375 376 377 378 379 380 381 382 383 384 385 386 387 388 389 390 391 392 393 394 395 396 397 398 399 400 401 402 403 404 405 406 407 408 409 410 411 412 413 414 415 416 417 418 419 420 421 422 423 424 425 426 427 428 429 430 431 432 433 434 435 436 437 438 439 440 441 442 443 444 445 446 447 448 449 450 451 452 453 454 455 456 457 458 459 460 461 462 463 464 465 466 467 468 469 470 471 472 473 474 475 476 477 478 479 480 481 482 483 484 485 486 487 488 489 490 491 492 493 494 495 496 497 498 499 500 501 502 503 504 505 506 507 508 509 510 511 512 513 514 515 516 517 518 519 520 521 522 523 524 525 526 527 528 529 530 531 532 533 534 535 536 537 538 539 540 541 542 543 544 545 546 547 548 549 550 551 552 553 554 555 556 557 558 559 560 561 562 563 564 565 566 567 568 569 570 571 572 573 574 575 576 577 578 579 580 581 582 583 584 585 586 587 588 589 590 591 592 593 594 595 596 597 598 599 600 601 602 603 604 605 606 607 608 609 610 611 612 613 614 615 616 617 618 619 620 621 622 623 624 625 626 627 628 629 630 631 632 633 634 635 636 637 638 639 640 641 642 643 644 645 646 647 648 649 650 651 652 653 654 655 656 657 658 659 660 661 662 663 664 665 666 667 668 669 670 671 672 673 674 675 676 677 678 679 680 681 682 683 684 685 686 687 688 689 690 691 692 693 694 695 696 697 698 699 700 701 702 703 704 705 706 707 708 709 710 711 712 713 714 715 716 717 718 719 720 721 722 723 724 725 726 727 728 729 730 731 732 733 734 735 736 737 738 739 740 741 742 743 744 745 746 747 748 749 750 751 752 753 754 755 756 757 758 759 760 761 762 763 764 765 766 767 768 769 770 771 772 773 774 775 776 777 778 779 780 781 782 783 784 785 786 787 788 789 790 791 792 793 794 795 796 797 798 799 800 801 802 803 804 805 806 807 808 809 810 811 812 813 814 815 816 817 818 819 820 821 822 823 824 825 826 827 828 829 "
     ]
    }
   ],
   "source": [
    "%%time\n",
    "res = pd.DataFrame({'to_id': pop_points_clipped.index, 'numpixels': [0] * len(pop_points_clipped)})\n",
    "for i in range(len(points)):\n",
    "    if i % 1 == 0:\n",
    "        print(i, end=' ', flush=True)\n",
    "    d = r5py.TravelTimeMatrix(transport_network=b, origins=gpd.GeoDataFrame({'id': [i], 'geometry': points.iloc[[i]].centroid}), destinations=gpd.GeoDataFrame({'id': range(len(pop_points_clipped)), 'geometry': pop_points_clipped.geometry}), transport_modes=[r5py.TransportMode.WALK], max_time=datetime.timedelta(minutes=15), max_time_walking=datetime.timedelta(minutes=15))\n",
    "    res.numpixels = res.numpixels + ((d.travel_time / d.travel_time).fillna(0))"
   ]
  },
  {
   "cell_type": "code",
   "execution_count": 144,
   "id": "97d45866-2001-421d-880d-43fdc19ada76",
   "metadata": {},
   "outputs": [
    {
     "data": {
      "text/html": [
       "\n",
       "            <style>\n",
       "                .geemap-dark {\n",
       "                    --jp-widgets-color: white;\n",
       "                    --jp-widgets-label-color: white;\n",
       "                    --jp-ui-font-color1: white;\n",
       "                    --jp-layout-color2: #454545;\n",
       "                    background-color: #383838;\n",
       "                }\n",
       "\n",
       "                .geemap-dark .jupyter-button {\n",
       "                    --jp-layout-color3: #383838;\n",
       "                }\n",
       "\n",
       "                .geemap-colab {\n",
       "                    background-color: var(--colab-primary-surface-color, white);\n",
       "                }\n",
       "\n",
       "                .geemap-colab .jupyter-button {\n",
       "                    --jp-layout-color3: var(--colab-primary-surface-color, white);\n",
       "                }\n",
       "            </style>\n",
       "            "
      ],
      "text/plain": [
       "<IPython.core.display.HTML object>"
      ]
     },
     "metadata": {},
     "output_type": "display_data"
    },
    {
     "name": "stdout",
     "output_type": "stream",
     "text": [
      "CPU times: total: 46.9 ms\n",
      "Wall time: 43.1 ms\n"
     ]
    }
   ],
   "source": [
    "# Take result dataframe and merge results back into the population-pixl geodataframe\n",
    "\n",
    "%%time\n",
    "pop_points['accessible_points'] = 0\n",
    "pop_points.loc[pop_points_clipped.index, 'accessible_points'] = res['numpixels']\n",
    "pop_points.accessible_points = pop_points.accessible_points.fillna(0).astype(int)"
   ]
  },
  {
   "cell_type": "code",
   "execution_count": 165,
   "id": "b3b835f5-79ea-406c-bb9d-c4720651713c",
   "metadata": {},
   "outputs": [
    {
     "data": {
      "text/html": [
       "\n",
       "            <style>\n",
       "                .geemap-dark {\n",
       "                    --jp-widgets-color: white;\n",
       "                    --jp-widgets-label-color: white;\n",
       "                    --jp-ui-font-color1: white;\n",
       "                    --jp-layout-color2: #454545;\n",
       "                    background-color: #383838;\n",
       "                }\n",
       "\n",
       "                .geemap-dark .jupyter-button {\n",
       "                    --jp-layout-color3: #383838;\n",
       "                }\n",
       "\n",
       "                .geemap-colab {\n",
       "                    background-color: var(--colab-primary-surface-color, white);\n",
       "                }\n",
       "\n",
       "                .geemap-colab .jupyter-button {\n",
       "                    --jp-layout-color3: var(--colab-primary-surface-color, white);\n",
       "                }\n",
       "            </style>\n",
       "            "
      ],
      "text/plain": [
       "<IPython.core.display.HTML object>"
      ]
     },
     "metadata": {},
     "output_type": "display_data"
    }
   ],
   "source": [
    "# Convert pop-pixel gdf with number-of-accessible-points data to raster\n",
    "\n",
    "geo_grid = make_geocube(\n",
    "    vector_data=pop_points.set_crs(worldpop_data.crs),\n",
    "    measurements=['accessible_points'],\n",
    "    like = worldpop_data,\n",
    "    rasterize_function=rasterize_points_griddata,\n",
    ")\n",
    "geo_grid.rio.to_raster('C:/Users/tgwon/wri/indicators/ba_test.tif', engine='GeoTIFF')"
   ]
  },
  {
   "cell_type": "code",
   "execution_count": null,
   "id": "535986fd-7116-4234-be55-cc4ca438acdd",
   "metadata": {},
   "outputs": [],
   "source": []
  },
  {
   "cell_type": "code",
   "execution_count": null,
   "id": "2975576e-f8c3-4527-a827-4a89ecf5ad2f",
   "metadata": {},
   "outputs": [],
   "source": []
  }
 ],
 "metadata": {
  "kernelspec": {
   "display_name": "Python 3 (ipykernel)",
   "language": "python",
   "name": "python3"
  },
  "language_info": {
   "codemirror_mode": {
    "name": "ipython",
    "version": 3
   },
   "file_extension": ".py",
   "mimetype": "text/x-python",
   "name": "python",
   "nbconvert_exporter": "python",
   "pygments_lexer": "ipython3",
   "version": "3.10.16"
  }
 },
 "nbformat": 4,
 "nbformat_minor": 5
}
