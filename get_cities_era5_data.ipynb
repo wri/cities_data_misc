{
 "cells": [
  {
   "cell_type": "code",
   "execution_count": 2,
   "id": "df0c608b-b01e-4701-9fa7-35d03aefda96",
   "metadata": {
    "tags": []
   },
   "outputs": [],
   "source": [
    "import planetary_computer\n",
    "import xarray as xr\n",
    "import fsspec\n",
    "import pystac_client\n",
    "\n",
    "import s3fs\n",
    "\n",
    "import pandas as pd\n",
    "\n",
    "\n",
    "import pandas as pd\n",
    "import dask\n",
    "import dask_gateway\n",
    "\n",
    "import dask.bag as db \n",
    "import dask.array as da\n",
    "\n",
    "\n",
    "from dask.distributed import wait\n",
    "\n",
    "\n",
    "import planetary_computer\n",
    "\n",
    "from datetime import datetime"
   ]
  },
  {
   "cell_type": "code",
   "execution_count": 3,
   "id": "cce541ff-f0f0-4953-bb36-6ff0d886cc7d",
   "metadata": {},
   "outputs": [],
   "source": [
    "gateway = dask_gateway.Gateway()\n",
    "cluster_options = gateway.cluster_options()"
   ]
  },
  {
   "cell_type": "code",
   "execution_count": 4,
   "id": "43d36227-3507-4a4a-bb39-ae4a13852212",
   "metadata": {},
   "outputs": [
    {
     "data": {
      "application/vnd.jupyter.widget-view+json": {
       "model_id": "924941c4115f4994acbba7f153fc2053",
       "version_major": 2,
       "version_minor": 0
      },
      "text/plain": [
       "VBox(children=(HTML(value='<h2>Cluster Options</h2>'), GridBox(children=(HTML(value=\"<p style='font-weight: bo…"
      ]
     },
     "metadata": {},
     "output_type": "display_data"
    },
    {
     "name": "stdout",
     "output_type": "stream",
     "text": [
      "Options<worker_cores=1.0,\n",
      "        worker_memory=8.0,\n",
      "        image='pcccr.azurecr.io/public/planetary-computer/python:2023.6.22.0',\n",
      "        gpu=False,\n",
      "        environment={'GDAL_DISABLE_READDIR_ON_OPEN': 'EMPTY_DIR',\n",
      "         'GDAL_HTTP_MERGE_CONSECUTIVE_RANGES': 'YES',\n",
      "         'GDAL_HTTP_MAX_RETRY': '5',\n",
      "         'GDAL_HTTP_RETRY_DELAY': '3',\n",
      "         'USE_PYGEOS': '0'}>\n"
     ]
    }
   ],
   "source": [
    "cluster_options"
   ]
  },
  {
   "cell_type": "code",
   "execution_count": 35,
   "id": "d64e8d1f-2a45-4181-bbd4-c5dbd9360355",
   "metadata": {},
   "outputs": [],
   "source": [
    "cluster = gateway.new_cluster(cluster_options)\n",
    "# cluster = dask_gateway.GatewayCluster(public_address=\"https://pccompute.westeurope.cloudapp.azure.com/compute/services/dask-gateway/clusters/prod.76e890ca286b43558f8cece0d48e0ff6/individual-scheduler-system\")\n",
    "client = cluster.get_client()\n",
    "\n",
    "cluster.adapt(minimum=100)"
   ]
  },
  {
   "cell_type": "code",
   "execution_count": 36,
   "id": "39d10a4c-6ae8-4264-9799-57822ddbee05",
   "metadata": {},
   "outputs": [
    {
     "data": {
      "text/html": [
       "<div>\n",
       "    <div style=\"width: 24px; height: 24px; background-color: #e1e1e1; border: 3px solid #9D9D9D; border-radius: 5px; position: absolute;\"> </div>\n",
       "    <div style=\"margin-left: 48px;\">\n",
       "        <h3 style=\"margin-bottom: 0px;\">Client</h3>\n",
       "        <p style=\"color: #9D9D9D; margin-bottom: 0px;\">Client-9f65d868-a5a0-11ee-818f-2aa6920a37e5</p>\n",
       "        <table style=\"width: 100%; text-align: left;\">\n",
       "\n",
       "        <tr>\n",
       "        \n",
       "            <td style=\"text-align: left;\"><strong>Connection method:</strong> Cluster object</td>\n",
       "            <td style=\"text-align: left;\"><strong>Cluster type:</strong> dask_gateway.GatewayCluster</td>\n",
       "        \n",
       "        </tr>\n",
       "\n",
       "        \n",
       "            <tr>\n",
       "                <td style=\"text-align: left;\">\n",
       "                    <strong>Dashboard: </strong> <a href=\"https://pccompute.westeurope.cloudapp.azure.com/compute/services/dask-gateway/clusters/prod.7385d6c95d2a4e07a5f3658b16d6256d/status\" target=\"_blank\">https://pccompute.westeurope.cloudapp.azure.com/compute/services/dask-gateway/clusters/prod.7385d6c95d2a4e07a5f3658b16d6256d/status</a>\n",
       "                </td>\n",
       "                <td style=\"text-align: left;\"></td>\n",
       "            </tr>\n",
       "        \n",
       "\n",
       "        </table>\n",
       "\n",
       "        \n",
       "            <button style=\"margin-bottom: 12px;\" data-commandlinker-command=\"dask:populate-and-launch-layout\" data-commandlinker-args='{\"url\": \"https://pccompute.westeurope.cloudapp.azure.com/compute/services/dask-gateway/clusters/prod.7385d6c95d2a4e07a5f3658b16d6256d/status\" }'>\n",
       "                Launch dashboard in JupyterLab\n",
       "            </button>\n",
       "        \n",
       "\n",
       "        \n",
       "            <details>\n",
       "            <summary style=\"margin-bottom: 20px;\"><h3 style=\"display: inline;\">Cluster Info</h3></summary>\n",
       "            <div style='background-color: #f2f2f2; display: inline-block; padding: 10px; border: 1px solid #999999;'>\n",
       "  <h3>GatewayCluster</h3>\n",
       "  <ul>\n",
       "    <li><b>Name: </b>prod.7385d6c95d2a4e07a5f3658b16d6256d\n",
       "    <li><b>Dashboard: </b><a href='https://pccompute.westeurope.cloudapp.azure.com/compute/services/dask-gateway/clusters/prod.7385d6c95d2a4e07a5f3658b16d6256d/status' target='_blank'>https://pccompute.westeurope.cloudapp.azure.com/compute/services/dask-gateway/clusters/prod.7385d6c95d2a4e07a5f3658b16d6256d/status</a>\n",
       "  </ul>\n",
       "</div>\n",
       "\n",
       "            </details>\n",
       "        \n",
       "\n",
       "    </div>\n",
       "</div>"
      ],
      "text/plain": [
       "<Client: 'tls://10.244.3.240:8786' processes=0 threads=0, memory=0 B>"
      ]
     },
     "execution_count": 36,
     "metadata": {},
     "output_type": "execute_result"
    }
   ],
   "source": [
    "client"
   ]
  },
  {
   "cell_type": "code",
   "execution_count": 7,
   "id": "a110fa45-b345-46b0-9b92-fea57474d731",
   "metadata": {
    "tags": []
   },
   "outputs": [
    {
     "name": "stderr",
     "output_type": "stream",
     "text": [
      "/srv/conda/envs/notebook/lib/python3.11/site-packages/pystac_client/item_search.py:841: FutureWarning: get_all_items() is deprecated, use item_collection() instead.\n",
      "  warnings.warn(\n"
     ]
    }
   ],
   "source": [
    "import pystac_client\n",
    "\n",
    "catalog = pystac_client.Client.open(\n",
    "    \"https://planetarycomputer.microsoft.com/api/stac/v1/\"\n",
    ")\n",
    "search = catalog.search(\n",
    "    collections=[\"era5-pds\"], datetime=\"1980/2014\")\n",
    "items = search.get_all_items()\n",
    "\n",
    "items = sorted(list(items), key=lambda x: x.to_dict()['properties']['end_datetime'])"
   ]
  },
  {
   "cell_type": "code",
   "execution_count": 30,
   "id": "538e1fc3-c42b-4fb8-a9c2-bf6e5b67b1ba",
   "metadata": {
    "tags": []
   },
   "outputs": [
    {
     "name": "stdout",
     "output_type": "stream",
     "text": [
      "CPU times: user 8.37 s, sys: 640 ms, total: 9.01 s\n",
      "Wall time: 25.7 s\n"
     ]
    }
   ],
   "source": [
    "%%time\n",
    "# ds = xr.open_mfdataset(\n",
    "#     [\n",
    "#         fsspec.open(asset.href).open() for item in items for asset in item.assets.values()\n",
    "#     ],\n",
    "#     chunks=\"auto\"\n",
    "# )\n",
    "\n",
    "# signed_item = planetary_computer.sign(item)\n",
    "\n",
    "era5_variables = [\n",
    "    # 'air_temperature_at_2_metres_1hour_Minimum',\n",
    "    # 'air_temperature_at_2_metres_1hour_Maximum',\n",
    "    # 'air_temperature_at_2_metres',\n",
    "    # 'precipitation_amount_1hour_Accumulation',\n",
    "    # 'dew_point_temperature_at_2_metres',\n",
    "]\n",
    "\n",
    "variable = 'dew_point_temperature_at_2_metres'\n",
    "\n",
    "datasets = [\n",
    "    xr.open_dataset(asset.href, **asset.extra_fields[\"xarray:open_kwargs\"])\n",
    "    for item in items[400:] for asset in planetary_computer.sign(item).assets.values()\n",
    "    if asset.href.split('/')[-1].split('.')[0] == variable\n",
    "]\n"
   ]
  },
  {
   "cell_type": "code",
   "execution_count": 11,
   "id": "d4084a99-8c90-42e8-b862-0652ea049394",
   "metadata": {
    "tags": []
   },
   "outputs": [],
   "source": [
    "for dataset in datasets:\n",
    "    # get rid of inconsistent attribute names that raise exception when merging\n",
    "    if getattr(dataset, 'air_temperature_at_2_metres_1hour_Maximum', None) is not None:\n",
    "        dataset.air_temperature_at_2_metres_1hour_Maximum.attrs.pop('nameCDM')\n"
   ]
  },
  {
   "cell_type": "code",
   "execution_count": 37,
   "id": "03baf74b-e855-47c6-b558-f5d8d292ec98",
   "metadata": {},
   "outputs": [
    {
     "name": "stdout",
     "output_type": "stream",
     "text": [
      "CPU times: user 2min 38s, sys: 5.7 s, total: 2min 44s\n",
      "Wall time: 43min 12s\n"
     ]
    }
   ],
   "source": [
    "%%time\n",
    "\n",
    "ds = xr.combine_by_coords(datasets, join=\"exact\", data_vars=\"minimal\")\n",
    "# ds = (ds.precipitation_amount_1hour_Accumulation.resample(time='D').sum() * 1000 / 86400).to_dataset().persist()\n",
    "ds = ds[variable].resample(time='D').mean().to_dataset().persist()\n",
    "\n",
    "\n",
    "# ds = ds[variable].resample(time='D').max().to_dataset().persist()\n",
    "# data = zarr_cities_bag.map(get_zarr_point_data, 'air_temperature_at_2_metres_1hour_Minimum').compute()\n",
    "\n",
    "\n",
    "data = zarr_cities_bag.map(get_zarr_point_data, variable).compute()\n",
    "\n",
    "df = pd.DataFrame(data).T\n",
    "df.columns = (cities.countrycode + cities.cityname.apply(lambda x: f\"_{x}\")).values\n",
    "\n",
    "df.to_csv(\n",
    "    # f\"s3://cities-climate-hazard/{variable}_era5.csv\",\n",
    "    f\"{variable}_second_400_chunk_era5.csv\",\n",
    "    # storage_options={\n",
    "    #     \"key\": \"\",\n",
    "    #     \"secret\": \"\",\n",
    "    # },\n",
    ")"
   ]
  },
  {
   "cell_type": "code",
   "execution_count": 17,
   "id": "12ca2d3e-10a3-4405-845d-1166a2ffbb40",
   "metadata": {
    "tags": []
   },
   "outputs": [],
   "source": []
  },
  {
   "cell_type": "code",
   "execution_count": null,
   "id": "f592fb0b-c3ed-4fd6-ba36-423e85725304",
   "metadata": {
    "tags": []
   },
   "outputs": [],
   "source": [
    "daily_ds = ds.air_temperature_at_2_metres_1hour_Minimum.resample(time='D').min().to_dataset()"
   ]
  },
  {
   "cell_type": "code",
   "execution_count": null,
   "id": "18fa5336-24ef-4705-a5ad-8eba3ea41fd3",
   "metadata": {
    "tags": []
   },
   "outputs": [],
   "source": [
    "daily_ds.air_temperature_at_2_metres_1hour_Minimum"
   ]
  },
  {
   "cell_type": "code",
   "execution_count": null,
   "id": "f7ef58e5-de30-42c0-bb0f-5cf22dd008da",
   "metadata": {
    "tags": []
   },
   "outputs": [],
   "source": [
    "daily_ds['air_temperature_at_2_metres_1hour_Maximum'] = ds.air_temperature_at_2_metres_1hour_Maximum.resample(time='D').max()\n",
    "daily_ds['air_temperature_at_2_metres'] = ds.air_temperature_at_2_metres.resample(time='D').mean()\n",
    "daily_ds['precipitation_amount_1hour_Accumulation'] = ds.precipitation_amount_1hour_Accumulation.resample(time='D').sum() * 1000 / 86400\n",
    "daily_ds['dew_point_temperature_at_2_metres'] = ds.dew_point_temperature_at_2_metres.resample(time='D').max()\n",
    "daily_ds['relative_humidity'] = 100 * da.exp(17.625 * daily_ds.dew_point_temperature_at_2_metres / (243.04 + daily_ds.dew_point_temperature_at_2_metres)) \\\n",
    "        / da.exp(17.625 * daily_ds.air_temperature_at_2_metres / (243.04 + daily_ds.air_temperature_at_2_metres))\n",
    "        \n",
    "daily_ds.persist()"
   ]
  },
  {
   "cell_type": "code",
   "execution_count": null,
   "id": "7b21bedc-abce-4faa-a30f-e5e2af9dd036",
   "metadata": {
    "tags": []
   },
   "outputs": [],
   "source": [
    "def get_era5_data(items):\n",
    "    era5_variables = [\n",
    "        'air_temperature_at_2_metres_1hour_Minimum',\n",
    "        'air_temperature_at_2_metres_1hour_Maximum',\n",
    "        'air_temperature_at_2_metres',\n",
    "        'precipitation_amount_1hour_Accumulation',\n",
    "        'dew_point_temperature_at_2_metres',\n",
    "    ]\n",
    "\n",
    "    datasets = [\n",
    "        xr.open_dataset(asset.href, **asset.extra_fields[\"xarray:open_kwargs\"])\n",
    "        for item in items for asset in planetary_computer.sign(item).assets.values()\n",
    "        if asset.href.split('/')[-1].split('.')[0] in era5_variables\n",
    "    ]\n",
    "\n",
    "    for dataset in datasets:\n",
    "        # get rid of inconsistent attribute names that raise exception when merging\n",
    "        if getattr(dataset, 'air_temperature_at_2_metres_1hour_Maximum', None) is not None:\n",
    "            dataset.air_temperature_at_2_metres_1hour_Maximum.attrs.pop('nameCDM')\n",
    "\n",
    "    \n",
    "\n",
    "    ds = xr.combine_by_coords(datasets, join=\"exact\", data_vars=\"minimal\")\n",
    "    \n",
    "    # ds = ds.chunk({'time': 100, 'lat': 300, 'lon': 300})\n",
    "    \n",
    "    daily_ds = ds.air_temperature_at_2_metres_1hour_Minimum.resample(time='D').min().to_dataset()\n",
    "    daily_ds['air_temperature_at_2_metres_1hour_Maximum'] = ds.air_temperature_at_2_metres_1hour_Maximum.resample(time='D').max()\n",
    "    daily_ds['air_temperature_at_2_metres'] = ds.air_temperature_at_2_metres.resample(time='D').mean()\n",
    "    daily_ds['precipitation_amount_1hour_Accumulation'] = ds.precipitation_amount_1hour_Accumulation.resample(time='D').sum() * 1000 / 86400\n",
    "    daily_ds['dew_point_temperature_at_2_metres'] = ds.dew_point_temperature_at_2_metres.resample(time='D').max()\n",
    "\n",
    "    # daily_ds['relative_humidity'] = 100 * da.exp(17.625 * (daily_ds.dew_point_temperature_at_2_metres / (243.04 + daily_ds.dew_point_temperature_at_2_metres)) \\\n",
    "    #     / da.exp(17.625 * daily_ds.air_temperature_at_2_metres_1hour_Maximum / (243.04 + daily_ds.air_temperature_at_2_metres_1hour_Maximum))\n",
    "        \n",
    "    daily_ds.persist()\n",
    "    \n",
    "    # daily_ds.persist()\n",
    "    wait(daily_ds)\n",
    "    \n",
    "    return daily_ds"
   ]
  },
  {
   "cell_type": "code",
   "execution_count": 15,
   "id": "912cbb1c-e409-4911-b7b4-4092d662417d",
   "metadata": {
    "tags": []
   },
   "outputs": [],
   "source": [
    "def get_zarr_point_data(point, variable):\n",
    "    data = ds[variable].sel(\n",
    "        lat=point[1],\n",
    "        lon=point[0], method='nearest'\n",
    "    ).compute()\n",
    "\n",
    "    return pd.Series(data.data, index=[pd.Timestamp(t) for t in data.time.data])"
   ]
  },
  {
   "cell_type": "code",
   "execution_count": 12,
   "id": "548ddfd3-75fb-4314-b0d8-380d80b36af5",
   "metadata": {
    "tags": []
   },
   "outputs": [
    {
     "data": {
      "text/html": [
       "<div>\n",
       "<style scoped>\n",
       "    .dataframe tbody tr th:only-of-type {\n",
       "        vertical-align: middle;\n",
       "    }\n",
       "\n",
       "    .dataframe tbody tr th {\n",
       "        vertical-align: top;\n",
       "    }\n",
       "\n",
       "    .dataframe thead th {\n",
       "        text-align: right;\n",
       "    }\n",
       "</style>\n",
       "<table border=\"1\" class=\"dataframe\">\n",
       "  <thead>\n",
       "    <tr style=\"text-align: right;\">\n",
       "      <th></th>\n",
       "      <th>latitude</th>\n",
       "      <th>longitude</th>\n",
       "      <th>countrycode</th>\n",
       "      <th>cityname</th>\n",
       "      <th>pop2015</th>\n",
       "    </tr>\n",
       "  </thead>\n",
       "  <tbody>\n",
       "    <tr>\n",
       "      <th>0</th>\n",
       "      <td>21.340678</td>\n",
       "      <td>-157.893497</td>\n",
       "      <td>USA</td>\n",
       "      <td>Honolulu</td>\n",
       "      <td>512853.66670</td>\n",
       "    </tr>\n",
       "    <tr>\n",
       "      <th>1</th>\n",
       "      <td>-17.534103</td>\n",
       "      <td>-149.568053</td>\n",
       "      <td>PYF</td>\n",
       "      <td>Papeete</td>\n",
       "      <td>91521.12460</td>\n",
       "    </tr>\n",
       "    <tr>\n",
       "      <th>2</th>\n",
       "      <td>34.923123</td>\n",
       "      <td>-120.434372</td>\n",
       "      <td>USA</td>\n",
       "      <td>Santa Maria</td>\n",
       "      <td>123181.28480</td>\n",
       "    </tr>\n",
       "    <tr>\n",
       "      <th>3</th>\n",
       "      <td>36.607720</td>\n",
       "      <td>-121.882378</td>\n",
       "      <td>USA</td>\n",
       "      <td>Monterey</td>\n",
       "      <td>67772.28886</td>\n",
       "    </tr>\n",
       "    <tr>\n",
       "      <th>4</th>\n",
       "      <td>34.427664</td>\n",
       "      <td>-119.743693</td>\n",
       "      <td>USA</td>\n",
       "      <td>Santa Barbara</td>\n",
       "      <td>114753.15020</td>\n",
       "    </tr>\n",
       "  </tbody>\n",
       "</table>\n",
       "</div>"
      ],
      "text/plain": [
       "    latitude   longitude countrycode       cityname       pop2015\n",
       "0  21.340678 -157.893497         USA       Honolulu  512853.66670\n",
       "1 -17.534103 -149.568053         PYF        Papeete   91521.12460\n",
       "2  34.923123 -120.434372         USA    Santa Maria  123181.28480\n",
       "3  36.607720 -121.882378         USA       Monterey   67772.28886\n",
       "4  34.427664 -119.743693         USA  Santa Barbara  114753.15020"
      ]
     },
     "execution_count": 12,
     "metadata": {},
     "output_type": "execute_result"
    }
   ],
   "source": [
    "cities = pd.read_csv('/home/jovyan/ghslcities_popgte50k.csv', sep=',', encoding = \"ISO-8859-1\")\n",
    "cities.head()"
   ]
  },
  {
   "cell_type": "code",
   "execution_count": 13,
   "id": "6a02b4c2-3604-489b-8b08-b3a43d0d39b7",
   "metadata": {
    "tags": []
   },
   "outputs": [],
   "source": [
    "zarr_cities_bag = db.from_sequence(\n",
    "    zip(cities.longitude.values, cities.latitude.values),\n",
    "    npartitions=100  # Number of partitions should match the number of workers\n",
    ")"
   ]
  },
  {
   "cell_type": "code",
   "execution_count": null,
   "id": "661f92b7-f894-457e-8a5e-9122719bf151",
   "metadata": {
    "tags": []
   },
   "outputs": [],
   "source": [
    "ds = get_era5_data(items[:10])"
   ]
  },
  {
   "cell_type": "code",
   "execution_count": null,
   "id": "ff0ccdbb-6bae-471d-a1dd-ea747d093b4c",
   "metadata": {
    "tags": []
   },
   "outputs": [],
   "source": [
    "ds"
   ]
  },
  {
   "cell_type": "code",
   "execution_count": null,
   "id": "30c672e9-26cf-4025-bab5-b94b1f3685ce",
   "metadata": {
    "tags": []
   },
   "outputs": [],
   "source": [
    "%%time\n",
    "\n",
    "data = zarr_cities_bag.map(get_zarr_point_data, 'air_temperature_at_2_metres_1hour_Minimum').compute()"
   ]
  },
  {
   "cell_type": "code",
   "execution_count": null,
   "id": "15dced83-e373-48e2-9074-d6d616ef8afb",
   "metadata": {},
   "outputs": [],
   "source": [
    "%%time\n",
    "\n",
    "ds['air_temperature_at_2_metres_1hour_Minimum'] = ds.air_temperature_at_2_metres_1hour_Minimum.resample(time='D').max()\n",
    "ds.persist()\n",
    "wait(ds)\n",
    "\n",
    "data = zarr_cities_bag.map(get_zarr_point_data, 'air_temperature_at_2_metres_1hour_Minimum').compute()"
   ]
  },
  {
   "cell_type": "code",
   "execution_count": null,
   "id": "ee0f9c9a-4159-4567-9974-ca60e81cc7ca",
   "metadata": {
    "tags": []
   },
   "outputs": [],
   "source": [
    "era5_variables = [\n",
    "    'air_temperature_at_2_metres_1hour_Minimum',\n",
    "    'air_temperature_at_2_metres_1hour_Maximum',\n",
    "    'air_temperature_at_2_metres',\n",
    "    'precipitation_amount_1hour_Accumulation',\n",
    "    'dew_point_temperature_at_2_metres',\n",
    "]\n",
    "\n",
    "chunk_size = 10\n",
    "start = 10\n",
    "\n",
    "chunks = len(items) / chunk_size\n",
    "    \n",
    "for chunk in range(int(chunks))[1:]:\n",
    "    chunk_items = items[start:start+chunk_size]\n",
    "    ds = get_era5_data(chunk_items)\n",
    "    for variable in era5_variables:\n",
    "        data = zarr_cities_bag.map(get_zarr_point_data, variable).compute()\n",
    "        df = pd.DataFrame(data).T\n",
    "        df.columns = (cities.countrycode + cities.cityname.apply(lambda x: f\"_{x}\")).values\n",
    "\n",
    "        df.to_csv(\n",
    "            # f\"s3://cities-climate-hazard/{variable}_era5.csv\",\n",
    "            f\"./{variable}_{chunk_items[0].id}.csv\",\n",
    "            # storage_options={\n",
    "            #     \"key\": \"\",\n",
    "            #     \"secret\": \"\",\n",
    "            # },\n",
    "        )\n",
    "    start += chunk_size\n",
    "    print(start)\n"
   ]
  },
  {
   "cell_type": "code",
   "execution_count": null,
   "id": "3349fe4a-726d-4522-968a-11f1970a1292",
   "metadata": {
    "tags": []
   },
   "outputs": [],
   "source": [
    "%%time\n",
    "\n",
    "campinas = daily_ds.sel(lat=-22.907104, lon=(-47.063240 + 360) % 360, method='nearest').compute()"
   ]
  },
  {
   "cell_type": "code",
   "execution_count": null,
   "id": "1c1b9568-3794-4262-a24c-4b1665229552",
   "metadata": {
    "tags": []
   },
   "outputs": [],
   "source": [
    "nairobi = daily_ds.sel(lon=36.8219, lat=-1.2921, method='nearest').compute()"
   ]
  },
  {
   "cell_type": "code",
   "execution_count": null,
   "id": "1a6535e5-b222-49f0-a8b0-bd83d598fe0b",
   "metadata": {
    "tags": []
   },
   "outputs": [],
   "source": [
    "campinas.to_dataframe()[['air_temperature_at_2_metres', 'air_temperature_at_2_metres_1hour_Maximum', 'air_temperature_at_2_metres_1hour_Minimum']].iloc[:300].plot()"
   ]
  },
  {
   "cell_type": "code",
   "execution_count": null,
   "id": "d75482da-be92-4c7b-9392-120a4e4594a3",
   "metadata": {
    "tags": []
   },
   "outputs": [],
   "source": [
    "campinas.to_dataframe().relative_humidity.iloc[:300].plot()"
   ]
  },
  {
   "cell_type": "code",
   "execution_count": null,
   "id": "5e5e5609-8a33-4d64-b2f9-dff9bb0b8dcb",
   "metadata": {
    "tags": []
   },
   "outputs": [],
   "source": [
    "(nairobi.to_dataframe().precipitation_amount_1hour_Accumulation * 1000).plot()"
   ]
  },
  {
   "cell_type": "markdown",
   "id": "a19cac9f-3f03-47dc-8c48-23c5b3a58d64",
   "metadata": {
    "tags": []
   },
   "source": [
    "extracting cities data out of 100 assets (1/8th of the items) for a single variable is taking 15 mins on the 100 worker cluster.. which will be 2 hours for all the years. This doesn't account for downsampling the data to daily\n",
    "\n",
    "on smaller test took 2min42sec on 10 items \n",
    "\n",
    "Let's see the effect of downsampling the data before extracting cities data\n",
    "\n",
    "takes 1min30sec on the 10 items smaller test case above"
   ]
  },
  {
   "cell_type": "code",
   "execution_count": null,
   "id": "8dd51b04-b8cc-4e78-be8d-fce5d7ebdfb6",
   "metadata": {
    "tags": []
   },
   "outputs": [],
   "source": [
    "tasmax = "
   ]
  }
 ],
 "metadata": {
  "kernelspec": {
   "display_name": "Python 3 (ipykernel)",
   "language": "python",
   "name": "python3"
  },
  "language_info": {
   "codemirror_mode": {
    "name": "ipython",
    "version": 3
   },
   "file_extension": ".py",
   "mimetype": "text/x-python",
   "name": "python",
   "nbconvert_exporter": "python",
   "pygments_lexer": "ipython3",
   "version": "3.11.4"
  }
 },
 "nbformat": 4,
 "nbformat_minor": 5
}
