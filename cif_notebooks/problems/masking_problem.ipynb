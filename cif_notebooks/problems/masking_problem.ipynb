{
 "cells": [
  {
   "cell_type": "code",
   "execution_count": 1,
   "id": "6b3d1f53",
   "metadata": {},
   "outputs": [
    {
     "name": "stdout",
     "output_type": "stream",
     "text": [
      "Could not find GEE credentials file, so prompting authentication.\n"
     ]
    }
   ],
   "source": [
    "import os\n",
    "os.chdir('C:/Users/theodore.wong/cif/cities-cif')\n",
    "import ee, geemap, json\n",
    "import geopandas as gpd\n",
    "import rioxarray\n",
    "#ee.Authenticate()\n",
    "ee.Initialize()\n",
    "from city_metrix.layers import Layer, OpenStreetMap, OpenStreetMapClass, WorldPop\n",
    "from city_metrix.layers.layer import get_utm_zone_epsg\n",
    "\n",
    "import warnings\n",
    "warnings.filterwarnings('ignore')\n",
    "\n",
    "\n",
    "FILEPATH = 'C:/Users/theodore.wong/danida_africa'"
   ]
  },
  {
   "cell_type": "code",
   "execution_count": 2,
   "id": "e1f36714",
   "metadata": {},
   "outputs": [
    {
     "data": {
      "text/html": [
       "\n",
       "            <style>\n",
       "                .geemap-dark {\n",
       "                    --jp-widgets-color: white;\n",
       "                    --jp-widgets-label-color: white;\n",
       "                    --jp-ui-font-color1: white;\n",
       "                    --jp-layout-color2: #454545;\n",
       "                    background-color: #383838;\n",
       "                }\n",
       "\n",
       "                .geemap-dark .jupyter-button {\n",
       "                    --jp-layout-color3: #383838;\n",
       "                }\n",
       "\n",
       "                .geemap-colab {\n",
       "                    background-color: var(--colab-primary-surface-color, white);\n",
       "                }\n",
       "\n",
       "                .geemap-colab .jupyter-button {\n",
       "                    --jp-layout-color3: var(--colab-primary-surface-color, white);\n",
       "                }\n",
       "            </style>\n",
       "            "
      ],
      "text/plain": [
       "<IPython.core.display.HTML object>"
      ]
     },
     "metadata": {},
     "output_type": "display_data"
    },
    {
     "data": {
      "text/plain": [
       "['boundary-ETH-Dire_Dawa-ADM3.geojson',\n",
       " 'boundary-ETH-Dire_Dawa-ADM3union.geojson',\n",
       " 'boundary-KEN-Nairobi-ADM3.geojson',\n",
       " 'boundary-KEN-Nairobi-ADM3union.geojson',\n",
       " 'boundary-RWA-Kigali-ADM3.geojson',\n",
       " 'boundary-RWA-Kigali-ADM4union.geojson',\n",
       " 'boundary-RWA-Musanze-ADM2union.geojson',\n",
       " 'boundary-RWA-Musanze-ADM3.geojson',\n",
       " 'boundary-ZAF-CityOfJohannesburg-ADM3union.geojson',\n",
       " 'boundary-ZAF-CityOfJohannesburg-ADM4.geojson',\n",
       " 'boundary-ZAF-NelsonMandelaBay-ADM3union.geojson',\n",
       " 'boundary-ZAF-NelsonMandelaBay-ADM4.geojson']"
      ]
     },
     "execution_count": 2,
     "metadata": {},
     "output_type": "execute_result"
    }
   ],
   "source": [
    "boundary_filenames = os.listdir('{0}/boundaries'.format(FILEPATH))\n",
    "boundary_filenames"
   ]
  },
  {
   "cell_type": "code",
   "execution_count": 3,
   "id": "b0fd0c60",
   "metadata": {},
   "outputs": [
    {
     "data": {
      "text/html": [
       "\n",
       "            <style>\n",
       "                .geemap-dark {\n",
       "                    --jp-widgets-color: white;\n",
       "                    --jp-widgets-label-color: white;\n",
       "                    --jp-ui-font-color1: white;\n",
       "                    --jp-layout-color2: #454545;\n",
       "                    background-color: #383838;\n",
       "                }\n",
       "\n",
       "                .geemap-dark .jupyter-button {\n",
       "                    --jp-layout-color3: #383838;\n",
       "                }\n",
       "\n",
       "                .geemap-colab {\n",
       "                    background-color: var(--colab-primary-surface-color, white);\n",
       "                }\n",
       "\n",
       "                .geemap-colab .jupyter-button {\n",
       "                    --jp-layout-color3: var(--colab-primary-surface-color, white);\n",
       "                }\n",
       "            </style>\n",
       "            "
      ],
      "text/plain": [
       "<IPython.core.display.HTML object>"
      ]
     },
     "metadata": {},
     "output_type": "display_data"
    }
   ],
   "source": [
    "def buffer_gdf(gdf, buffer_distance_meters):\n",
    "    source_crs = gdf.crs\n",
    "    target_epsg = get_utm_zone_epsg(gdf.to_crs('EPSG:4326').total_bounds)\n",
    "    gdf = gdf.to_crs(target_epsg)\n",
    "    return gpd.GeoDataFrame({'geometry': gdf.buffer(buffer_distance_meters).to_crs('EPSG:4326')})"
   ]
  },
  {
   "cell_type": "code",
   "execution_count": 4,
   "id": "fab4fd76",
   "metadata": {},
   "outputs": [
    {
     "data": {
      "text/html": [
       "\n",
       "            <style>\n",
       "                .geemap-dark {\n",
       "                    --jp-widgets-color: white;\n",
       "                    --jp-widgets-label-color: white;\n",
       "                    --jp-ui-font-color1: white;\n",
       "                    --jp-layout-color2: #454545;\n",
       "                    background-color: #383838;\n",
       "                }\n",
       "\n",
       "                .geemap-dark .jupyter-button {\n",
       "                    --jp-layout-color3: #383838;\n",
       "                }\n",
       "\n",
       "                .geemap-colab {\n",
       "                    background-color: var(--colab-primary-surface-color, white);\n",
       "                }\n",
       "\n",
       "                .geemap-colab .jupyter-button {\n",
       "                    --jp-layout-color3: var(--colab-primary-surface-color, white);\n",
       "                }\n",
       "            </style>\n",
       "            "
      ],
      "text/plain": [
       "<IPython.core.display.HTML object>"
      ]
     },
     "metadata": {},
     "output_type": "display_data"
    }
   ],
   "source": [
    "from geocube.api.core import make_geocube\n",
    "def polygonsToRaster(gdf, outname):\n",
    "    # https://spatial-dev.guru/2022/09/03/rasterize-vector-data-using-geopandas-and-geocube/\n",
    "    \n",
    "    gdf = gdf.to_crs('EPSG:4326')\n",
    "    target_epsg = get_utm_zone_epsg(gdf.total_bounds)\n",
    "    gdf = gdf.to_crs(target_epsg)\n",
    "    target_gdf = gpd.GeoDataFrame({'geometry': gdf['geometry'], 'in_zone': 1})\n",
    "    \n",
    "    # Using GeoCube to rasterize the Vector\n",
    "    raster = make_geocube(\n",
    "        vector_data = target_gdf,\n",
    "        measurements=[\"in_zone\"],\n",
    "        resolution=(-100, 100),\n",
    "        output_crs = target_epsg,\n",
    "        fill = 0\n",
    "    )\n",
    "    \n",
    "    # Save raster census raster\n",
    "    raster.rio.to_raster(outname)"
   ]
  },
  {
   "cell_type": "code",
   "execution_count": 50,
   "id": "d4067aa9",
   "metadata": {},
   "outputs": [
    {
     "data": {
      "text/html": [
       "\n",
       "            <style>\n",
       "                .geemap-dark {\n",
       "                    --jp-widgets-color: white;\n",
       "                    --jp-widgets-label-color: white;\n",
       "                    --jp-ui-font-color1: white;\n",
       "                    --jp-layout-color2: #454545;\n",
       "                    background-color: #383838;\n",
       "                }\n",
       "\n",
       "                .geemap-dark .jupyter-button {\n",
       "                    --jp-layout-color3: #383838;\n",
       "                }\n",
       "\n",
       "                .geemap-colab {\n",
       "                    background-color: var(--colab-primary-surface-color, white);\n",
       "                }\n",
       "\n",
       "                .geemap-colab .jupyter-button {\n",
       "                    --jp-layout-color3: var(--colab-primary-surface-color, white);\n",
       "                }\n",
       "            </style>\n",
       "            "
      ],
      "text/plain": [
       "<IPython.core.display.HTML object>"
      ]
     },
     "metadata": {},
     "output_type": "display_data"
    }
   ],
   "source": [
    "class Isochrone(Layer):\n",
    "    def __init__(self, filename, min_threshold=0, **kwargs):\n",
    "        super().__init__(**kwargs)\n",
    "        self.spatial_resolution = 100\n",
    "        self.filename = filename\n",
    "        self.min_threshold = min_threshold   # This is for number of nearby amenity locations\n",
    "        \n",
    "    def get_data(self, bbox):\n",
    "        isochrone_raster = rioxarray.open_rasterio(self.filename)\n",
    "        clipped = isochrone_raster.rio.reproject('EPSG:4326').rio.clip_box(*bbox, allow_one_dimensional_raster=True)\n",
    "        return clipped[0].where(clipped[0] >= self.min_threshold)"
   ]
  },
  {
   "cell_type": "code",
   "execution_count": 6,
   "id": "3fa9b46d",
   "metadata": {},
   "outputs": [
    {
     "data": {
      "text/html": [
       "\n",
       "            <style>\n",
       "                .geemap-dark {\n",
       "                    --jp-widgets-color: white;\n",
       "                    --jp-widgets-label-color: white;\n",
       "                    --jp-ui-font-color1: white;\n",
       "                    --jp-layout-color2: #454545;\n",
       "                    background-color: #383838;\n",
       "                }\n",
       "\n",
       "                .geemap-dark .jupyter-button {\n",
       "                    --jp-layout-color3: #383838;\n",
       "                }\n",
       "\n",
       "                .geemap-colab {\n",
       "                    background-color: var(--colab-primary-surface-color, white);\n",
       "                }\n",
       "\n",
       "                .geemap-colab .jupyter-button {\n",
       "                    --jp-layout-color3: var(--colab-primary-surface-color, white);\n",
       "                }\n",
       "            </style>\n",
       "            "
      ],
      "text/plain": [
       "<IPython.core.display.HTML object>"
      ]
     },
     "metadata": {},
     "output_type": "display_data"
    },
    {
     "name": "stdout",
     "output_type": "stream",
     "text": [
      "RWA Kigali "
     ]
    }
   ],
   "source": [
    "fname = 'boundary-RWA-Kigali-ADM3.geojson'\n",
    "cityname = '{0} {1}'.format(fname.split('-')[1], fname.split('-')[2])\n",
    "print(cityname, end=' ')\n",
    "with open('{0}/boundaries/{1}'.format(FILEPATH, fname), 'r') as ifile:\n",
    "    json_obj = json.loads(ifile.read())\n",
    "feature = geemap.geojson_to_ee(json_obj)\n",
    "zones = geemap.ee_to_gdf(feature)"
   ]
  },
  {
   "cell_type": "code",
   "execution_count": 13,
   "id": "5b783a74",
   "metadata": {},
   "outputs": [
    {
     "data": {
      "text/html": [
       "\n",
       "            <style>\n",
       "                .geemap-dark {\n",
       "                    --jp-widgets-color: white;\n",
       "                    --jp-widgets-label-color: white;\n",
       "                    --jp-ui-font-color1: white;\n",
       "                    --jp-layout-color2: #454545;\n",
       "                    background-color: #383838;\n",
       "                }\n",
       "\n",
       "                .geemap-dark .jupyter-button {\n",
       "                    --jp-layout-color3: #383838;\n",
       "                }\n",
       "\n",
       "                .geemap-colab {\n",
       "                    background-color: var(--colab-primary-surface-color, white);\n",
       "                }\n",
       "\n",
       "                .geemap-colab .jupyter-button {\n",
       "                    --jp-layout-color3: var(--colab-primary-surface-color, white);\n",
       "                }\n",
       "            </style>\n",
       "            "
      ],
      "text/plain": [
       "<IPython.core.display.HTML object>"
      ]
     },
     "metadata": {},
     "output_type": "display_data"
    }
   ],
   "source": [
    "schoolrastername = '{0}/schoolsraster_a_{1}.tiff'.format(FILEPATH, cityname.replace(' ', '-'))\n",
    "schools = OpenStreetMap(osm_class=OpenStreetMapClass.SCHOOLS).get_data(zones.total_bounds)\n",
    "\n",
    "# Create 500-meter proximity raster\n",
    "polygonsToRaster(buffer_gdf(schools, 500), schoolrastername)"
   ]
  },
  {
   "cell_type": "code",
   "execution_count": 10,
   "id": "3818c76e",
   "metadata": {},
   "outputs": [
    {
     "data": {
      "text/html": [
       "\n",
       "            <style>\n",
       "                .geemap-dark {\n",
       "                    --jp-widgets-color: white;\n",
       "                    --jp-widgets-label-color: white;\n",
       "                    --jp-ui-font-color1: white;\n",
       "                    --jp-layout-color2: #454545;\n",
       "                    background-color: #383838;\n",
       "                }\n",
       "\n",
       "                .geemap-dark .jupyter-button {\n",
       "                    --jp-layout-color3: #383838;\n",
       "                }\n",
       "\n",
       "                .geemap-colab {\n",
       "                    background-color: var(--colab-primary-surface-color, white);\n",
       "                }\n",
       "\n",
       "                .geemap-colab .jupyter-button {\n",
       "                    --jp-layout-color3: var(--colab-primary-surface-color, white);\n",
       "                }\n",
       "            </style>\n",
       "            "
      ],
      "text/plain": [
       "<IPython.core.display.HTML object>"
      ]
     },
     "metadata": {},
     "output_type": "display_data"
    },
    {
     "name": "stderr",
     "output_type": "stream",
     "text": [
      "C:\\Users\\theodore.wong\\AppData\\Local\\anaconda3\\envs\\cif\\lib\\site-packages\\xee\\ext.py:685: UserWarning: Unable to retrieve 'system:time_start' values from an ImageCollection due to: No 'system:time_start' values found in the 'ImageCollection'.\n",
      "  warnings.warn(\n"
     ]
    },
    {
     "name": "stdout",
     "output_type": "stream",
     "text": [
      "Extracting layer world pop from Google Earth Engine for bbox [29.97751933 -2.07980328 30.27715038 -1.77956142]:\n",
      "[########################################] | 100% Completed | 836.97 ms\n"
     ]
    },
    {
     "data": {
      "text/plain": [
       "0      22734.281250\n",
       "1      37880.578125\n",
       "2      40248.343750\n",
       "3      52910.382812\n",
       "4      28968.460938\n",
       "5      21364.787109\n",
       "6      26939.201172\n",
       "7      45500.085938\n",
       "8      16139.497070\n",
       "9      10387.324219\n",
       "10     59446.511719\n",
       "11     51281.859375\n",
       "12     18179.992188\n",
       "13     95782.187500\n",
       "14     50661.371094\n",
       "15     32298.679688\n",
       "16     31584.472656\n",
       "17     19513.593750\n",
       "18     70253.484375\n",
       "19    110299.132812\n",
       "20     64630.542969\n",
       "21     32906.179688\n",
       "22     54711.843750\n",
       "23     44438.742188\n",
       "24     18786.589844\n",
       "25     41704.695312\n",
       "26     68044.000000\n",
       "27     16742.509766\n",
       "28     12788.495117\n",
       "29     49337.164062\n",
       "30     14939.575195\n",
       "31     51926.351562\n",
       "32     49360.179688\n",
       "33     26229.808594\n",
       "34     50603.242188\n",
       "Name: sum, dtype: float64"
      ]
     },
     "execution_count": 10,
     "metadata": {},
     "output_type": "execute_result"
    }
   ],
   "source": [
    "WorldPop().groupby(zones).sum()"
   ]
  },
  {
   "cell_type": "code",
   "execution_count": 52,
   "id": "f0ed7825",
   "metadata": {
    "scrolled": false
   },
   "outputs": [
    {
     "data": {
      "text/html": [
       "\n",
       "            <style>\n",
       "                .geemap-dark {\n",
       "                    --jp-widgets-color: white;\n",
       "                    --jp-widgets-label-color: white;\n",
       "                    --jp-ui-font-color1: white;\n",
       "                    --jp-layout-color2: #454545;\n",
       "                    background-color: #383838;\n",
       "                }\n",
       "\n",
       "                .geemap-dark .jupyter-button {\n",
       "                    --jp-layout-color3: #383838;\n",
       "                }\n",
       "\n",
       "                .geemap-colab {\n",
       "                    background-color: var(--colab-primary-surface-color, white);\n",
       "                }\n",
       "\n",
       "                .geemap-colab .jupyter-button {\n",
       "                    --jp-layout-color3: var(--colab-primary-surface-color, white);\n",
       "                }\n",
       "            </style>\n",
       "            "
      ],
      "text/plain": [
       "<IPython.core.display.HTML object>"
      ]
     },
     "metadata": {},
     "output_type": "display_data"
    },
    {
     "name": "stderr",
     "output_type": "stream",
     "text": [
      "C:\\Users\\theodore.wong\\AppData\\Local\\anaconda3\\envs\\cif\\lib\\site-packages\\xee\\ext.py:685: UserWarning: Unable to retrieve 'system:time_start' values from an ImageCollection due to: No 'system:time_start' values found in the 'ImageCollection'.\n",
      "  warnings.warn(\n"
     ]
    },
    {
     "name": "stdout",
     "output_type": "stream",
     "text": [
      "Extracting layer world pop from Google Earth Engine for bbox [29.97751933 -2.07980328 30.27715038 -1.77956142]:\n",
      "[########################################] | 100% Completed | 720.29 ms\n"
     ]
    },
    {
     "data": {
      "text/plain": [
       "0      21335.462891\n",
       "1        213.771103\n",
       "2      52399.359375\n",
       "3       4774.578125\n",
       "4      20564.716797\n",
       "5      24438.410156\n",
       "6      33747.234375\n",
       "7      16183.112305\n",
       "8      10729.522461\n",
       "9      58695.843750\n",
       "10     39123.632812\n",
       "11     18105.285156\n",
       "12     96126.031250\n",
       "13     50204.515625\n",
       "14      6113.011719\n",
       "15     31673.451172\n",
       "16     19950.802734\n",
       "17     69711.414062\n",
       "18    109746.390625\n",
       "19     64421.988281\n",
       "20     33077.257812\n",
       "21     54881.000000\n",
       "22     41667.265625\n",
       "23     16245.707031\n",
       "24     16223.412109\n",
       "25     67816.679688\n",
       "26     16075.767578\n",
       "27     12631.484375\n",
       "28     48381.171875\n",
       "29     15102.627930\n",
       "30     52461.578125\n",
       "31     38095.230469\n",
       "32     26151.994141\n",
       "33     50557.019531\n",
       "Name: sum, dtype: float64"
      ]
     },
     "execution_count": 52,
     "metadata": {},
     "output_type": "execute_result"
    }
   ],
   "source": [
    "#isochrone_layer = Isochrone(filename=schoolrastername)\n",
    "WorldPop().mask(isochrone_layer).groupby(zones).sum()"
   ]
  },
  {
   "cell_type": "code",
   "execution_count": 51,
   "id": "6ce1e4cd",
   "metadata": {},
   "outputs": [
    {
     "data": {
      "text/html": [
       "\n",
       "            <style>\n",
       "                .geemap-dark {\n",
       "                    --jp-widgets-color: white;\n",
       "                    --jp-widgets-label-color: white;\n",
       "                    --jp-ui-font-color1: white;\n",
       "                    --jp-layout-color2: #454545;\n",
       "                    background-color: #383838;\n",
       "                }\n",
       "\n",
       "                .geemap-dark .jupyter-button {\n",
       "                    --jp-layout-color3: #383838;\n",
       "                }\n",
       "\n",
       "                .geemap-colab {\n",
       "                    background-color: var(--colab-primary-surface-color, white);\n",
       "                }\n",
       "\n",
       "                .geemap-colab .jupyter-button {\n",
       "                    --jp-layout-color3: var(--colab-primary-surface-color, white);\n",
       "                }\n",
       "            </style>\n",
       "            "
      ],
      "text/plain": [
       "<IPython.core.display.HTML object>"
      ]
     },
     "metadata": {},
     "output_type": "display_data"
    },
    {
     "name": "stderr",
     "output_type": "stream",
     "text": [
      "C:\\Users\\theodore.wong\\AppData\\Local\\anaconda3\\envs\\cif\\lib\\site-packages\\xee\\ext.py:685: UserWarning: Unable to retrieve 'system:time_start' values from an ImageCollection due to: No 'system:time_start' values found in the 'ImageCollection'.\n",
      "  warnings.warn(\n"
     ]
    },
    {
     "name": "stdout",
     "output_type": "stream",
     "text": [
      "Extracting layer world pop from Google Earth Engine for bbox [29.97751933 -2.07980328 30.27715038 -1.77956142]:\n",
      "[########################################] | 100% Completed | 620.32 ms\n"
     ]
    },
    {
     "name": "stderr",
     "output_type": "stream",
     "text": [
      "C:\\Users\\theodore.wong\\AppData\\Local\\anaconda3\\envs\\cif\\lib\\site-packages\\xee\\ext.py:685: UserWarning: Unable to retrieve 'system:time_start' values from an ImageCollection due to: No 'system:time_start' values found in the 'ImageCollection'.\n",
      "  warnings.warn(\n"
     ]
    },
    {
     "name": "stdout",
     "output_type": "stream",
     "text": [
      "Extracting layer world pop from Google Earth Engine for bbox [29.97751933 -2.07980328 30.27715038 -1.77956142]:\n",
      "[########################################] | 100% Completed | 524.27 ms\n",
      "(done)\n",
      "\n",
      "\n"
     ]
    }
   ],
   "source": [
    "total_pop = WorldPop().groupby(zones).sum()\n",
    "access_pop = WorldPop().mask(isochrone_layer).groupby(zones).sum()\n",
    "access_fraction = access_pop / total_pop\n",
    "zones['total_pop'] = total_pop\n",
    "zones['access_pop'] = access_pop\n",
    "zones['access_fraction'] = access_fraction\n",
    "with open('{0}/schoolaccess_totalpopTEST-{1}.geojson'.format(FILEPATH, cityname.replace(' ', '-')), 'w') as ofile:\n",
    "        ofile.write(zones.to_json())\n",
    "print('(done)\\n\\n')"
   ]
  },
  {
   "cell_type": "code",
   "execution_count": 18,
   "id": "5ee8d177",
   "metadata": {},
   "outputs": [
    {
     "data": {
      "text/html": [
       "\n",
       "            <style>\n",
       "                .geemap-dark {\n",
       "                    --jp-widgets-color: white;\n",
       "                    --jp-widgets-label-color: white;\n",
       "                    --jp-ui-font-color1: white;\n",
       "                    --jp-layout-color2: #454545;\n",
       "                    background-color: #383838;\n",
       "                }\n",
       "\n",
       "                .geemap-dark .jupyter-button {\n",
       "                    --jp-layout-color3: #383838;\n",
       "                }\n",
       "\n",
       "                .geemap-colab {\n",
       "                    background-color: var(--colab-primary-surface-color, white);\n",
       "                }\n",
       "\n",
       "                .geemap-colab .jupyter-button {\n",
       "                    --jp-layout-color3: var(--colab-primary-surface-color, white);\n",
       "                }\n",
       "            </style>\n",
       "            "
      ],
      "text/plain": [
       "<IPython.core.display.HTML object>"
      ]
     },
     "metadata": {},
     "output_type": "display_data"
    },
    {
     "data": {
      "text/plain": [
       "0     0.938471\n",
       "1     0.005643\n",
       "2     1.301901\n",
       "3     0.090239\n",
       "4     0.709900\n",
       "5     1.143864\n",
       "6     1.252718\n",
       "7     0.355672\n",
       "8     0.664799\n",
       "9     5.650718\n",
       "10    0.658132\n",
       "11    0.353054\n",
       "12    5.287463\n",
       "13    0.524153\n",
       "14    0.120664\n",
       "15    0.980642\n",
       "16    0.631665\n",
       "17    3.572454\n",
       "18    1.562149\n",
       "19    0.584066\n",
       "20    0.511790\n",
       "21    1.667802\n",
       "22    0.761577\n",
       "23    0.365575\n",
       "24    0.863563\n",
       "25    1.626116\n",
       "26    0.236255\n",
       "27    0.754456\n",
       "28    3.783179\n",
       "29    0.306111\n",
       "30    3.511584\n",
       "31    0.733640\n",
       "32    0.529820\n",
       "33    1.927464\n",
       "34         NaN\n",
       "Name: sum, dtype: float64"
      ]
     },
     "execution_count": 18,
     "metadata": {},
     "output_type": "execute_result"
    }
   ],
   "source": [
    "access_fraction"
   ]
  },
  {
   "cell_type": "code",
   "execution_count": null,
   "id": "e267406c",
   "metadata": {},
   "outputs": [],
   "source": []
  },
  {
   "cell_type": "code",
   "execution_count": null,
   "id": "1b941447",
   "metadata": {},
   "outputs": [],
   "source": []
  },
  {
   "cell_type": "code",
   "execution_count": null,
   "id": "d79d1768",
   "metadata": {},
   "outputs": [],
   "source": []
  },
  {
   "cell_type": "code",
   "execution_count": null,
   "id": "fade0c40",
   "metadata": {},
   "outputs": [],
   "source": []
  },
  {
   "cell_type": "code",
   "execution_count": null,
   "id": "207124c1",
   "metadata": {},
   "outputs": [],
   "source": []
  },
  {
   "cell_type": "code",
   "execution_count": null,
   "id": "43eea8da",
   "metadata": {},
   "outputs": [],
   "source": []
  },
  {
   "cell_type": "code",
   "execution_count": null,
   "id": "599a1fe4",
   "metadata": {},
   "outputs": [],
   "source": []
  },
  {
   "cell_type": "code",
   "execution_count": 72,
   "id": "d5a2ee71",
   "metadata": {
    "scrolled": false
   },
   "outputs": [
    {
     "data": {
      "text/html": [
       "\n",
       "            <style>\n",
       "                .geemap-dark {\n",
       "                    --jp-widgets-color: white;\n",
       "                    --jp-widgets-label-color: white;\n",
       "                    --jp-ui-font-color1: white;\n",
       "                    --jp-layout-color2: #454545;\n",
       "                    background-color: #383838;\n",
       "                }\n",
       "\n",
       "                .geemap-dark .jupyter-button {\n",
       "                    --jp-layout-color3: #383838;\n",
       "                }\n",
       "\n",
       "                .geemap-colab {\n",
       "                    background-color: var(--colab-primary-surface-color, white);\n",
       "                }\n",
       "\n",
       "                .geemap-colab .jupyter-button {\n",
       "                    --jp-layout-color3: var(--colab-primary-surface-color, white);\n",
       "                }\n",
       "            </style>\n",
       "            "
      ],
      "text/plain": [
       "<IPython.core.display.HTML object>"
      ]
     },
     "metadata": {},
     "output_type": "display_data"
    },
    {
     "name": "stdout",
     "output_type": "stream",
     "text": [
      "ETH Dire_Dawa Input covers too much area, splitting into 2 tiles\n"
     ]
    },
    {
     "name": "stderr",
     "output_type": "stream",
     "text": [
      "C:\\Users\\theodore.wong\\AppData\\Local\\anaconda3\\envs\\cif\\lib\\site-packages\\xee\\ext.py:685: UserWarning: Unable to retrieve 'system:time_start' values from an ImageCollection due to: No 'system:time_start' values found in the 'ImageCollection'.\n",
      "  warnings.warn(\n"
     ]
    },
    {
     "name": "stdout",
     "output_type": "stream",
     "text": [
      "Extracting layer world pop from Google Earth Engine for bbox [41.63315988  9.44538064 42.13315988  9.79335473]:\n",
      "[########################################] | 100% Completed | 811.45 ms\n"
     ]
    },
    {
     "name": "stderr",
     "output_type": "stream",
     "text": [
      "C:\\Users\\theodore.wong\\AppData\\Local\\anaconda3\\envs\\cif\\lib\\site-packages\\xee\\ext.py:685: UserWarning: Unable to retrieve 'system:time_start' values from an ImageCollection due to: No 'system:time_start' values found in the 'ImageCollection'.\n",
      "  warnings.warn(\n"
     ]
    },
    {
     "name": "stdout",
     "output_type": "stream",
     "text": [
      "Extracting layer world pop from Google Earth Engine for bbox [42.13315988  9.57078713 42.42197622  9.84160302]:\n",
      "[########################################] | 100% Completed | 705.93 ms\n",
      "Input covers too much area, splitting into 2 tiles\n"
     ]
    },
    {
     "name": "stderr",
     "output_type": "stream",
     "text": [
      "C:\\Users\\theodore.wong\\cif\\cities-cif\\city_metrix\\layers\\layer.py:151: DeprecationWarning: DataFrameGroupBy.apply operated on the grouping columns. This behavior is deprecated, and in a future version of pandas the grouping columns will be excluded from the operation. Either pass `include_groups=False` to exclude the groupings or explicitly select the grouping columns after groupby to silence this warning.\n",
      "  aggregated = tile_stats.groupby(\"zone\").apply(_aggregate_stats, stats_func)\n",
      "C:\\Users\\theodore.wong\\AppData\\Local\\anaconda3\\envs\\cif\\lib\\site-packages\\xee\\ext.py:685: UserWarning: Unable to retrieve 'system:time_start' values from an ImageCollection due to: No 'system:time_start' values found in the 'ImageCollection'.\n",
      "  warnings.warn(\n"
     ]
    },
    {
     "name": "stdout",
     "output_type": "stream",
     "text": [
      "Extracting layer world pop from Google Earth Engine for bbox [41.63315988  9.44538064 42.13315988  9.79335473]:\n",
      "[########################################] | 100% Completed | 1.29 sms\n"
     ]
    },
    {
     "name": "stderr",
     "output_type": "stream",
     "text": [
      "C:\\Users\\theodore.wong\\AppData\\Local\\anaconda3\\envs\\cif\\lib\\site-packages\\xee\\ext.py:685: UserWarning: Unable to retrieve 'system:time_start' values from an ImageCollection due to: No 'system:time_start' values found in the 'ImageCollection'.\n",
      "  warnings.warn(\n"
     ]
    },
    {
     "name": "stdout",
     "output_type": "stream",
     "text": [
      "Extracting layer world pop from Google Earth Engine for bbox [42.13315988  9.57078713 42.42197622  9.84160302]:\n",
      "[########################################] | 100% Completed | 1.05 ss\n"
     ]
    },
    {
     "name": "stderr",
     "output_type": "stream",
     "text": [
      "C:\\Users\\theodore.wong\\cif\\cities-cif\\city_metrix\\layers\\layer.py:151: DeprecationWarning: DataFrameGroupBy.apply operated on the grouping columns. This behavior is deprecated, and in a future version of pandas the grouping columns will be excluded from the operation. Either pass `include_groups=False` to exclude the groupings or explicitly select the grouping columns after groupby to silence this warning.\n",
      "  aggregated = tile_stats.groupby(\"zone\").apply(_aggregate_stats, stats_func)\n"
     ]
    },
    {
     "name": "stdout",
     "output_type": "stream",
     "text": [
      "NO AMENITIES FOUND\n",
      "\n",
      "\n",
      "KEN Nairobi "
     ]
    },
    {
     "name": "stderr",
     "output_type": "stream",
     "text": [
      "C:\\Users\\theodore.wong\\AppData\\Local\\anaconda3\\envs\\cif\\lib\\site-packages\\xee\\ext.py:685: UserWarning: Unable to retrieve 'system:time_start' values from an ImageCollection due to: No 'system:time_start' values found in the 'ImageCollection'.\n",
      "  warnings.warn(\n"
     ]
    },
    {
     "name": "stdout",
     "output_type": "stream",
     "text": [
      "Extracting layer world pop from Google Earth Engine for bbox [36.66446402 -1.44560888 37.10497899 -1.16058296]:\n",
      "[########################################] | 100% Completed | 460.43 ms\n"
     ]
    },
    {
     "name": "stderr",
     "output_type": "stream",
     "text": [
      "C:\\Users\\theodore.wong\\AppData\\Local\\anaconda3\\envs\\cif\\lib\\site-packages\\xee\\ext.py:685: UserWarning: Unable to retrieve 'system:time_start' values from an ImageCollection due to: No 'system:time_start' values found in the 'ImageCollection'.\n",
      "  warnings.warn(\n"
     ]
    },
    {
     "name": "stdout",
     "output_type": "stream",
     "text": [
      "Extracting layer world pop from Google Earth Engine for bbox [36.66446402 -1.44560888 37.10497899 -1.16058296]:\n",
      "[########################################] | 100% Completed | 705.21 ms\n"
     ]
    },
    {
     "name": "stderr",
     "output_type": "stream",
     "text": [
      "C:\\Users\\theodore.wong\\AppData\\Local\\anaconda3\\envs\\cif\\lib\\site-packages\\xee\\ext.py:685: UserWarning: Unable to retrieve 'system:time_start' values from an ImageCollection due to: No 'system:time_start' values found in the 'ImageCollection'.\n",
      "  warnings.warn(\n"
     ]
    },
    {
     "name": "stdout",
     "output_type": "stream",
     "text": [
      "Extracting layer world pop from Google Earth Engine for bbox [36.66446402 -1.44560888 37.10497899 -1.16058296]:\n",
      "[########################################] | 100% Completed | 925.37 ms\n"
     ]
    },
    {
     "name": "stderr",
     "output_type": "stream",
     "text": [
      "C:\\Users\\theodore.wong\\AppData\\Local\\anaconda3\\envs\\cif\\lib\\site-packages\\xee\\ext.py:685: UserWarning: Unable to retrieve 'system:time_start' values from an ImageCollection due to: No 'system:time_start' values found in the 'ImageCollection'.\n",
      "  warnings.warn(\n"
     ]
    },
    {
     "name": "stdout",
     "output_type": "stream",
     "text": [
      "Extracting layer world pop from Google Earth Engine for bbox [36.66446402 -1.44560888 37.10497899 -1.16058296]:\n",
      "[########################################] | 100% Completed | 700.85 ms\n"
     ]
    },
    {
     "name": "stderr",
     "output_type": "stream",
     "text": [
      "C:\\Users\\theodore.wong\\AppData\\Local\\anaconda3\\envs\\cif\\lib\\site-packages\\xee\\ext.py:685: UserWarning: Unable to retrieve 'system:time_start' values from an ImageCollection due to: No 'system:time_start' values found in the 'ImageCollection'.\n",
      "  warnings.warn(\n"
     ]
    },
    {
     "name": "stdout",
     "output_type": "stream",
     "text": [
      "Extracting layer world pop from Google Earth Engine for bbox [36.66446402 -1.44560888 37.10497899 -1.16058296]:\n",
      "[########################################] | 100% Completed | 935.48 ms\n"
     ]
    },
    {
     "name": "stderr",
     "output_type": "stream",
     "text": [
      "C:\\Users\\theodore.wong\\AppData\\Local\\anaconda3\\envs\\cif\\lib\\site-packages\\xee\\ext.py:685: UserWarning: Unable to retrieve 'system:time_start' values from an ImageCollection due to: No 'system:time_start' values found in the 'ImageCollection'.\n",
      "  warnings.warn(\n"
     ]
    },
    {
     "name": "stdout",
     "output_type": "stream",
     "text": [
      "Extracting layer world pop from Google Earth Engine for bbox [36.66446402 -1.44560888 37.10497899 -1.16058296]:\n",
      "[########################################] | 100% Completed | 690.96 ms\n",
      "(done)\n",
      "\n",
      "\n",
      "RWA Kigali "
     ]
    },
    {
     "name": "stderr",
     "output_type": "stream",
     "text": [
      "C:\\Users\\theodore.wong\\AppData\\Local\\anaconda3\\envs\\cif\\lib\\site-packages\\xee\\ext.py:685: UserWarning: Unable to retrieve 'system:time_start' values from an ImageCollection due to: No 'system:time_start' values found in the 'ImageCollection'.\n",
      "  warnings.warn(\n"
     ]
    },
    {
     "name": "stdout",
     "output_type": "stream",
     "text": [
      "Extracting layer world pop from Google Earth Engine for bbox [29.97751933 -2.07980328 30.27715038 -1.77956142]:\n",
      "[########################################] | 100% Completed | 589.12 ms\n"
     ]
    },
    {
     "name": "stderr",
     "output_type": "stream",
     "text": [
      "C:\\Users\\theodore.wong\\AppData\\Local\\anaconda3\\envs\\cif\\lib\\site-packages\\xee\\ext.py:685: UserWarning: Unable to retrieve 'system:time_start' values from an ImageCollection due to: No 'system:time_start' values found in the 'ImageCollection'.\n",
      "  warnings.warn(\n"
     ]
    },
    {
     "name": "stdout",
     "output_type": "stream",
     "text": [
      "Extracting layer world pop from Google Earth Engine for bbox [29.97751933 -2.07980328 30.27715038 -1.77956142]:\n",
      "[########################################] | 100% Completed | 710.33 ms\n"
     ]
    },
    {
     "name": "stderr",
     "output_type": "stream",
     "text": [
      "C:\\Users\\theodore.wong\\AppData\\Local\\anaconda3\\envs\\cif\\lib\\site-packages\\xee\\ext.py:685: UserWarning: Unable to retrieve 'system:time_start' values from an ImageCollection due to: No 'system:time_start' values found in the 'ImageCollection'.\n",
      "  warnings.warn(\n"
     ]
    },
    {
     "name": "stdout",
     "output_type": "stream",
     "text": [
      "Extracting layer world pop from Google Earth Engine for bbox [29.97751933 -2.07980328 30.27715038 -1.77956142]:\n",
      "[########################################] | 100% Completed | 1.60 ss\n"
     ]
    },
    {
     "name": "stderr",
     "output_type": "stream",
     "text": [
      "C:\\Users\\theodore.wong\\AppData\\Local\\anaconda3\\envs\\cif\\lib\\site-packages\\xee\\ext.py:685: UserWarning: Unable to retrieve 'system:time_start' values from an ImageCollection due to: No 'system:time_start' values found in the 'ImageCollection'.\n",
      "  warnings.warn(\n"
     ]
    },
    {
     "name": "stdout",
     "output_type": "stream",
     "text": [
      "Extracting layer world pop from Google Earth Engine for bbox [29.97751933 -2.07980328 30.27715038 -1.77956142]:\n",
      "[########################################] | 100% Completed | 575.81 ms\n"
     ]
    },
    {
     "name": "stderr",
     "output_type": "stream",
     "text": [
      "C:\\Users\\theodore.wong\\AppData\\Local\\anaconda3\\envs\\cif\\lib\\site-packages\\xee\\ext.py:685: UserWarning: Unable to retrieve 'system:time_start' values from an ImageCollection due to: No 'system:time_start' values found in the 'ImageCollection'.\n",
      "  warnings.warn(\n"
     ]
    },
    {
     "name": "stdout",
     "output_type": "stream",
     "text": [
      "Extracting layer world pop from Google Earth Engine for bbox [29.97751933 -2.07980328 30.27715038 -1.77956142]:\n",
      "[########################################] | 100% Completed | 811.63 ms\n"
     ]
    },
    {
     "name": "stderr",
     "output_type": "stream",
     "text": [
      "C:\\Users\\theodore.wong\\AppData\\Local\\anaconda3\\envs\\cif\\lib\\site-packages\\xee\\ext.py:685: UserWarning: Unable to retrieve 'system:time_start' values from an ImageCollection due to: No 'system:time_start' values found in the 'ImageCollection'.\n",
      "  warnings.warn(\n"
     ]
    },
    {
     "name": "stdout",
     "output_type": "stream",
     "text": [
      "Extracting layer world pop from Google Earth Engine for bbox [29.97751933 -2.07980328 30.27715038 -1.77956142]:\n",
      "[########################################] | 100% Completed | 806.07 ms\n",
      "(done)\n",
      "\n",
      "\n",
      "RWA Musanze "
     ]
    },
    {
     "name": "stderr",
     "output_type": "stream",
     "text": [
      "C:\\Users\\theodore.wong\\AppData\\Local\\anaconda3\\envs\\cif\\lib\\site-packages\\xee\\ext.py:685: UserWarning: Unable to retrieve 'system:time_start' values from an ImageCollection due to: No 'system:time_start' values found in the 'ImageCollection'.\n",
      "  warnings.warn(\n"
     ]
    },
    {
     "name": "stdout",
     "output_type": "stream",
     "text": [
      "Extracting layer world pop from Google Earth Engine for bbox [29.45000211 -1.59884698 29.76527319 -1.38580709]:\n",
      "[########################################] | 100% Completed | 581.11 ms\n"
     ]
    },
    {
     "name": "stderr",
     "output_type": "stream",
     "text": [
      "C:\\Users\\theodore.wong\\AppData\\Local\\anaconda3\\envs\\cif\\lib\\site-packages\\xee\\ext.py:685: UserWarning: Unable to retrieve 'system:time_start' values from an ImageCollection due to: No 'system:time_start' values found in the 'ImageCollection'.\n",
      "  warnings.warn(\n"
     ]
    },
    {
     "name": "stdout",
     "output_type": "stream",
     "text": [
      "Extracting layer world pop from Google Earth Engine for bbox [29.45000211 -1.59884698 29.76527319 -1.38580709]:\n",
      "[########################################] | 100% Completed | 1.05 ss\n"
     ]
    },
    {
     "name": "stderr",
     "output_type": "stream",
     "text": [
      "C:\\Users\\theodore.wong\\AppData\\Local\\anaconda3\\envs\\cif\\lib\\site-packages\\xee\\ext.py:685: UserWarning: Unable to retrieve 'system:time_start' values from an ImageCollection due to: No 'system:time_start' values found in the 'ImageCollection'.\n",
      "  warnings.warn(\n"
     ]
    },
    {
     "name": "stdout",
     "output_type": "stream",
     "text": [
      "Extracting layer world pop from Google Earth Engine for bbox [29.45000211 -1.59884698 29.76527319 -1.38580709]:\n",
      "[########################################] | 100% Completed | 584.93 ms\n"
     ]
    },
    {
     "name": "stderr",
     "output_type": "stream",
     "text": [
      "C:\\Users\\theodore.wong\\AppData\\Local\\anaconda3\\envs\\cif\\lib\\site-packages\\xee\\ext.py:685: UserWarning: Unable to retrieve 'system:time_start' values from an ImageCollection due to: No 'system:time_start' values found in the 'ImageCollection'.\n",
      "  warnings.warn(\n"
     ]
    },
    {
     "name": "stdout",
     "output_type": "stream",
     "text": [
      "Extracting layer world pop from Google Earth Engine for bbox [29.45000211 -1.59884698 29.76527319 -1.38580709]:\n",
      "[########################################] | 100% Completed | 594.50 ms\n"
     ]
    },
    {
     "name": "stderr",
     "output_type": "stream",
     "text": [
      "C:\\Users\\theodore.wong\\AppData\\Local\\anaconda3\\envs\\cif\\lib\\site-packages\\xee\\ext.py:685: UserWarning: Unable to retrieve 'system:time_start' values from an ImageCollection due to: No 'system:time_start' values found in the 'ImageCollection'.\n",
      "  warnings.warn(\n"
     ]
    },
    {
     "name": "stdout",
     "output_type": "stream",
     "text": [
      "Extracting layer world pop from Google Earth Engine for bbox [29.45000211 -1.59884698 29.76527319 -1.38580709]:\n",
      "[########################################] | 100% Completed | 587.21 ms\n"
     ]
    },
    {
     "name": "stderr",
     "output_type": "stream",
     "text": [
      "C:\\Users\\theodore.wong\\AppData\\Local\\anaconda3\\envs\\cif\\lib\\site-packages\\xee\\ext.py:685: UserWarning: Unable to retrieve 'system:time_start' values from an ImageCollection due to: No 'system:time_start' values found in the 'ImageCollection'.\n",
      "  warnings.warn(\n"
     ]
    },
    {
     "name": "stdout",
     "output_type": "stream",
     "text": [
      "Extracting layer world pop from Google Earth Engine for bbox [29.45000211 -1.59884698 29.76527319 -1.38580709]:\n",
      "[########################################] | 100% Completed | 701.88 ms\n",
      "(done)\n",
      "\n",
      "\n",
      "ZAF CityOfJohannesburg Input covers too much area, splitting into 3 tiles\n"
     ]
    },
    {
     "name": "stderr",
     "output_type": "stream",
     "text": [
      "C:\\Users\\theodore.wong\\AppData\\Local\\anaconda3\\envs\\cif\\lib\\site-packages\\xee\\ext.py:685: UserWarning: Unable to retrieve 'system:time_start' values from an ImageCollection due to: No 'system:time_start' values found in the 'ImageCollection'.\n",
      "  warnings.warn(\n"
     ]
    },
    {
     "name": "stdout",
     "output_type": "stream",
     "text": [
      "Extracting layer world pop from Google Earth Engine for bbox [ 27.71427 -26.52629  28.18942 -26.02629]:\n",
      "[########################################] | 100% Completed | 943.78 ms\n"
     ]
    },
    {
     "name": "stderr",
     "output_type": "stream",
     "text": [
      "C:\\Users\\theodore.wong\\AppData\\Local\\anaconda3\\envs\\cif\\lib\\site-packages\\xee\\ext.py:685: UserWarning: Unable to retrieve 'system:time_start' values from an ImageCollection due to: No 'system:time_start' values found in the 'ImageCollection'.\n",
      "  warnings.warn(\n"
     ]
    },
    {
     "name": "stdout",
     "output_type": "stream",
     "text": [
      "Extracting layer world pop from Google Earth Engine for bbox [ 27.89758999 -26.02629     28.21427    -25.90283   ]:\n",
      "[########################################] | 100% Completed | 474.97 ms\n"
     ]
    },
    {
     "name": "stderr",
     "output_type": "stream",
     "text": [
      "C:\\Users\\theodore.wong\\AppData\\Local\\anaconda3\\envs\\cif\\lib\\site-packages\\xee\\ext.py:685: UserWarning: Unable to retrieve 'system:time_start' values from an ImageCollection due to: No 'system:time_start' values found in the 'ImageCollection'.\n",
      "  warnings.warn(\n"
     ]
    },
    {
     "name": "stdout",
     "output_type": "stream",
     "text": [
      "Extracting layer world pop from Google Earth Engine for bbox [ 28.21427    -25.99463094  28.21446    -25.99352175]:\n",
      "[########################################] | 100% Completed | 340.84 ms\n",
      "Input covers too much area, splitting into 3 tiles\n"
     ]
    },
    {
     "name": "stderr",
     "output_type": "stream",
     "text": [
      "C:\\Users\\theodore.wong\\cif\\cities-cif\\city_metrix\\layers\\layer.py:151: DeprecationWarning: DataFrameGroupBy.apply operated on the grouping columns. This behavior is deprecated, and in a future version of pandas the grouping columns will be excluded from the operation. Either pass `include_groups=False` to exclude the groupings or explicitly select the grouping columns after groupby to silence this warning.\n",
      "  aggregated = tile_stats.groupby(\"zone\").apply(_aggregate_stats, stats_func)\n",
      "C:\\Users\\theodore.wong\\AppData\\Local\\anaconda3\\envs\\cif\\lib\\site-packages\\xee\\ext.py:685: UserWarning: Unable to retrieve 'system:time_start' values from an ImageCollection due to: No 'system:time_start' values found in the 'ImageCollection'.\n",
      "  warnings.warn(\n"
     ]
    },
    {
     "name": "stdout",
     "output_type": "stream",
     "text": [
      "Extracting layer world pop from Google Earth Engine for bbox [ 27.71427 -26.52629  28.18942 -26.02629]:\n",
      "[########################################] | 100% Completed | 902.91 ms\n"
     ]
    },
    {
     "name": "stderr",
     "output_type": "stream",
     "text": [
      "C:\\Users\\theodore.wong\\AppData\\Local\\anaconda3\\envs\\cif\\lib\\site-packages\\xee\\ext.py:685: UserWarning: Unable to retrieve 'system:time_start' values from an ImageCollection due to: No 'system:time_start' values found in the 'ImageCollection'.\n",
      "  warnings.warn(\n"
     ]
    },
    {
     "name": "stdout",
     "output_type": "stream",
     "text": [
      "Extracting layer world pop from Google Earth Engine for bbox [ 27.89758999 -26.02629     28.21427    -25.90283   ]:\n",
      "[########################################] | 100% Completed | 473.93 ms\n"
     ]
    },
    {
     "name": "stderr",
     "output_type": "stream",
     "text": [
      "C:\\Users\\theodore.wong\\AppData\\Local\\anaconda3\\envs\\cif\\lib\\site-packages\\xee\\ext.py:685: UserWarning: Unable to retrieve 'system:time_start' values from an ImageCollection due to: No 'system:time_start' values found in the 'ImageCollection'.\n",
      "  warnings.warn(\n"
     ]
    },
    {
     "name": "stdout",
     "output_type": "stream",
     "text": [
      "Extracting layer world pop from Google Earth Engine for bbox [ 28.21427    -25.99463094  28.21446    -25.99352175]:\n",
      "[########################################] | 100% Completed | 455.99 ms\n"
     ]
    },
    {
     "name": "stderr",
     "output_type": "stream",
     "text": [
      "C:\\Users\\theodore.wong\\cif\\cities-cif\\city_metrix\\layers\\layer.py:151: DeprecationWarning: DataFrameGroupBy.apply operated on the grouping columns. This behavior is deprecated, and in a future version of pandas the grouping columns will be excluded from the operation. Either pass `include_groups=False` to exclude the groupings or explicitly select the grouping columns after groupby to silence this warning.\n",
      "  aggregated = tile_stats.groupby(\"zone\").apply(_aggregate_stats, stats_func)\n"
     ]
    },
    {
     "name": "stdout",
     "output_type": "stream",
     "text": [
      "Input covers too much area, splitting into 3 tiles\n"
     ]
    },
    {
     "name": "stderr",
     "output_type": "stream",
     "text": [
      "C:\\Users\\theodore.wong\\AppData\\Local\\anaconda3\\envs\\cif\\lib\\site-packages\\xee\\ext.py:685: UserWarning: Unable to retrieve 'system:time_start' values from an ImageCollection due to: No 'system:time_start' values found in the 'ImageCollection'.\n",
      "  warnings.warn(\n"
     ]
    },
    {
     "name": "stdout",
     "output_type": "stream",
     "text": [
      "Extracting layer world pop from Google Earth Engine for bbox [ 27.71427 -26.52629  28.18942 -26.02629]:\n",
      "[########################################] | 100% Completed | 1.04 sms\n"
     ]
    },
    {
     "name": "stderr",
     "output_type": "stream",
     "text": [
      "C:\\Users\\theodore.wong\\AppData\\Local\\anaconda3\\envs\\cif\\lib\\site-packages\\xee\\ext.py:685: UserWarning: Unable to retrieve 'system:time_start' values from an ImageCollection due to: No 'system:time_start' values found in the 'ImageCollection'.\n",
      "  warnings.warn(\n"
     ]
    },
    {
     "name": "stdout",
     "output_type": "stream",
     "text": [
      "Extracting layer world pop from Google Earth Engine for bbox [ 27.89758999 -26.02629     28.21427    -25.90283   ]:\n",
      "[########################################] | 100% Completed | 586.38 ms\n"
     ]
    },
    {
     "name": "stderr",
     "output_type": "stream",
     "text": [
      "C:\\Users\\theodore.wong\\AppData\\Local\\anaconda3\\envs\\cif\\lib\\site-packages\\xee\\ext.py:685: UserWarning: Unable to retrieve 'system:time_start' values from an ImageCollection due to: No 'system:time_start' values found in the 'ImageCollection'.\n",
      "  warnings.warn(\n"
     ]
    },
    {
     "name": "stdout",
     "output_type": "stream",
     "text": [
      "Extracting layer world pop from Google Earth Engine for bbox [ 28.21427    -25.99463094  28.21446    -25.99352175]:\n",
      "[########################################] | 100% Completed | 226.18 ms\n",
      "Input covers too much area, splitting into 3 tiles\n"
     ]
    },
    {
     "name": "stderr",
     "output_type": "stream",
     "text": [
      "C:\\Users\\theodore.wong\\cif\\cities-cif\\city_metrix\\layers\\layer.py:151: DeprecationWarning: DataFrameGroupBy.apply operated on the grouping columns. This behavior is deprecated, and in a future version of pandas the grouping columns will be excluded from the operation. Either pass `include_groups=False` to exclude the groupings or explicitly select the grouping columns after groupby to silence this warning.\n",
      "  aggregated = tile_stats.groupby(\"zone\").apply(_aggregate_stats, stats_func)\n",
      "C:\\Users\\theodore.wong\\AppData\\Local\\anaconda3\\envs\\cif\\lib\\site-packages\\xee\\ext.py:685: UserWarning: Unable to retrieve 'system:time_start' values from an ImageCollection due to: No 'system:time_start' values found in the 'ImageCollection'.\n",
      "  warnings.warn(\n"
     ]
    },
    {
     "name": "stdout",
     "output_type": "stream",
     "text": [
      "Extracting layer world pop from Google Earth Engine for bbox [ 27.71427 -26.52629  28.18942 -26.02629]:\n",
      "[########################################] | 100% Completed | 1.04 sms\n"
     ]
    },
    {
     "name": "stderr",
     "output_type": "stream",
     "text": [
      "C:\\Users\\theodore.wong\\AppData\\Local\\anaconda3\\envs\\cif\\lib\\site-packages\\xee\\ext.py:685: UserWarning: Unable to retrieve 'system:time_start' values from an ImageCollection due to: No 'system:time_start' values found in the 'ImageCollection'.\n",
      "  warnings.warn(\n"
     ]
    },
    {
     "name": "stdout",
     "output_type": "stream",
     "text": [
      "Extracting layer world pop from Google Earth Engine for bbox [ 27.89758999 -26.02629     28.21427    -25.90283   ]:\n",
      "[########################################] | 100% Completed | 461.25 ms\n"
     ]
    },
    {
     "name": "stderr",
     "output_type": "stream",
     "text": [
      "C:\\Users\\theodore.wong\\AppData\\Local\\anaconda3\\envs\\cif\\lib\\site-packages\\xee\\ext.py:685: UserWarning: Unable to retrieve 'system:time_start' values from an ImageCollection due to: No 'system:time_start' values found in the 'ImageCollection'.\n",
      "  warnings.warn(\n"
     ]
    },
    {
     "name": "stdout",
     "output_type": "stream",
     "text": [
      "Extracting layer world pop from Google Earth Engine for bbox [ 28.21427    -25.99463094  28.21446    -25.99352175]:\n",
      "[########################################] | 100% Completed | 345.81 ms\n"
     ]
    },
    {
     "name": "stderr",
     "output_type": "stream",
     "text": [
      "C:\\Users\\theodore.wong\\cif\\cities-cif\\city_metrix\\layers\\layer.py:151: DeprecationWarning: DataFrameGroupBy.apply operated on the grouping columns. This behavior is deprecated, and in a future version of pandas the grouping columns will be excluded from the operation. Either pass `include_groups=False` to exclude the groupings or explicitly select the grouping columns after groupby to silence this warning.\n",
      "  aggregated = tile_stats.groupby(\"zone\").apply(_aggregate_stats, stats_func)\n"
     ]
    },
    {
     "name": "stdout",
     "output_type": "stream",
     "text": [
      "Input covers too much area, splitting into 3 tiles\n"
     ]
    },
    {
     "name": "stderr",
     "output_type": "stream",
     "text": [
      "C:\\Users\\theodore.wong\\AppData\\Local\\anaconda3\\envs\\cif\\lib\\site-packages\\xee\\ext.py:685: UserWarning: Unable to retrieve 'system:time_start' values from an ImageCollection due to: No 'system:time_start' values found in the 'ImageCollection'.\n",
      "  warnings.warn(\n"
     ]
    },
    {
     "name": "stdout",
     "output_type": "stream",
     "text": [
      "Extracting layer world pop from Google Earth Engine for bbox [ 27.71427 -26.52629  28.18942 -26.02629]:\n",
      "[########################################] | 100% Completed | 1.41 sms\n"
     ]
    },
    {
     "name": "stderr",
     "output_type": "stream",
     "text": [
      "C:\\Users\\theodore.wong\\AppData\\Local\\anaconda3\\envs\\cif\\lib\\site-packages\\xee\\ext.py:685: UserWarning: Unable to retrieve 'system:time_start' values from an ImageCollection due to: No 'system:time_start' values found in the 'ImageCollection'.\n",
      "  warnings.warn(\n"
     ]
    },
    {
     "name": "stdout",
     "output_type": "stream",
     "text": [
      "Extracting layer world pop from Google Earth Engine for bbox [ 27.89758999 -26.02629     28.21427    -25.90283   ]:\n",
      "[########################################] | 100% Completed | 464.48 ms\n"
     ]
    },
    {
     "name": "stderr",
     "output_type": "stream",
     "text": [
      "C:\\Users\\theodore.wong\\AppData\\Local\\anaconda3\\envs\\cif\\lib\\site-packages\\xee\\ext.py:685: UserWarning: Unable to retrieve 'system:time_start' values from an ImageCollection due to: No 'system:time_start' values found in the 'ImageCollection'.\n",
      "  warnings.warn(\n"
     ]
    },
    {
     "name": "stdout",
     "output_type": "stream",
     "text": [
      "Extracting layer world pop from Google Earth Engine for bbox [ 28.21427    -25.99463094  28.21446    -25.99352175]:\n",
      "[########################################] | 100% Completed | 331.54 ms\n"
     ]
    },
    {
     "name": "stderr",
     "output_type": "stream",
     "text": [
      "C:\\Users\\theodore.wong\\cif\\cities-cif\\city_metrix\\layers\\layer.py:151: DeprecationWarning: DataFrameGroupBy.apply operated on the grouping columns. This behavior is deprecated, and in a future version of pandas the grouping columns will be excluded from the operation. Either pass `include_groups=False` to exclude the groupings or explicitly select the grouping columns after groupby to silence this warning.\n",
      "  aggregated = tile_stats.groupby(\"zone\").apply(_aggregate_stats, stats_func)\n"
     ]
    },
    {
     "name": "stdout",
     "output_type": "stream",
     "text": [
      "Input covers too much area, splitting into 3 tiles\n"
     ]
    },
    {
     "name": "stderr",
     "output_type": "stream",
     "text": [
      "C:\\Users\\theodore.wong\\AppData\\Local\\anaconda3\\envs\\cif\\lib\\site-packages\\xee\\ext.py:685: UserWarning: Unable to retrieve 'system:time_start' values from an ImageCollection due to: No 'system:time_start' values found in the 'ImageCollection'.\n",
      "  warnings.warn(\n"
     ]
    },
    {
     "name": "stdout",
     "output_type": "stream",
     "text": [
      "Extracting layer world pop from Google Earth Engine for bbox [ 27.71427 -26.52629  28.18942 -26.02629]:\n",
      "[########################################] | 100% Completed | 807.03 ms\n"
     ]
    },
    {
     "name": "stderr",
     "output_type": "stream",
     "text": [
      "C:\\Users\\theodore.wong\\AppData\\Local\\anaconda3\\envs\\cif\\lib\\site-packages\\xee\\ext.py:685: UserWarning: Unable to retrieve 'system:time_start' values from an ImageCollection due to: No 'system:time_start' values found in the 'ImageCollection'.\n",
      "  warnings.warn(\n"
     ]
    },
    {
     "name": "stdout",
     "output_type": "stream",
     "text": [
      "Extracting layer world pop from Google Earth Engine for bbox [ 27.89758999 -26.02629     28.21427    -25.90283   ]:\n",
      "[########################################] | 100% Completed | 359.80 ms\n"
     ]
    },
    {
     "name": "stderr",
     "output_type": "stream",
     "text": [
      "C:\\Users\\theodore.wong\\AppData\\Local\\anaconda3\\envs\\cif\\lib\\site-packages\\xee\\ext.py:685: UserWarning: Unable to retrieve 'system:time_start' values from an ImageCollection due to: No 'system:time_start' values found in the 'ImageCollection'.\n",
      "  warnings.warn(\n"
     ]
    },
    {
     "name": "stdout",
     "output_type": "stream",
     "text": [
      "Extracting layer world pop from Google Earth Engine for bbox [ 28.21427    -25.99463094  28.21446    -25.99352175]:\n",
      "[########################################] | 100% Completed | 236.55 ms\n"
     ]
    },
    {
     "name": "stderr",
     "output_type": "stream",
     "text": [
      "C:\\Users\\theodore.wong\\cif\\cities-cif\\city_metrix\\layers\\layer.py:151: DeprecationWarning: DataFrameGroupBy.apply operated on the grouping columns. This behavior is deprecated, and in a future version of pandas the grouping columns will be excluded from the operation. Either pass `include_groups=False` to exclude the groupings or explicitly select the grouping columns after groupby to silence this warning.\n",
      "  aggregated = tile_stats.groupby(\"zone\").apply(_aggregate_stats, stats_func)\n"
     ]
    },
    {
     "name": "stdout",
     "output_type": "stream",
     "text": [
      "(done)\n",
      "\n",
      "\n",
      "ZAF NelsonMandelaBay Input covers too much area, splitting into 2 tiles\n"
     ]
    },
    {
     "name": "stderr",
     "output_type": "stream",
     "text": [
      "C:\\Users\\theodore.wong\\AppData\\Local\\anaconda3\\envs\\cif\\lib\\site-packages\\xee\\ext.py:685: UserWarning: Unable to retrieve 'system:time_start' values from an ImageCollection due to: No 'system:time_start' values found in the 'ImageCollection'.\n",
      "  warnings.warn(\n"
     ]
    },
    {
     "name": "stdout",
     "output_type": "stream",
     "text": [
      "Extracting layer world pop from Google Earth Engine for bbox [ 25.19221 -34.05076  25.69221 -33.55308]:\n",
      "[########################################] | 100% Completed | 823.69 ms\n"
     ]
    },
    {
     "name": "stderr",
     "output_type": "stream",
     "text": [
      "C:\\Users\\theodore.wong\\AppData\\Local\\anaconda3\\envs\\cif\\lib\\site-packages\\xee\\ext.py:685: UserWarning: Unable to retrieve 'system:time_start' values from an ImageCollection due to: No 'system:time_start' values found in the 'ImageCollection'.\n",
      "  warnings.warn(\n"
     ]
    },
    {
     "name": "stdout",
     "output_type": "stream",
     "text": [
      "Extracting layer world pop from Google Earth Engine for bbox [ 25.69221    -34.03228     25.868165   -33.60739586]:\n",
      "[########################################] | 100% Completed | 567.82 ms\n",
      "Input covers too much area, splitting into 2 tiles\n"
     ]
    },
    {
     "name": "stderr",
     "output_type": "stream",
     "text": [
      "C:\\Users\\theodore.wong\\cif\\cities-cif\\city_metrix\\layers\\layer.py:151: DeprecationWarning: DataFrameGroupBy.apply operated on the grouping columns. This behavior is deprecated, and in a future version of pandas the grouping columns will be excluded from the operation. Either pass `include_groups=False` to exclude the groupings or explicitly select the grouping columns after groupby to silence this warning.\n",
      "  aggregated = tile_stats.groupby(\"zone\").apply(_aggregate_stats, stats_func)\n",
      "C:\\Users\\theodore.wong\\AppData\\Local\\anaconda3\\envs\\cif\\lib\\site-packages\\xee\\ext.py:685: UserWarning: Unable to retrieve 'system:time_start' values from an ImageCollection due to: No 'system:time_start' values found in the 'ImageCollection'.\n",
      "  warnings.warn(\n"
     ]
    },
    {
     "name": "stdout",
     "output_type": "stream",
     "text": [
      "Extracting layer world pop from Google Earth Engine for bbox [ 25.19221 -34.05076  25.69221 -33.55308]:\n",
      "[########################################] | 100% Completed | 1.04 sms\n"
     ]
    },
    {
     "name": "stderr",
     "output_type": "stream",
     "text": [
      "C:\\Users\\theodore.wong\\AppData\\Local\\anaconda3\\envs\\cif\\lib\\site-packages\\xee\\ext.py:685: UserWarning: Unable to retrieve 'system:time_start' values from an ImageCollection due to: No 'system:time_start' values found in the 'ImageCollection'.\n",
      "  warnings.warn(\n"
     ]
    },
    {
     "name": "stdout",
     "output_type": "stream",
     "text": [
      "Extracting layer world pop from Google Earth Engine for bbox [ 25.69221    -34.03228     25.868165   -33.60739586]:\n",
      "[########################################] | 100% Completed | 814.10 ms\n"
     ]
    },
    {
     "name": "stderr",
     "output_type": "stream",
     "text": [
      "C:\\Users\\theodore.wong\\cif\\cities-cif\\city_metrix\\layers\\layer.py:151: DeprecationWarning: DataFrameGroupBy.apply operated on the grouping columns. This behavior is deprecated, and in a future version of pandas the grouping columns will be excluded from the operation. Either pass `include_groups=False` to exclude the groupings or explicitly select the grouping columns after groupby to silence this warning.\n",
      "  aggregated = tile_stats.groupby(\"zone\").apply(_aggregate_stats, stats_func)\n"
     ]
    },
    {
     "name": "stdout",
     "output_type": "stream",
     "text": [
      "Input covers too much area, splitting into 2 tiles\n"
     ]
    },
    {
     "name": "stderr",
     "output_type": "stream",
     "text": [
      "C:\\Users\\theodore.wong\\AppData\\Local\\anaconda3\\envs\\cif\\lib\\site-packages\\xee\\ext.py:685: UserWarning: Unable to retrieve 'system:time_start' values from an ImageCollection due to: No 'system:time_start' values found in the 'ImageCollection'.\n",
      "  warnings.warn(\n"
     ]
    },
    {
     "name": "stdout",
     "output_type": "stream",
     "text": [
      "Extracting layer world pop from Google Earth Engine for bbox [ 25.19221 -34.05076  25.69221 -33.55308]:\n",
      "[########################################] | 100% Completed | 922.60 ms\n"
     ]
    },
    {
     "name": "stderr",
     "output_type": "stream",
     "text": [
      "C:\\Users\\theodore.wong\\AppData\\Local\\anaconda3\\envs\\cif\\lib\\site-packages\\xee\\ext.py:685: UserWarning: Unable to retrieve 'system:time_start' values from an ImageCollection due to: No 'system:time_start' values found in the 'ImageCollection'.\n",
      "  warnings.warn(\n"
     ]
    },
    {
     "name": "stdout",
     "output_type": "stream",
     "text": [
      "Extracting layer world pop from Google Earth Engine for bbox [ 25.69221    -34.03228     25.868165   -33.60739586]:\n",
      "[########################################] | 100% Completed | 466.31 ms\n",
      "Input covers too much area, splitting into 2 tiles\n"
     ]
    },
    {
     "name": "stderr",
     "output_type": "stream",
     "text": [
      "C:\\Users\\theodore.wong\\cif\\cities-cif\\city_metrix\\layers\\layer.py:151: DeprecationWarning: DataFrameGroupBy.apply operated on the grouping columns. This behavior is deprecated, and in a future version of pandas the grouping columns will be excluded from the operation. Either pass `include_groups=False` to exclude the groupings or explicitly select the grouping columns after groupby to silence this warning.\n",
      "  aggregated = tile_stats.groupby(\"zone\").apply(_aggregate_stats, stats_func)\n",
      "C:\\Users\\theodore.wong\\AppData\\Local\\anaconda3\\envs\\cif\\lib\\site-packages\\xee\\ext.py:685: UserWarning: Unable to retrieve 'system:time_start' values from an ImageCollection due to: No 'system:time_start' values found in the 'ImageCollection'.\n",
      "  warnings.warn(\n"
     ]
    },
    {
     "name": "stdout",
     "output_type": "stream",
     "text": [
      "Extracting layer world pop from Google Earth Engine for bbox [ 25.19221 -34.05076  25.69221 -33.55308]:\n",
      "[########################################] | 100% Completed | 974.84 ms\n"
     ]
    },
    {
     "name": "stderr",
     "output_type": "stream",
     "text": [
      "C:\\Users\\theodore.wong\\AppData\\Local\\anaconda3\\envs\\cif\\lib\\site-packages\\xee\\ext.py:685: UserWarning: Unable to retrieve 'system:time_start' values from an ImageCollection due to: No 'system:time_start' values found in the 'ImageCollection'.\n",
      "  warnings.warn(\n"
     ]
    },
    {
     "name": "stdout",
     "output_type": "stream",
     "text": [
      "Extracting layer world pop from Google Earth Engine for bbox [ 25.69221    -34.03228     25.868165   -33.60739586]:\n",
      "[########################################] | 100% Completed | 582.82 ms\n"
     ]
    },
    {
     "name": "stderr",
     "output_type": "stream",
     "text": [
      "C:\\Users\\theodore.wong\\cif\\cities-cif\\city_metrix\\layers\\layer.py:151: DeprecationWarning: DataFrameGroupBy.apply operated on the grouping columns. This behavior is deprecated, and in a future version of pandas the grouping columns will be excluded from the operation. Either pass `include_groups=False` to exclude the groupings or explicitly select the grouping columns after groupby to silence this warning.\n",
      "  aggregated = tile_stats.groupby(\"zone\").apply(_aggregate_stats, stats_func)\n"
     ]
    },
    {
     "name": "stdout",
     "output_type": "stream",
     "text": [
      "Input covers too much area, splitting into 2 tiles\n"
     ]
    },
    {
     "name": "stderr",
     "output_type": "stream",
     "text": [
      "C:\\Users\\theodore.wong\\AppData\\Local\\anaconda3\\envs\\cif\\lib\\site-packages\\xee\\ext.py:685: UserWarning: Unable to retrieve 'system:time_start' values from an ImageCollection due to: No 'system:time_start' values found in the 'ImageCollection'.\n",
      "  warnings.warn(\n"
     ]
    },
    {
     "name": "stdout",
     "output_type": "stream",
     "text": [
      "Extracting layer world pop from Google Earth Engine for bbox [ 25.19221 -34.05076  25.69221 -33.55308]:\n",
      "[########################################] | 100% Completed | 1.26 sms\n"
     ]
    },
    {
     "name": "stderr",
     "output_type": "stream",
     "text": [
      "C:\\Users\\theodore.wong\\AppData\\Local\\anaconda3\\envs\\cif\\lib\\site-packages\\xee\\ext.py:685: UserWarning: Unable to retrieve 'system:time_start' values from an ImageCollection due to: No 'system:time_start' values found in the 'ImageCollection'.\n",
      "  warnings.warn(\n"
     ]
    },
    {
     "name": "stdout",
     "output_type": "stream",
     "text": [
      "Extracting layer world pop from Google Earth Engine for bbox [ 25.69221    -34.03228     25.868165   -33.60739586]:\n",
      "[########################################] | 100% Completed | 581.44 ms\n"
     ]
    },
    {
     "ename": "NoDataInBounds",
     "evalue": "No data found in bounds.",
     "output_type": "error",
     "traceback": [
      "\u001b[1;31m---------------------------------------------------------------------------\u001b[0m",
      "\u001b[1;31mNoDataInBounds\u001b[0m                            Traceback (most recent call last)",
      "Cell \u001b[1;32mIn[72], line 28\u001b[0m\n\u001b[0;32m     26\u001b[0m isochrone_layer \u001b[38;5;241m=\u001b[39m Isochrone(filename\u001b[38;5;241m=\u001b[39mschoolrastername)\n\u001b[0;32m     27\u001b[0m total_pop \u001b[38;5;241m=\u001b[39m WorldPop()\u001b[38;5;241m.\u001b[39mgroupby(zones)\u001b[38;5;241m.\u001b[39mcount() \u001b[38;5;241m*\u001b[39m WorldPop()\u001b[38;5;241m.\u001b[39mgroupby(zones)\u001b[38;5;241m.\u001b[39mmean()\n\u001b[1;32m---> 28\u001b[0m access_pop \u001b[38;5;241m=\u001b[39m \u001b[43mWorldPop\u001b[49m\u001b[43m(\u001b[49m\u001b[43m)\u001b[49m\u001b[38;5;241;43m.\u001b[39;49m\u001b[43mmask\u001b[49m\u001b[43m(\u001b[49m\u001b[43misochrone_layer\u001b[49m\u001b[43m)\u001b[49m\u001b[38;5;241;43m.\u001b[39;49m\u001b[43mgroupby\u001b[49m\u001b[43m(\u001b[49m\u001b[43mzones\u001b[49m\u001b[43m)\u001b[49m\u001b[38;5;241;43m.\u001b[39;49m\u001b[43mcount\u001b[49m\u001b[43m(\u001b[49m\u001b[43m)\u001b[49m \u001b[38;5;241m*\u001b[39m WorldPop()\u001b[38;5;241m.\u001b[39mmask(isochrone_layer)\u001b[38;5;241m.\u001b[39mgroupby(zones)\u001b[38;5;241m.\u001b[39mmean()\n\u001b[0;32m     30\u001b[0m zones[\u001b[38;5;124m'\u001b[39m\u001b[38;5;124maccess_pop\u001b[39m\u001b[38;5;124m'\u001b[39m] \u001b[38;5;241m=\u001b[39m access_pop\n\u001b[0;32m     31\u001b[0m zones[\u001b[38;5;124m'\u001b[39m\u001b[38;5;124maccess_fraction\u001b[39m\u001b[38;5;124m'\u001b[39m] \u001b[38;5;241m=\u001b[39m access_pop \u001b[38;5;241m/\u001b[39m total_pop\n",
      "File \u001b[1;32m~\\cif\\cities-cif\\city_metrix\\layers\\layer.py:98\u001b[0m, in \u001b[0;36mLayerGroupBy.count\u001b[1;34m(self)\u001b[0m\n\u001b[0;32m     97\u001b[0m \u001b[38;5;28;01mdef\u001b[39;00m \u001b[38;5;21mcount\u001b[39m(\u001b[38;5;28mself\u001b[39m):\n\u001b[1;32m---> 98\u001b[0m     \u001b[38;5;28;01mreturn\u001b[39;00m \u001b[38;5;28;43mself\u001b[39;49m\u001b[38;5;241;43m.\u001b[39;49m\u001b[43m_zonal_stats\u001b[49m\u001b[43m(\u001b[49m\u001b[38;5;124;43m\"\u001b[39;49m\u001b[38;5;124;43mcount\u001b[39;49m\u001b[38;5;124;43m\"\u001b[39;49m\u001b[43m)\u001b[49m\n",
      "File \u001b[1;32m~\\cif\\cities-cif\\city_metrix\\layers\\layer.py:107\u001b[0m, in \u001b[0;36mLayerGroupBy._zonal_stats\u001b[1;34m(self, stats_func)\u001b[0m\n\u001b[0;32m    105\u001b[0m     stats \u001b[38;5;241m=\u001b[39m \u001b[38;5;28mself\u001b[39m\u001b[38;5;241m.\u001b[39m_zonal_stats_tile(\u001b[38;5;28mself\u001b[39m\u001b[38;5;241m.\u001b[39mzones, [stats_func])\n\u001b[0;32m    106\u001b[0m \u001b[38;5;28;01melse\u001b[39;00m:\n\u001b[1;32m--> 107\u001b[0m     stats \u001b[38;5;241m=\u001b[39m \u001b[38;5;28;43mself\u001b[39;49m\u001b[38;5;241;43m.\u001b[39;49m\u001b[43m_zonal_stats_fishnet\u001b[49m\u001b[43m(\u001b[49m\u001b[43mstats_func\u001b[49m\u001b[43m)\u001b[49m\n\u001b[0;32m    109\u001b[0m \u001b[38;5;28;01mif\u001b[39;00m \u001b[38;5;28mself\u001b[39m\u001b[38;5;241m.\u001b[39mlayer \u001b[38;5;129;01mis\u001b[39;00m \u001b[38;5;129;01mnot\u001b[39;00m \u001b[38;5;28;01mNone\u001b[39;00m:\n\u001b[0;32m    110\u001b[0m     \u001b[38;5;66;03m# decode zone and layer value using bit operations\u001b[39;00m\n\u001b[0;32m    111\u001b[0m     stats[\u001b[38;5;124m\"\u001b[39m\u001b[38;5;124mlayer\u001b[39m\u001b[38;5;124m\"\u001b[39m] \u001b[38;5;241m=\u001b[39m stats[\u001b[38;5;124m\"\u001b[39m\u001b[38;5;124mzone\u001b[39m\u001b[38;5;124m\"\u001b[39m]\u001b[38;5;241m.\u001b[39mastype(\u001b[38;5;124m\"\u001b[39m\u001b[38;5;124muint32\u001b[39m\u001b[38;5;124m\"\u001b[39m)\u001b[38;5;241m.\u001b[39mvalues \u001b[38;5;241m>>\u001b[39m \u001b[38;5;241m16\u001b[39m\n",
      "File \u001b[1;32m~\\cif\\cities-cif\\city_metrix\\layers\\layer.py:146\u001b[0m, in \u001b[0;36mLayerGroupBy._zonal_stats_fishnet\u001b[1;34m(self, stats_func)\u001b[0m\n\u001b[0;32m    144\u001b[0m \u001b[38;5;66;03m# run zonal stats per data frame\u001b[39;00m\n\u001b[0;32m    145\u001b[0m \u001b[38;5;28mprint\u001b[39m(\u001b[38;5;124mf\u001b[39m\u001b[38;5;124m\"\u001b[39m\u001b[38;5;124mInput covers too much area, splitting into \u001b[39m\u001b[38;5;132;01m{\u001b[39;00m\u001b[38;5;28mlen\u001b[39m(tile_gdfs)\u001b[38;5;132;01m}\u001b[39;00m\u001b[38;5;124m tiles\u001b[39m\u001b[38;5;124m\"\u001b[39m)\n\u001b[1;32m--> 146\u001b[0m tile_stats \u001b[38;5;241m=\u001b[39m pd\u001b[38;5;241m.\u001b[39mconcat([\n\u001b[0;32m    147\u001b[0m     \u001b[38;5;28mself\u001b[39m\u001b[38;5;241m.\u001b[39m_zonal_stats_tile(tile_gdf, tile_funcs)\n\u001b[0;32m    148\u001b[0m     \u001b[38;5;28;01mfor\u001b[39;00m tile_gdf \u001b[38;5;129;01min\u001b[39;00m tile_gdfs\n\u001b[0;32m    149\u001b[0m ])\n\u001b[0;32m    151\u001b[0m aggregated \u001b[38;5;241m=\u001b[39m tile_stats\u001b[38;5;241m.\u001b[39mgroupby(\u001b[38;5;124m\"\u001b[39m\u001b[38;5;124mzone\u001b[39m\u001b[38;5;124m\"\u001b[39m)\u001b[38;5;241m.\u001b[39mapply(_aggregate_stats, stats_func)\n\u001b[0;32m    152\u001b[0m aggregated\u001b[38;5;241m.\u001b[39mname \u001b[38;5;241m=\u001b[39m stats_func\n",
      "File \u001b[1;32m~\\cif\\cities-cif\\city_metrix\\layers\\layer.py:147\u001b[0m, in \u001b[0;36m<listcomp>\u001b[1;34m(.0)\u001b[0m\n\u001b[0;32m    144\u001b[0m \u001b[38;5;66;03m# run zonal stats per data frame\u001b[39;00m\n\u001b[0;32m    145\u001b[0m \u001b[38;5;28mprint\u001b[39m(\u001b[38;5;124mf\u001b[39m\u001b[38;5;124m\"\u001b[39m\u001b[38;5;124mInput covers too much area, splitting into \u001b[39m\u001b[38;5;132;01m{\u001b[39;00m\u001b[38;5;28mlen\u001b[39m(tile_gdfs)\u001b[38;5;132;01m}\u001b[39;00m\u001b[38;5;124m tiles\u001b[39m\u001b[38;5;124m\"\u001b[39m)\n\u001b[0;32m    146\u001b[0m tile_stats \u001b[38;5;241m=\u001b[39m pd\u001b[38;5;241m.\u001b[39mconcat([\n\u001b[1;32m--> 147\u001b[0m     \u001b[38;5;28;43mself\u001b[39;49m\u001b[38;5;241;43m.\u001b[39;49m\u001b[43m_zonal_stats_tile\u001b[49m\u001b[43m(\u001b[49m\u001b[43mtile_gdf\u001b[49m\u001b[43m,\u001b[49m\u001b[43m \u001b[49m\u001b[43mtile_funcs\u001b[49m\u001b[43m)\u001b[49m\n\u001b[0;32m    148\u001b[0m     \u001b[38;5;28;01mfor\u001b[39;00m tile_gdf \u001b[38;5;129;01min\u001b[39;00m tile_gdfs\n\u001b[0;32m    149\u001b[0m ])\n\u001b[0;32m    151\u001b[0m aggregated \u001b[38;5;241m=\u001b[39m tile_stats\u001b[38;5;241m.\u001b[39mgroupby(\u001b[38;5;124m\"\u001b[39m\u001b[38;5;124mzone\u001b[39m\u001b[38;5;124m\"\u001b[39m)\u001b[38;5;241m.\u001b[39mapply(_aggregate_stats, stats_func)\n\u001b[0;32m    152\u001b[0m aggregated\u001b[38;5;241m.\u001b[39mname \u001b[38;5;241m=\u001b[39m stats_func\n",
      "File \u001b[1;32m~\\cif\\cities-cif\\city_metrix\\layers\\layer.py:159\u001b[0m, in \u001b[0;36mLayerGroupBy._zonal_stats_tile\u001b[1;34m(self, tile_gdf, stats_func)\u001b[0m\n\u001b[0;32m    157\u001b[0m bbox \u001b[38;5;241m=\u001b[39m tile_gdf\u001b[38;5;241m.\u001b[39mtotal_bounds\n\u001b[0;32m    158\u001b[0m aggregate_data \u001b[38;5;241m=\u001b[39m \u001b[38;5;28mself\u001b[39m\u001b[38;5;241m.\u001b[39maggregate\u001b[38;5;241m.\u001b[39mget_data(bbox)\n\u001b[1;32m--> 159\u001b[0m mask_datum \u001b[38;5;241m=\u001b[39m [mask\u001b[38;5;241m.\u001b[39mget_data(bbox) \u001b[38;5;28;01mfor\u001b[39;00m mask \u001b[38;5;129;01min\u001b[39;00m \u001b[38;5;28mself\u001b[39m\u001b[38;5;241m.\u001b[39mmasks]\n\u001b[0;32m    160\u001b[0m layer_data \u001b[38;5;241m=\u001b[39m \u001b[38;5;28mself\u001b[39m\u001b[38;5;241m.\u001b[39mlayer\u001b[38;5;241m.\u001b[39mget_data(bbox) \u001b[38;5;28;01mif\u001b[39;00m \u001b[38;5;28mself\u001b[39m\u001b[38;5;241m.\u001b[39mlayer \u001b[38;5;129;01mis\u001b[39;00m \u001b[38;5;129;01mnot\u001b[39;00m \u001b[38;5;28;01mNone\u001b[39;00m \u001b[38;5;28;01melse\u001b[39;00m \u001b[38;5;28;01mNone\u001b[39;00m\n\u001b[0;32m    162\u001b[0m \u001b[38;5;66;03m# align to highest resolution raster, which should be the largest raster\u001b[39;00m\n\u001b[0;32m    163\u001b[0m \u001b[38;5;66;03m# since all are clipped to the extent\u001b[39;00m\n",
      "File \u001b[1;32m~\\cif\\cities-cif\\city_metrix\\layers\\layer.py:159\u001b[0m, in \u001b[0;36m<listcomp>\u001b[1;34m(.0)\u001b[0m\n\u001b[0;32m    157\u001b[0m bbox \u001b[38;5;241m=\u001b[39m tile_gdf\u001b[38;5;241m.\u001b[39mtotal_bounds\n\u001b[0;32m    158\u001b[0m aggregate_data \u001b[38;5;241m=\u001b[39m \u001b[38;5;28mself\u001b[39m\u001b[38;5;241m.\u001b[39maggregate\u001b[38;5;241m.\u001b[39mget_data(bbox)\n\u001b[1;32m--> 159\u001b[0m mask_datum \u001b[38;5;241m=\u001b[39m [\u001b[43mmask\u001b[49m\u001b[38;5;241;43m.\u001b[39;49m\u001b[43mget_data\u001b[49m\u001b[43m(\u001b[49m\u001b[43mbbox\u001b[49m\u001b[43m)\u001b[49m \u001b[38;5;28;01mfor\u001b[39;00m mask \u001b[38;5;129;01min\u001b[39;00m \u001b[38;5;28mself\u001b[39m\u001b[38;5;241m.\u001b[39mmasks]\n\u001b[0;32m    160\u001b[0m layer_data \u001b[38;5;241m=\u001b[39m \u001b[38;5;28mself\u001b[39m\u001b[38;5;241m.\u001b[39mlayer\u001b[38;5;241m.\u001b[39mget_data(bbox) \u001b[38;5;28;01mif\u001b[39;00m \u001b[38;5;28mself\u001b[39m\u001b[38;5;241m.\u001b[39mlayer \u001b[38;5;129;01mis\u001b[39;00m \u001b[38;5;129;01mnot\u001b[39;00m \u001b[38;5;28;01mNone\u001b[39;00m \u001b[38;5;28;01melse\u001b[39;00m \u001b[38;5;28;01mNone\u001b[39;00m\n\u001b[0;32m    162\u001b[0m \u001b[38;5;66;03m# align to highest resolution raster, which should be the largest raster\u001b[39;00m\n\u001b[0;32m    163\u001b[0m \u001b[38;5;66;03m# since all are clipped to the extent\u001b[39;00m\n",
      "Cell \u001b[1;32mIn[70], line 13\u001b[0m, in \u001b[0;36mIsochrone.get_data\u001b[1;34m(self, bbox)\u001b[0m\n\u001b[0;32m     11\u001b[0m target_epsg \u001b[38;5;241m=\u001b[39m get_utm_zone_epsg(bbox)\n\u001b[0;32m     12\u001b[0m raster_utm \u001b[38;5;241m=\u001b[39m isochrone_raster\u001b[38;5;241m.\u001b[39mrio\u001b[38;5;241m.\u001b[39mreproject(target_epsg)\n\u001b[1;32m---> 13\u001b[0m clipped \u001b[38;5;241m=\u001b[39m \u001b[43misochrone_raster\u001b[49m\u001b[38;5;241;43m.\u001b[39;49m\u001b[43mrio\u001b[49m\u001b[38;5;241;43m.\u001b[39;49m\u001b[43mreproject\u001b[49m\u001b[43m(\u001b[49m\u001b[38;5;124;43m'\u001b[39;49m\u001b[38;5;124;43mEPSG:4326\u001b[39;49m\u001b[38;5;124;43m'\u001b[39;49m\u001b[43m)\u001b[49m\u001b[38;5;241;43m.\u001b[39;49m\u001b[43mrio\u001b[49m\u001b[38;5;241;43m.\u001b[39;49m\u001b[43mclip_box\u001b[49m\u001b[43m(\u001b[49m\u001b[38;5;241;43m*\u001b[39;49m\u001b[43mbbox\u001b[49m\u001b[43m,\u001b[49m\u001b[43m \u001b[49m\u001b[43mallow_one_dimensional_raster\u001b[49m\u001b[38;5;241;43m=\u001b[39;49m\u001b[38;5;28;43;01mTrue\u001b[39;49;00m\u001b[43m)\u001b[49m\n\u001b[0;32m     14\u001b[0m \u001b[38;5;28;01mreturn\u001b[39;00m clipped[\u001b[38;5;241m0\u001b[39m]\u001b[38;5;241m.\u001b[39mwhere(clipped[\u001b[38;5;241m0\u001b[39m] \u001b[38;5;241m>\u001b[39m\u001b[38;5;241m=\u001b[39m \u001b[38;5;28mself\u001b[39m\u001b[38;5;241m.\u001b[39mmin_threshold)\n",
      "File \u001b[1;32m~\\AppData\\Local\\anaconda3\\envs\\cif\\lib\\site-packages\\rioxarray\\raster_array.py:826\u001b[0m, in \u001b[0;36mRasterArray.clip_box\u001b[1;34m(self, minx, miny, maxx, maxy, auto_expand, auto_expand_limit, crs, allow_one_dimensional_raster)\u001b[0m\n\u001b[0;32m    824\u001b[0m     \u001b[38;5;28;01mraise\u001b[39;00m window_error\n\u001b[0;32m    825\u001b[0m \u001b[38;5;28;01mif\u001b[39;00m cl_array\u001b[38;5;241m.\u001b[39mrio\u001b[38;5;241m.\u001b[39mwidth \u001b[38;5;241m<\u001b[39m \u001b[38;5;241m1\u001b[39m \u001b[38;5;129;01mor\u001b[39;00m cl_array\u001b[38;5;241m.\u001b[39mrio\u001b[38;5;241m.\u001b[39mheight \u001b[38;5;241m<\u001b[39m \u001b[38;5;241m1\u001b[39m:\n\u001b[1;32m--> 826\u001b[0m     \u001b[38;5;28;01mraise\u001b[39;00m NoDataInBounds(\n\u001b[0;32m    827\u001b[0m         \u001b[38;5;124mf\u001b[39m\u001b[38;5;124m\"\u001b[39m\u001b[38;5;124mNo data found in bounds.\u001b[39m\u001b[38;5;132;01m{\u001b[39;00m_get_data_var_message(\u001b[38;5;28mself\u001b[39m\u001b[38;5;241m.\u001b[39m_obj)\u001b[38;5;132;01m}\u001b[39;00m\u001b[38;5;124m\"\u001b[39m\n\u001b[0;32m    828\u001b[0m     )\n\u001b[0;32m    829\u001b[0m \u001b[38;5;28;01mif\u001b[39;00m \u001b[38;5;129;01mnot\u001b[39;00m allow_one_dimensional_raster \u001b[38;5;129;01mand\u001b[39;00m (\n\u001b[0;32m    830\u001b[0m     cl_array\u001b[38;5;241m.\u001b[39mrio\u001b[38;5;241m.\u001b[39mwidth \u001b[38;5;241m==\u001b[39m \u001b[38;5;241m1\u001b[39m \u001b[38;5;129;01mor\u001b[39;00m cl_array\u001b[38;5;241m.\u001b[39mrio\u001b[38;5;241m.\u001b[39mheight \u001b[38;5;241m==\u001b[39m \u001b[38;5;241m1\u001b[39m\n\u001b[0;32m    831\u001b[0m ):\n\u001b[0;32m    832\u001b[0m     \u001b[38;5;28;01mraise\u001b[39;00m OneDimensionalRaster(\n\u001b[0;32m    833\u001b[0m         \u001b[38;5;124m\"\u001b[39m\u001b[38;5;124mAt least one of the clipped raster x,y coordinates\u001b[39m\u001b[38;5;124m\"\u001b[39m\n\u001b[0;32m    834\u001b[0m         \u001b[38;5;124m\"\u001b[39m\u001b[38;5;124m has only one point.\u001b[39m\u001b[38;5;124m\"\u001b[39m\n\u001b[0;32m    835\u001b[0m         \u001b[38;5;124mf\u001b[39m\u001b[38;5;124m\"\u001b[39m\u001b[38;5;132;01m{\u001b[39;00m_get_data_var_message(\u001b[38;5;28mself\u001b[39m\u001b[38;5;241m.\u001b[39m_obj)\u001b[38;5;132;01m}\u001b[39;00m\u001b[38;5;124m. \u001b[39m\u001b[38;5;124m\"\u001b[39m\n\u001b[0;32m    836\u001b[0m         \u001b[38;5;124m\"\u001b[39m\u001b[38;5;124mSet allow_one_dimensional_raster=True to disable this error.\u001b[39m\u001b[38;5;124m\"\u001b[39m\n\u001b[0;32m    837\u001b[0m     )\n",
      "\u001b[1;31mNoDataInBounds\u001b[0m: No data found in bounds."
     ]
    }
   ],
   "source": [
    "worldpop_layer = WorldPop()\n",
    "for fname in list(boundary_filenames):\n",
    "    if fname.split('-')[3].split('.')[0][-1] != 'n':\n",
    "        cityname = '{0} {1}'.format(fname.split('-')[1], fname.split('-')[2])\n",
    "        print(cityname, end=' ')\n",
    "        with open('{0}/boundaries/{1}'.format(FILEPATH, fname), 'r') as ifile:\n",
    "            json_obj = json.loads(ifile.read())\n",
    "        feature = geemap.geojson_to_ee(json_obj)\n",
    "        zones = geemap.ee_to_gdf(feature)\n",
    "        \n",
    "        total_pop = WorldPop().groupby(zones).count() * WorldPop().groupby(zones).mean()\n",
    "        zones['total_pop'] = total_pop\n",
    "        \n",
    "        schools = OpenStreetMap(osm_class=OpenStreetMapClass.SCHOOLS).get_data(zones.total_bounds)\n",
    "        if len(schools) == 0:\n",
    "            print('NO AMENITIES FOUND\\n\\n')\n",
    "            zones['access_pop'] = -9999\n",
    "            zones['access_fraction'] = -9999\n",
    "            with open('{0}/schoolaccess_totalpop-{1}.geojson'.format(FILEPATH, cityname.replace(' ', '-')), 'w') as ofile:\n",
    "                    ofile.write(zones.to_json())\n",
    "        else:\n",
    "            schoolrastername = '{0}/schoolsraster_a_{1}.tiff'.format(FILEPATH, cityname.replace(' ', '-'))\n",
    "            buffered_4326 = gpd.GeoDataFrame({'geometry': buffer_gdf(schools, 500)})\n",
    "            polygonsToRaster(buffered_4326, schoolrastername)\n",
    "\n",
    "            isochrone_layer = Isochrone(filename=schoolrastername)\n",
    "            total_pop = WorldPop().groupby(zones).count() * WorldPop().groupby(zones).mean()\n",
    "            access_pop = WorldPop().mask(isochrone_layer).groupby(zones).count() * WorldPop().mask(isochrone_layer).groupby(zones).mean()\n",
    "\n",
    "            zones['access_pop'] = access_pop\n",
    "            zones['access_fraction'] = access_pop / total_pop\n",
    "            with open('{0}/schoolaccess_totalpop_a-{1}.geojson'.format(FILEPATH, cityname.replace(' ', '-')), 'w') as ofile:\n",
    "                    ofile.write(zones.to_json())\n",
    "            print('(done)\\n\\n')"
   ]
  },
  {
   "cell_type": "code",
   "execution_count": null,
   "id": "01bcd8e0",
   "metadata": {},
   "outputs": [],
   "source": []
  }
 ],
 "metadata": {
  "kernelspec": {
   "display_name": "Python [conda env:cif]",
   "language": "python",
   "name": "conda-env-cif-py"
  },
  "language_info": {
   "codemirror_mode": {
    "name": "ipython",
    "version": 3
   },
   "file_extension": ".py",
   "mimetype": "text/x-python",
   "name": "python",
   "nbconvert_exporter": "python",
   "pygments_lexer": "ipython3",
   "version": "3.10.14"
  }
 },
 "nbformat": 4,
 "nbformat_minor": 5
}
