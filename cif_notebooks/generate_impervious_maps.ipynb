{
 "cells": [
  {
   "cell_type": "code",
   "execution_count": null,
   "id": "b2e00dbf",
   "metadata": {},
   "outputs": [],
   "source": [
    "import os\n",
    "os.chdir('C:/Users/theodore.wong/cif/cities-cif')\n",
    "import geemap, json\n",
    "from city_metrix.layers import ImperviousSurface\n",
    "\n",
    "FILEPATH = 'C:/Users/theodore.wong/danida_africa'"
   ]
  },
  {
   "cell_type": "code",
   "execution_count": null,
   "id": "3b8e8cb1",
   "metadata": {},
   "outputs": [],
   "source": [
    "boundary_filenames = os.listdir('{0}/boundaries'.format(FILEPATH))\n",
    "boundary_filenames"
   ]
  },
  {
   "cell_type": "code",
   "execution_count": null,
   "id": "2c377168",
   "metadata": {},
   "outputs": [],
   "source": [
    "for fname in boundary_filenames:\n",
    "    if fname.split('-')[3].split('.')[0][-1] == 'n':\n",
    "        cityname = '{0} {1}'.format(fname.split('-')[1], fname.split('-')[2])\n",
    "        with open('{0}/boundaries/{1}'.format(FILEPATH, fname), 'r') as ifile:\n",
    "            json_obj = json.loads(ifile.read())\n",
    "            feature = geemap.geojson_to_ee(json_obj)\n",
    "            geom = geemap.ee_to_gdf(feature)['geometry'][0]\n",
    "            perviousmap = ImperviousSurface().get_data(geom.bounds).fillna(0).rename('impervious')\n",
    "            perviousmap.rio.to_raster('{0}/impervious-{1}.tif'.format(FILEPATH, cityname.replace(' ', '-')))\n",
    "            print(cityname)"
   ]
  },
  {
   "cell_type": "code",
   "execution_count": null,
   "id": "525a482a",
   "metadata": {},
   "outputs": [],
   "source": []
  }
 ],
 "metadata": {
  "kernelspec": {
   "display_name": "Python [conda env:cif]",
   "language": "python",
   "name": "conda-env-cif-py"
  },
  "language_info": {
   "codemirror_mode": {
    "name": "ipython",
    "version": 3
   },
   "file_extension": ".py",
   "mimetype": "text/x-python",
   "name": "python",
   "nbconvert_exporter": "python",
   "pygments_lexer": "ipython3",
   "version": "3.10.14"
  }
 },
 "nbformat": 4,
 "nbformat_minor": 5
}
