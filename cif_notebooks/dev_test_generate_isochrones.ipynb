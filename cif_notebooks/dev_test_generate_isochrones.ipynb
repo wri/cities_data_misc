{
 "cells": [
  {
   "cell_type": "code",
   "execution_count": 1,
   "id": "19003321-8a82-4c1e-a046-531c7d585f65",
   "metadata": {},
   "outputs": [
    {
     "name": "stdout",
     "output_type": "stream",
     "text": [
      "Authenticating to GEE with configured credentials file.\n"
     ]
    }
   ],
   "source": [
    "import os, sys, requests, json, pathlib, datetime, shapely\n",
    "import numpy as np\n",
    "import pandas as pd\n",
    "import geopandas as gpd\n",
    "import xarray as xr\n",
    "import r5py\n",
    "import geocube\n",
    "from geocube.api.core import make_geocube\n",
    "from geocube.rasterize import rasterize_points_griddata, rasterize_points_radial\n",
    "os.chdir('C:/Users/tgwon/wri/cif/cities-cif')\n",
    "sys.path.append('C:/Users/tgwon/wri/cif/cities-cif')\n",
    "os.environ['GOOGLE_APPLICATION_USER'] = 'script-service-account@wri-gee.iam.gserviceaccount.com'\n",
    "os.environ['GOOGLE_APPLICATION_CREDENTIALS'] = 'C:/Users/tgwon/.google/credkey.json'\n",
    "sys.path = ['C:\\\\Users\\\\tgwon\\\\wri\\\\indicators', 'C:\\\\Users\\\\tgwon\\\\wri\\\\cif\\\\cities-cif', 'C:\\\\Users\\\\tgwon\\\\anaconda3\\\\envs\\\\cities-cif\\\\python310.zip', 'C:\\\\Users\\\\tgwon\\\\anaconda3\\\\envs\\\\cities-cif\\\\DLLs', 'C:\\\\Users\\\\tgwon\\\\anaconda3\\\\envs\\\\cities-cif\\\\lib', 'C:\\\\Users\\\\tgwon\\\\anaconda3\\\\envs\\\\cities-cif\\\\lib\\\\site-packages', 'C:\\\\Users\\\\tgwon\\\\anaconda3\\\\envs\\\\cities-cif\\\\lib\\\\site-packages\\\\win32', 'C:\\\\Users\\\\tgwon\\\\anaconda3\\\\envs\\\\cities-cif\\\\lib\\\\site-packages\\\\win32\\\\lib', 'C:\\\\Users\\\\tgwon\\\\anaconda3\\\\envs\\\\cities-cif\\\\lib\\\\site-packages\\\\Pythonwin',]\n",
    "\n",
    "from city_metrix.layers import WorldPop, UrbanExtents\n",
    "from city_metrix.layers.layer_geometry import GeoExtent"
   ]
  },
  {
   "cell_type": "code",
   "execution_count": 2,
   "id": "adffc2ab-6652-43aa-8e09-30251d7ce367",
   "metadata": {},
   "outputs": [
    {
     "data": {
      "text/html": [
       "\n",
       "            <style>\n",
       "                .geemap-dark {\n",
       "                    --jp-widgets-color: white;\n",
       "                    --jp-widgets-label-color: white;\n",
       "                    --jp-ui-font-color1: white;\n",
       "                    --jp-layout-color2: #454545;\n",
       "                    background-color: #383838;\n",
       "                }\n",
       "\n",
       "                .geemap-dark .jupyter-button {\n",
       "                    --jp-layout-color3: #383838;\n",
       "                }\n",
       "\n",
       "                .geemap-colab {\n",
       "                    background-color: var(--colab-primary-surface-color, white);\n",
       "                }\n",
       "\n",
       "                .geemap-colab .jupyter-button {\n",
       "                    --jp-layout-color3: var(--colab-primary-surface-color, white);\n",
       "                }\n",
       "            </style>\n",
       "            "
      ],
      "text/plain": [
       "<IPython.core.display.HTML object>"
      ]
     },
     "metadata": {},
     "output_type": "display_data"
    },
    {
     "data": {
      "text/html": [
       "<div>\n",
       "<style scoped>\n",
       "    .dataframe tbody tr th:only-of-type {\n",
       "        vertical-align: middle;\n",
       "    }\n",
       "\n",
       "    .dataframe tbody tr th {\n",
       "        vertical-align: top;\n",
       "    }\n",
       "\n",
       "    .dataframe thead th {\n",
       "        text-align: right;\n",
       "    }\n",
       "</style>\n",
       "<table border=\"1\" class=\"dataframe\">\n",
       "  <thead>\n",
       "    <tr style=\"text-align: right;\">\n",
       "      <th></th>\n",
       "      <th>index</th>\n",
       "      <th>id</th>\n",
       "      <th>amenityclass_road</th>\n",
       "      <th>geometry</th>\n",
       "    </tr>\n",
       "  </thead>\n",
       "  <tbody>\n",
       "    <tr>\n",
       "      <th>0</th>\n",
       "      <td>0</td>\n",
       "      <td>0</td>\n",
       "      <td>True</td>\n",
       "      <td>POINT (-58.38529 -34.60049)</td>\n",
       "    </tr>\n",
       "    <tr>\n",
       "      <th>1</th>\n",
       "      <td>1</td>\n",
       "      <td>1</td>\n",
       "      <td>True</td>\n",
       "      <td>POINT (-58.38488 -34.60157)</td>\n",
       "    </tr>\n",
       "    <tr>\n",
       "      <th>2</th>\n",
       "      <td>2</td>\n",
       "      <td>2</td>\n",
       "      <td>True</td>\n",
       "      <td>POINT (-58.38455 -34.60046)</td>\n",
       "    </tr>\n",
       "    <tr>\n",
       "      <th>3</th>\n",
       "      <td>3</td>\n",
       "      <td>3</td>\n",
       "      <td>True</td>\n",
       "      <td>POINT (-58.38451 -34.60263)</td>\n",
       "    </tr>\n",
       "    <tr>\n",
       "      <th>4</th>\n",
       "      <td>4</td>\n",
       "      <td>4</td>\n",
       "      <td>True</td>\n",
       "      <td>POINT (-58.38433 -34.60054)</td>\n",
       "    </tr>\n",
       "    <tr>\n",
       "      <th>...</th>\n",
       "      <td>...</td>\n",
       "      <td>...</td>\n",
       "      <td>...</td>\n",
       "      <td>...</td>\n",
       "    </tr>\n",
       "    <tr>\n",
       "      <th>23589</th>\n",
       "      <td>31699</td>\n",
       "      <td>31699</td>\n",
       "      <td>True</td>\n",
       "      <td>POINT (-58.4904 -34.57111)</td>\n",
       "    </tr>\n",
       "    <tr>\n",
       "      <th>23590</th>\n",
       "      <td>31700</td>\n",
       "      <td>31700</td>\n",
       "      <td>True</td>\n",
       "      <td>POINT (-58.4898 -34.57166)</td>\n",
       "    </tr>\n",
       "    <tr>\n",
       "      <th>23591</th>\n",
       "      <td>31704</td>\n",
       "      <td>31704</td>\n",
       "      <td>True</td>\n",
       "      <td>POINT (-57.94129 -34.90402)</td>\n",
       "    </tr>\n",
       "    <tr>\n",
       "      <th>23592</th>\n",
       "      <td>31705</td>\n",
       "      <td>31705</td>\n",
       "      <td>True</td>\n",
       "      <td>POINT (-57.94122 -34.90409)</td>\n",
       "    </tr>\n",
       "    <tr>\n",
       "      <th>23593</th>\n",
       "      <td>31706</td>\n",
       "      <td>31706</td>\n",
       "      <td>True</td>\n",
       "      <td>POINT (-57.94105 -34.90407)</td>\n",
       "    </tr>\n",
       "  </tbody>\n",
       "</table>\n",
       "<p>23594 rows × 4 columns</p>\n",
       "</div>"
      ],
      "text/plain": [
       "       index     id  amenityclass_road                     geometry\n",
       "0          0      0               True  POINT (-58.38529 -34.60049)\n",
       "1          1      1               True  POINT (-58.38488 -34.60157)\n",
       "2          2      2               True  POINT (-58.38455 -34.60046)\n",
       "3          3      3               True  POINT (-58.38451 -34.60263)\n",
       "4          4      4               True  POINT (-58.38433 -34.60054)\n",
       "...      ...    ...                ...                          ...\n",
       "23589  31699  31699               True   POINT (-58.4904 -34.57111)\n",
       "23590  31700  31700               True   POINT (-58.4898 -34.57166)\n",
       "23591  31704  31704               True  POINT (-57.94129 -34.90402)\n",
       "23592  31705  31705               True  POINT (-57.94122 -34.90409)\n",
       "23593  31706  31706               True  POINT (-57.94105 -34.90407)\n",
       "\n",
       "[23594 rows x 4 columns]"
      ]
     },
     "execution_count": 2,
     "metadata": {},
     "output_type": "execute_result"
    }
   ],
   "source": [
    "# Get geodataframe of amenity points from file\n",
    "\n",
    "amenity_points = gpd.GeoDataFrame.from_file('C:/Users/tgwon/wri/indicators/amenitypoints/points__public_open_space__ARG-Buenos_Aires__urbextbound.geojson')\n",
    "amenity_points"
   ]
  },
  {
   "cell_type": "code",
   "execution_count": 3,
   "id": "cd5d826c-a4fa-4895-8fff-f4ba5a443050",
   "metadata": {},
   "outputs": [
    {
     "data": {
      "text/html": [
       "\n",
       "            <style>\n",
       "                .geemap-dark {\n",
       "                    --jp-widgets-color: white;\n",
       "                    --jp-widgets-label-color: white;\n",
       "                    --jp-ui-font-color1: white;\n",
       "                    --jp-layout-color2: #454545;\n",
       "                    background-color: #383838;\n",
       "                }\n",
       "\n",
       "                .geemap-dark .jupyter-button {\n",
       "                    --jp-layout-color3: #383838;\n",
       "                }\n",
       "\n",
       "                .geemap-colab {\n",
       "                    background-color: var(--colab-primary-surface-color, white);\n",
       "                }\n",
       "\n",
       "                .geemap-colab .jupyter-button {\n",
       "                    --jp-layout-color3: var(--colab-primary-surface-color, white);\n",
       "                }\n",
       "            </style>\n",
       "            "
      ],
      "text/plain": [
       "<IPython.core.display.HTML object>"
      ]
     },
     "metadata": {},
     "output_type": "display_data"
    },
    {
     "name": "stderr",
     "output_type": "stream",
     "text": [
      "Skipping field bbox: unsupported OGR type: 3\n",
      "Skipping field bbox: unsupported OGR type: 3\n"
     ]
    }
   ],
   "source": [
    "# Get admin bound from API, and get urban extent as geodataframe\n",
    "\n",
    "CITYDATA_URL = 'https://cities-data-api.wri.org/cities'\n",
    "citydata = requests.get(CITYDATA_URL).json()\n",
    "focal_cities = [c for c in citydata['cities'] if c['name']=='Buenos Aires']\n",
    "city = focal_cities[0]\n",
    "\n",
    "url = city['layers_url']['geojson']\n",
    "gpd.GeoDataFrame.from_file(url)\n",
    "city_admin = gpd.GeoDataFrame.from_file(url)\n",
    "\n",
    "city_urbext = UrbanExtents().get_data(GeoExtent(city_admin.total_bounds)).to_crs('EPSG:4326').dissolve()"
   ]
  },
  {
   "cell_type": "code",
   "execution_count": 4,
   "id": "51751dd7-bd0c-4682-ab11-de0dcfa9420a",
   "metadata": {},
   "outputs": [
    {
     "data": {
      "text/html": [
       "\n",
       "            <style>\n",
       "                .geemap-dark {\n",
       "                    --jp-widgets-color: white;\n",
       "                    --jp-widgets-label-color: white;\n",
       "                    --jp-ui-font-color1: white;\n",
       "                    --jp-layout-color2: #454545;\n",
       "                    background-color: #383838;\n",
       "                }\n",
       "\n",
       "                .geemap-dark .jupyter-button {\n",
       "                    --jp-layout-color3: #383838;\n",
       "                }\n",
       "\n",
       "                .geemap-colab {\n",
       "                    background-color: var(--colab-primary-surface-color, white);\n",
       "                }\n",
       "\n",
       "                .geemap-colab .jupyter-button {\n",
       "                    --jp-layout-color3: var(--colab-primary-surface-color, white);\n",
       "                }\n",
       "            </style>\n",
       "            "
      ],
      "text/plain": [
       "<IPython.core.display.HTML object>"
      ]
     },
     "metadata": {},
     "output_type": "display_data"
    },
    {
     "name": "stdout",
     "output_type": "stream",
     "text": [
      "Extracting layer world pop from Google Earth Engine for bbox :\n",
      "[########################################] | 100% Completed | 3.85 sms\n"
     ]
    }
   ],
   "source": [
    "# Create geodataframe of population-pixel points by vectorizing WorldPop raster. Include only those within the boundary of interest.\n",
    "\n",
    "bbox = GeoExtent(city_urbext.total_bounds)\n",
    "utm_crs = bbox.as_utm_bbox().crs\n",
    "worldpop_data = WorldPop(agesex_classes=[]).get_data(bbox)\n",
    "wp_df = worldpop_data.drop_vars(['time']).to_dataframe().reset_index()\n",
    "pop_points = gpd.GeoDataFrame(wp_df.population, geometry=gpd.points_from_xy(wp_df.x,wp_df.y))\n",
    "pop_points_geogr = pop_points.set_crs(utm_crs).to_crs('EPSG:4326')\n",
    "\n",
    "# Clip to boundary\n",
    "pop_points_clipped = pop_points_geogr.loc[pop_points_geogr.intersects(city_urbext.geometry[0])]"
   ]
  },
  {
   "cell_type": "code",
   "execution_count": 8,
   "id": "088569a6-122c-4402-958c-0191fd47f1f0",
   "metadata": {},
   "outputs": [
    {
     "data": {
      "text/html": [
       "\n",
       "            <style>\n",
       "                .geemap-dark {\n",
       "                    --jp-widgets-color: white;\n",
       "                    --jp-widgets-label-color: white;\n",
       "                    --jp-ui-font-color1: white;\n",
       "                    --jp-layout-color2: #454545;\n",
       "                    background-color: #383838;\n",
       "                }\n",
       "\n",
       "                .geemap-dark .jupyter-button {\n",
       "                    --jp-layout-color3: #383838;\n",
       "                }\n",
       "\n",
       "                .geemap-colab {\n",
       "                    background-color: var(--colab-primary-surface-color, white);\n",
       "                }\n",
       "\n",
       "                .geemap-colab .jupyter-button {\n",
       "                    --jp-layout-color3: var(--colab-primary-surface-color, white);\n",
       "                }\n",
       "            </style>\n",
       "            "
      ],
      "text/plain": [
       "<IPython.core.display.HTML object>"
      ]
     },
     "metadata": {},
     "output_type": "display_data"
    },
    {
     "data": {
      "text/html": [
       "<div>\n",
       "<style scoped>\n",
       "    .dataframe tbody tr th:only-of-type {\n",
       "        vertical-align: middle;\n",
       "    }\n",
       "\n",
       "    .dataframe tbody tr th {\n",
       "        vertical-align: top;\n",
       "    }\n",
       "\n",
       "    .dataframe thead th {\n",
       "        text-align: right;\n",
       "    }\n",
       "</style>\n",
       "<table border=\"1\" class=\"dataframe\">\n",
       "  <thead>\n",
       "    <tr style=\"text-align: right;\">\n",
       "      <th></th>\n",
       "      <th>population</th>\n",
       "      <th>geometry</th>\n",
       "    </tr>\n",
       "  </thead>\n",
       "  <tbody>\n",
       "    <tr>\n",
       "      <th>15878</th>\n",
       "      <td>3.872722</td>\n",
       "      <td>POINT (-58.09357 -35.04939)</td>\n",
       "    </tr>\n",
       "    <tr>\n",
       "      <th>15879</th>\n",
       "      <td>4.176632</td>\n",
       "      <td>POINT (-58.09247 -35.0494)</td>\n",
       "    </tr>\n",
       "    <tr>\n",
       "      <th>15880</th>\n",
       "      <td>4.160919</td>\n",
       "      <td>POINT (-58.09137 -35.04941)</td>\n",
       "    </tr>\n",
       "    <tr>\n",
       "      <th>15881</th>\n",
       "      <td>3.464365</td>\n",
       "      <td>POINT (-58.09028 -35.04941)</td>\n",
       "    </tr>\n",
       "    <tr>\n",
       "      <th>15882</th>\n",
       "      <td>3.208935</td>\n",
       "      <td>POINT (-58.08918 -35.04942)</td>\n",
       "    </tr>\n",
       "    <tr>\n",
       "      <th>...</th>\n",
       "      <td>...</td>\n",
       "      <td>...</td>\n",
       "    </tr>\n",
       "    <tr>\n",
       "      <th>908804</th>\n",
       "      <td>6.233791</td>\n",
       "      <td>POINT (-58.78115 -34.29107)</td>\n",
       "    </tr>\n",
       "    <tr>\n",
       "      <th>908805</th>\n",
       "      <td>5.842262</td>\n",
       "      <td>POINT (-58.78006 -34.29109)</td>\n",
       "    </tr>\n",
       "    <tr>\n",
       "      <th>909872</th>\n",
       "      <td>6.098891</td>\n",
       "      <td>POINT (-58.78765 -34.29008)</td>\n",
       "    </tr>\n",
       "    <tr>\n",
       "      <th>909873</th>\n",
       "      <td>6.265943</td>\n",
       "      <td>POINT (-58.78656 -34.29009)</td>\n",
       "    </tr>\n",
       "    <tr>\n",
       "      <th>909874</th>\n",
       "      <td>6.038480</td>\n",
       "      <td>POINT (-58.78547 -34.29011)</td>\n",
       "    </tr>\n",
       "  </tbody>\n",
       "</table>\n",
       "<p>218299 rows × 2 columns</p>\n",
       "</div>"
      ],
      "text/plain": [
       "        population                     geometry\n",
       "15878     3.872722  POINT (-58.09357 -35.04939)\n",
       "15879     4.176632   POINT (-58.09247 -35.0494)\n",
       "15880     4.160919  POINT (-58.09137 -35.04941)\n",
       "15881     3.464365  POINT (-58.09028 -35.04941)\n",
       "15882     3.208935  POINT (-58.08918 -35.04942)\n",
       "...            ...                          ...\n",
       "908804    6.233791  POINT (-58.78115 -34.29107)\n",
       "908805    5.842262  POINT (-58.78006 -34.29109)\n",
       "909872    6.098891  POINT (-58.78765 -34.29008)\n",
       "909873    6.265943  POINT (-58.78656 -34.29009)\n",
       "909874    6.038480  POINT (-58.78547 -34.29011)\n",
       "\n",
       "[218299 rows x 2 columns]"
      ]
     },
     "execution_count": 8,
     "metadata": {},
     "output_type": "execute_result"
    }
   ],
   "source": [
    "pop_points_clipped"
   ]
  },
  {
   "cell_type": "code",
   "execution_count": 5,
   "id": "00699264-5ef2-447f-b92b-124bae756604",
   "metadata": {},
   "outputs": [
    {
     "data": {
      "text/html": [
       "\n",
       "            <style>\n",
       "                .geemap-dark {\n",
       "                    --jp-widgets-color: white;\n",
       "                    --jp-widgets-label-color: white;\n",
       "                    --jp-ui-font-color1: white;\n",
       "                    --jp-layout-color2: #454545;\n",
       "                    background-color: #383838;\n",
       "                }\n",
       "\n",
       "                .geemap-dark .jupyter-button {\n",
       "                    --jp-layout-color3: #383838;\n",
       "                }\n",
       "\n",
       "                .geemap-colab {\n",
       "                    background-color: var(--colab-primary-surface-color, white);\n",
       "                }\n",
       "\n",
       "                .geemap-colab .jupyter-button {\n",
       "                    --jp-layout-color3: var(--colab-primary-surface-color, white);\n",
       "                }\n",
       "            </style>\n",
       "            "
      ],
      "text/plain": [
       "<IPython.core.display.HTML object>"
      ]
     },
     "metadata": {},
     "output_type": "display_data"
    }
   ],
   "source": [
    "b = r5py.TransportNetwork(pathlib.Path('C:/Users/tgwon/wri/indicators/pbf/ARG-Buenos_Aires__urbextbound.osm.pbf'))"
   ]
  },
  {
   "cell_type": "code",
   "execution_count": 185,
   "id": "0bb9887e-88c2-4eda-8127-46d179b058f4",
   "metadata": {},
   "outputs": [
    {
     "data": {
      "text/html": [
       "\n",
       "            <style>\n",
       "                .geemap-dark {\n",
       "                    --jp-widgets-color: white;\n",
       "                    --jp-widgets-label-color: white;\n",
       "                    --jp-ui-font-color1: white;\n",
       "                    --jp-layout-color2: #454545;\n",
       "                    background-color: #383838;\n",
       "                }\n",
       "\n",
       "                .geemap-dark .jupyter-button {\n",
       "                    --jp-layout-color3: #383838;\n",
       "                }\n",
       "\n",
       "                .geemap-colab {\n",
       "                    background-color: var(--colab-primary-surface-color, white);\n",
       "                }\n",
       "\n",
       "                .geemap-colab .jupyter-button {\n",
       "                    --jp-layout-color3: var(--colab-primary-surface-color, white);\n",
       "                }\n",
       "            </style>\n",
       "            "
      ],
      "text/plain": [
       "<IPython.core.display.HTML object>"
      ]
     },
     "metadata": {},
     "output_type": "display_data"
    },
    {
     "name": "stdout",
     "output_type": "stream",
     "text": [
      "0 1 2 3 4 5 6 7 8 9 10 11 12 13 14 15 16 17 18 19 20 21 22 23 24 25 26 27 28 29 30 31 32 33 34 35 36 37 38 39 40 41 42 43 44 45 46 47 48 49 50 51 52 53 54 55 56 57 58 59 60 61 62 63 64 65 66 67 68 69 70 71 72 73 74 75 76 77 78 79 80 81 82 83 84 85 86 87 88 89 90 91 92 93 94 95 96 97 98 99 CPU times: total: 18min 12s\n",
      "Wall time: 6min 42s\n"
     ]
    }
   ],
   "source": [
    "# This way takes 402 seconds to do 100 rows\n",
    "'''%%time\n",
    "res = pd.DataFrame({'to_id': pop_points_clipped.index, 'numpixels': [0] * len(pop_points_clipped)})\n",
    "for i in list(range(len(amenity_points)))[:100]:\n",
    "    if i % 1 == 0:\n",
    "        print(i, end=' ', flush=True)\n",
    "    d = r5py.TravelTimeMatrix(transport_network=b, origins=gpd.GeoDataFrame({'id': [i], 'geometry': amenity_points.iloc[[i]].centroid}), destinations=gpd.GeoDataFrame({'id': range(len(pop_points_clipped)), 'geometry': pop_points_clipped.geometry}), transport_modes=[r5py.TransportMode.WALK], max_time=datetime.timedelta(minutes=15), max_time_walking=datetime.timedelta(minutes=15))\n",
    "    res.numpixels = res.numpixels + ((d.travel_time / d.travel_time).fillna(0))'''"
   ]
  },
  {
   "cell_type": "code",
   "execution_count": 193,
   "id": "8fd09463-fc25-49d8-8163-cc6ef8127037",
   "metadata": {},
   "outputs": [
    {
     "data": {
      "text/html": [
       "\n",
       "            <style>\n",
       "                .geemap-dark {\n",
       "                    --jp-widgets-color: white;\n",
       "                    --jp-widgets-label-color: white;\n",
       "                    --jp-ui-font-color1: white;\n",
       "                    --jp-layout-color2: #454545;\n",
       "                    background-color: #383838;\n",
       "                }\n",
       "\n",
       "                .geemap-dark .jupyter-button {\n",
       "                    --jp-layout-color3: #383838;\n",
       "                }\n",
       "\n",
       "                .geemap-colab {\n",
       "                    background-color: var(--colab-primary-surface-color, white);\n",
       "                }\n",
       "\n",
       "                .geemap-colab .jupyter-button {\n",
       "                    --jp-layout-color3: var(--colab-primary-surface-color, white);\n",
       "                }\n",
       "            </style>\n",
       "            "
      ],
      "text/plain": [
       "<IPython.core.display.HTML object>"
      ]
     },
     "metadata": {},
     "output_type": "display_data"
    },
    {
     "name": "stdout",
     "output_type": "stream",
     "text": [
      "CPU times: total: 1min 38s\n",
      "Wall time: 1min 30s\n"
     ]
    }
   ],
   "source": [
    "# This way takes 90 seconds to do 100 rows\n",
    "'''%%time\n",
    "res = pd.DataFrame({'to_id': pop_points_clipped.index, 'numpixels': [0] * len(pop_points_clipped)})\n",
    "\n",
    "d = r5py.TravelTimeMatrix(transport_network=b, origins=gpd.GeoDataFrame({'id': range(100), 'geometry': amenity_points.iloc[:100].centroid}), destinations=gpd.GeoDataFrame({'id': range(len(pop_points_clipped)), 'geometry': pop_points_clipped.geometry}), transport_modes=[r5py.TransportMode.WALK], max_time=datetime.timedelta(minutes=15), max_time_walking=datetime.timedelta(minutes=15))\n",
    "d['num_accessible'] = (d.travel_time / d.travel_time).fillna(0)\n",
    "num_accessible = d.pivot(index='to_id', columns='from_id', values='num_accessible').sum(axis=1, skipna=True)\n",
    "res.numpixels = res.numpixels + num_accessible'''"
   ]
  },
  {
   "cell_type": "code",
   "execution_count": null,
   "id": "6a8316a1-7d02-4554-be48-097257bce50f",
   "metadata": {},
   "outputs": [
    {
     "data": {
      "text/html": [
       "\n",
       "            <style>\n",
       "                .geemap-dark {\n",
       "                    --jp-widgets-color: white;\n",
       "                    --jp-widgets-label-color: white;\n",
       "                    --jp-ui-font-color1: white;\n",
       "                    --jp-layout-color2: #454545;\n",
       "                    background-color: #383838;\n",
       "                }\n",
       "\n",
       "                .geemap-dark .jupyter-button {\n",
       "                    --jp-layout-color3: #383838;\n",
       "                }\n",
       "\n",
       "                .geemap-colab {\n",
       "                    background-color: var(--colab-primary-surface-color, white);\n",
       "                }\n",
       "\n",
       "                .geemap-colab .jupyter-button {\n",
       "                    --jp-layout-color3: var(--colab-primary-surface-color, white);\n",
       "                }\n",
       "            </style>\n",
       "            "
      ],
      "text/plain": [
       "<IPython.core.display.HTML object>"
      ]
     },
     "metadata": {},
     "output_type": "display_data"
    },
    {
     "name": "stdout",
     "output_type": "stream",
     "text": [
      "0 100 200 300 400 500 600 700 800 900 1000 1100 1200 1300 1400 1500 1600 1700 1800 1900 2000 2100 2200 2300 2400 2500 2600 2700 2800 2900 3000 3100 3200 3300 3400 3500 3600 3700 3800 3900 4000 4100 4200 4300 4400 4500 4600 4700 4800 4900 5000 5100 5200 5300 5400 5500 5600 5700 5800 5900 6000 6100 6200 6300 6400 6500 6600 6700 6800 6900 7000 7100 7200 7300 7400 7500 7600 7700 7800 7900 8000 8100 8200 8300 8400 8500 8600 8700 8800 8900 9000 9100 9200 9300 9400 9500 9600 9700 9800 9900 10000 10100 10200 10300 10400 10500 10600 10700 10800 10900 11000 11100 11200 11300 11400 11500 11600 11700 11800 11900 12000 12100 12200 12300 12400 12500 12600 12700 12800 12900 13000 13100 13200 13300 13400 13500 13600 13700 13800 13900 14000 14100 14200 14300 14400 14500 14600 14700 14800 14900 15000 15100 15200 15300 15400 15500 15600 15700 15800 15900 16000 16100 16200 16300 16400 16500 16600 16700 16800 16900 17000 17100 17200 17300 17400 17500 17600 17700 17800 17900 18000 18100 18200 18300 18400 18500 18600 18700 18800 18900 19000 19100 19200 19300 19400 19500 19600 19700 "
     ]
    }
   ],
   "source": [
    "%%time\n",
    "\n",
    "def num_accessible_onechunk(i, j):\n",
    "    d = r5py.TravelTimeMatrix(transport_network=b, origins=gpd.GeoDataFrame({'id': range(i, j), 'geometry': amenity_points.iloc[i:j].centroid}), destinations=gpd.GeoDataFrame({'id': range(len(pop_points_clipped)), 'geometry': pop_points_clipped.geometry}), transport_modes=[r5py.TransportMode.WALK], max_time=datetime.timedelta(minutes=15), max_time_walking=datetime.timedelta(minutes=15))\n",
    "    d['num_accessible'] = (d.travel_time / d.travel_time).fillna(0)\n",
    "    num_accessible = d.pivot(index='to_id', columns='from_id', values='num_accessible').sum(axis=1, skipna=True)\n",
    "    return num_accessible\n",
    "\n",
    "CHUNKSIZE = 100\n",
    "res = pd.DataFrame({'to_id': pop_points_clipped.index, 'num_accessible': [0] * len(pop_points_clipped)})\n",
    "for chunk in range((len(amenity_points) // CHUNKSIZE) + 1):\n",
    "    print(chunk * CHUNKSIZE, end=' ', flush=True)\n",
    "    i, j = chunk * CHUNKSIZE, min((chunk + 1) * CHUNKSIZE, len(amenity_points))\n",
    "    num_accessible = num_accessible_onechunk(i, j)\n",
    "    res.num_accessible = res.num_accessible + num_accessible"
   ]
  },
  {
   "cell_type": "code",
   "execution_count": 144,
   "id": "97d45866-2001-421d-880d-43fdc19ada76",
   "metadata": {},
   "outputs": [
    {
     "data": {
      "text/html": [
       "\n",
       "            <style>\n",
       "                .geemap-dark {\n",
       "                    --jp-widgets-color: white;\n",
       "                    --jp-widgets-label-color: white;\n",
       "                    --jp-ui-font-color1: white;\n",
       "                    --jp-layout-color2: #454545;\n",
       "                    background-color: #383838;\n",
       "                }\n",
       "\n",
       "                .geemap-dark .jupyter-button {\n",
       "                    --jp-layout-color3: #383838;\n",
       "                }\n",
       "\n",
       "                .geemap-colab {\n",
       "                    background-color: var(--colab-primary-surface-color, white);\n",
       "                }\n",
       "\n",
       "                .geemap-colab .jupyter-button {\n",
       "                    --jp-layout-color3: var(--colab-primary-surface-color, white);\n",
       "                }\n",
       "            </style>\n",
       "            "
      ],
      "text/plain": [
       "<IPython.core.display.HTML object>"
      ]
     },
     "metadata": {},
     "output_type": "display_data"
    },
    {
     "name": "stdout",
     "output_type": "stream",
     "text": [
      "CPU times: total: 46.9 ms\n",
      "Wall time: 43.1 ms\n"
     ]
    }
   ],
   "source": [
    "%%time\n",
    "# Take result dataframe and merge results back into the population-pixl geodataframe\n",
    "\n",
    "res = res.set_index('to_id')\n",
    "pop_points['accessible_points'] = 0\n",
    "pop_points.loc[pop_points_clipped.index, 'accessible_points'] = res['num_accessible']\n",
    "pop_points.accessible_points = pop_points.accessible_points.fillna(0).astype(int)"
   ]
  },
  {
   "cell_type": "code",
   "execution_count": 165,
   "id": "b3b835f5-79ea-406c-bb9d-c4720651713c",
   "metadata": {},
   "outputs": [
    {
     "data": {
      "text/html": [
       "\n",
       "            <style>\n",
       "                .geemap-dark {\n",
       "                    --jp-widgets-color: white;\n",
       "                    --jp-widgets-label-color: white;\n",
       "                    --jp-ui-font-color1: white;\n",
       "                    --jp-layout-color2: #454545;\n",
       "                    background-color: #383838;\n",
       "                }\n",
       "\n",
       "                .geemap-dark .jupyter-button {\n",
       "                    --jp-layout-color3: #383838;\n",
       "                }\n",
       "\n",
       "                .geemap-colab {\n",
       "                    background-color: var(--colab-primary-surface-color, white);\n",
       "                }\n",
       "\n",
       "                .geemap-colab .jupyter-button {\n",
       "                    --jp-layout-color3: var(--colab-primary-surface-color, white);\n",
       "                }\n",
       "            </style>\n",
       "            "
      ],
      "text/plain": [
       "<IPython.core.display.HTML object>"
      ]
     },
     "metadata": {},
     "output_type": "display_data"
    }
   ],
   "source": [
    "# Convert pop-pixel gdf with number-of-accessible-points data to raster\n",
    "\n",
    "geo_grid = make_geocube(\n",
    "    vector_data=pop_points.set_crs(utm_crs),\n",
    "    measurements=['accessible_points'],\n",
    "    like = worldpop_data,\n",
    "    rasterize_function=rasterize_points_griddata,\n",
    ")\n",
    "geo_grid.rio.to_raster('C:/Users/tgwon/wri/indicators/ba_test.tif', engine='GeoTIFF')"
   ]
  },
  {
   "cell_type": "code",
   "execution_count": null,
   "id": "535986fd-7116-4234-be55-cc4ca438acdd",
   "metadata": {},
   "outputs": [],
   "source": []
  },
  {
   "cell_type": "code",
   "execution_count": null,
   "id": "2975576e-f8c3-4527-a827-4a89ecf5ad2f",
   "metadata": {},
   "outputs": [],
   "source": []
  }
 ],
 "metadata": {
  "kernelspec": {
   "display_name": "Python 3 (ipykernel)",
   "language": "python",
   "name": "python3"
  },
  "language_info": {
   "codemirror_mode": {
    "name": "ipython",
    "version": 3
   },
   "file_extension": ".py",
   "mimetype": "text/x-python",
   "name": "python",
   "nbconvert_exporter": "python",
   "pygments_lexer": "ipython3",
   "version": "3.10.16"
  }
 },
 "nbformat": 4,
 "nbformat_minor": 5
}
