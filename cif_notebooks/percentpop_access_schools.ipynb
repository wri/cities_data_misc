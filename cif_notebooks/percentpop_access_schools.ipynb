{
 "cells": [
  {
   "cell_type": "code",
   "execution_count": 1,
   "id": "6b3d1f53",
   "metadata": {},
   "outputs": [
    {
     "name": "stdout",
     "output_type": "stream",
     "text": [
      "Could not find GEE credentials file, so prompting authentication.\n"
     ]
    }
   ],
   "source": [
    "import os\n",
    "os.chdir('C:/Users/theodore.wong/cif/cities-cif')\n",
    "import ee, geemap, json\n",
    "import geopandas as gpd\n",
    "import pandas as pd\n",
    "import shapely\n",
    "import rioxarray\n",
    "#ee.Authenticate()\n",
    "ee.Initialize()\n",
    "from city_metrix.layers import Layer, OpenStreetMap, OpenStreetMapClass, WorldPop\n",
    "from city_metrix.layers.layer import get_utm_zone_epsg\n",
    "\n",
    "import warnings\n",
    "warnings.filterwarnings('ignore')\n",
    "\n",
    "\n",
    "FILEPATH = 'C:/Users/theodore.wong/danida_africa'"
   ]
  },
  {
   "cell_type": "code",
   "execution_count": 2,
   "id": "e1f36714",
   "metadata": {},
   "outputs": [
    {
     "data": {
      "text/html": [
       "\n",
       "            <style>\n",
       "                .geemap-dark {\n",
       "                    --jp-widgets-color: white;\n",
       "                    --jp-widgets-label-color: white;\n",
       "                    --jp-ui-font-color1: white;\n",
       "                    --jp-layout-color2: #454545;\n",
       "                    background-color: #383838;\n",
       "                }\n",
       "\n",
       "                .geemap-dark .jupyter-button {\n",
       "                    --jp-layout-color3: #383838;\n",
       "                }\n",
       "\n",
       "                .geemap-colab {\n",
       "                    background-color: var(--colab-primary-surface-color, white);\n",
       "                }\n",
       "\n",
       "                .geemap-colab .jupyter-button {\n",
       "                    --jp-layout-color3: var(--colab-primary-surface-color, white);\n",
       "                }\n",
       "            </style>\n",
       "            "
      ],
      "text/plain": [
       "<IPython.core.display.HTML object>"
      ]
     },
     "metadata": {},
     "output_type": "display_data"
    },
    {
     "data": {
      "text/plain": [
       "['boundary-ETH-Dire_Dawa-ADM3.geojson',\n",
       " 'boundary-ETH-Dire_Dawa-ADM3union.geojson',\n",
       " 'boundary-KEN-Nairobi-ADM3.geojson',\n",
       " 'boundary-KEN-Nairobi-ADM3union.geojson',\n",
       " 'boundary-RWA-Kigali-ADM3.geojson',\n",
       " 'boundary-RWA-Kigali-ADM4union.geojson',\n",
       " 'boundary-RWA-Musanze-ADM2union.geojson',\n",
       " 'boundary-RWA-Musanze-ADM3.geojson',\n",
       " 'boundary-ZAF-CityOfJohannesburg-ADM3union.geojson',\n",
       " 'boundary-ZAF-CityOfJohannesburg-ADM4.geojson',\n",
       " 'boundary-ZAF-NelsonMandelaBay-ADM3union.geojson',\n",
       " 'boundary-ZAF-NelsonMandelaBay-ADM4.geojson',\n",
       " 'z_boundary-MEX-Guadalajara-metroarea-cities.geojson']"
      ]
     },
     "execution_count": 2,
     "metadata": {},
     "output_type": "execute_result"
    }
   ],
   "source": [
    "boundary_filenames = os.listdir('{0}/boundaries'.format(FILEPATH))\n",
    "boundary_filenames"
   ]
  },
  {
   "cell_type": "code",
   "execution_count": 3,
   "id": "b0fd0c60",
   "metadata": {},
   "outputs": [
    {
     "data": {
      "text/html": [
       "\n",
       "            <style>\n",
       "                .geemap-dark {\n",
       "                    --jp-widgets-color: white;\n",
       "                    --jp-widgets-label-color: white;\n",
       "                    --jp-ui-font-color1: white;\n",
       "                    --jp-layout-color2: #454545;\n",
       "                    background-color: #383838;\n",
       "                }\n",
       "\n",
       "                .geemap-dark .jupyter-button {\n",
       "                    --jp-layout-color3: #383838;\n",
       "                }\n",
       "\n",
       "                .geemap-colab {\n",
       "                    background-color: var(--colab-primary-surface-color, white);\n",
       "                }\n",
       "\n",
       "                .geemap-colab .jupyter-button {\n",
       "                    --jp-layout-color3: var(--colab-primary-surface-color, white);\n",
       "                }\n",
       "            </style>\n",
       "            "
      ],
      "text/plain": [
       "<IPython.core.display.HTML object>"
      ]
     },
     "metadata": {},
     "output_type": "display_data"
    }
   ],
   "source": [
    "def buffer_gdf(gdf, buffer_distance_meters):\n",
    "    source_crs = gdf.crs\n",
    "    target_epsg = get_utm_zone_epsg(gdf.to_crs('EPSG:4326').total_bounds)\n",
    "    gdf = gdf.to_crs(target_epsg)\n",
    "    return gpd.GeoDataFrame({'geometry': gdf.buffer(buffer_distance_meters).to_crs('EPSG:4326')})"
   ]
  },
  {
   "cell_type": "code",
   "execution_count": 327,
   "id": "cdde5226",
   "metadata": {},
   "outputs": [
    {
     "data": {
      "text/html": [
       "\n",
       "            <style>\n",
       "                .geemap-dark {\n",
       "                    --jp-widgets-color: white;\n",
       "                    --jp-widgets-label-color: white;\n",
       "                    --jp-ui-font-color1: white;\n",
       "                    --jp-layout-color2: #454545;\n",
       "                    background-color: #383838;\n",
       "                }\n",
       "\n",
       "                .geemap-dark .jupyter-button {\n",
       "                    --jp-layout-color3: #383838;\n",
       "                }\n",
       "\n",
       "                .geemap-colab {\n",
       "                    background-color: var(--colab-primary-surface-color, white);\n",
       "                }\n",
       "\n",
       "                .geemap-colab .jupyter-button {\n",
       "                    --jp-layout-color3: var(--colab-primary-surface-color, white);\n",
       "                }\n",
       "            </style>\n",
       "            "
      ],
      "text/plain": [
       "<IPython.core.display.HTML object>"
      ]
     },
     "metadata": {},
     "output_type": "display_data"
    }
   ],
   "source": [
    "class IsochroneVector(Layer):\n",
    "    def __init__(self, gdf, min_threshold=0, **kwargs):\n",
    "        super().__init__(**kwargs)\n",
    "        self.spatial_resolution = 100\n",
    "        self.min_threshold = min_threshold\n",
    "        self.gdf = gpd.GeoDataFrame({'is_accessible': [1] * len(gdf), 'geometry': gdf.to_crs('EPSG:4326')['geometry']}).set_crs('EPSG:4326').set_geometry('geometry')\n",
    "        \n",
    "    def get_data(self, bbox):\n",
    "        return self.gdf.clip(shapely.box(*bbox))"
   ]
  },
  {
   "cell_type": "code",
   "execution_count": 476,
   "id": "dcd466e9",
   "metadata": {},
   "outputs": [
    {
     "data": {
      "text/html": [
       "\n",
       "            <style>\n",
       "                .geemap-dark {\n",
       "                    --jp-widgets-color: white;\n",
       "                    --jp-widgets-label-color: white;\n",
       "                    --jp-ui-font-color1: white;\n",
       "                    --jp-layout-color2: #454545;\n",
       "                    background-color: #383838;\n",
       "                }\n",
       "\n",
       "                .geemap-dark .jupyter-button {\n",
       "                    --jp-layout-color3: #383838;\n",
       "                }\n",
       "\n",
       "                .geemap-colab {\n",
       "                    background-color: var(--colab-primary-surface-color, white);\n",
       "                }\n",
       "\n",
       "                .geemap-colab .jupyter-button {\n",
       "                    --jp-layout-color3: var(--colab-primary-surface-color, white);\n",
       "                }\n",
       "            </style>\n",
       "            "
      ],
      "text/plain": [
       "<IPython.core.display.HTML object>"
      ]
     },
     "metadata": {},
     "output_type": "display_data"
    },
    {
     "data": {
      "text/plain": [
       "array([ 25.1868026 , -34.05526847,  25.87355393, -33.5485737 ])"
      ]
     },
     "execution_count": 476,
     "metadata": {},
     "output_type": "execute_result"
    }
   ],
   "source": [
    "big_box = buffer_gdf(zones, 500).total_bounds\n",
    "big_box"
   ]
  },
  {
   "cell_type": "code",
   "execution_count": 484,
   "id": "a2b1d81b",
   "metadata": {},
   "outputs": [
    {
     "data": {
      "text/html": [
       "\n",
       "            <style>\n",
       "                .geemap-dark {\n",
       "                    --jp-widgets-color: white;\n",
       "                    --jp-widgets-label-color: white;\n",
       "                    --jp-ui-font-color1: white;\n",
       "                    --jp-layout-color2: #454545;\n",
       "                    background-color: #383838;\n",
       "                }\n",
       "\n",
       "                .geemap-dark .jupyter-button {\n",
       "                    --jp-layout-color3: #383838;\n",
       "                }\n",
       "\n",
       "                .geemap-colab {\n",
       "                    background-color: var(--colab-primary-surface-color, white);\n",
       "                }\n",
       "\n",
       "                .geemap-colab .jupyter-button {\n",
       "                    --jp-layout-color3: var(--colab-primary-surface-color, white);\n",
       "                }\n",
       "            </style>\n",
       "            "
      ],
      "text/plain": [
       "<IPython.core.display.HTML object>"
      ]
     },
     "metadata": {},
     "output_type": "display_data"
    }
   ],
   "source": [
    "class IsochroneVectorFromGeoJSON(Layer):\n",
    "    def __init__(self, filename, min_threshold=0, **kwargs):\n",
    "        super().__init__(**kwargs)\n",
    "        self.spatial_resolution = 100\n",
    "        self.min_threshold = min_threshold\n",
    "        gdf = gpd.read_file(filename)\n",
    "        self.gdf = gpd.GeoDataFrame({'is_accessible': [1] * len(gdf), 'geometry': gdf.to_crs('EPSG:4326')['geometry']}).to_crs('EPSG:4326').set_crs('EPSG:4326').set_geometry('geometry')\n",
    "        self.filename = filename\n",
    "        \n",
    "    def get_data(self, bbox):\n",
    "        return self.gdf.clip(shapely.box(*bbox))"
   ]
  },
  {
   "cell_type": "code",
   "execution_count": 474,
   "id": "3fa9b46d",
   "metadata": {},
   "outputs": [
    {
     "data": {
      "text/html": [
       "\n",
       "            <style>\n",
       "                .geemap-dark {\n",
       "                    --jp-widgets-color: white;\n",
       "                    --jp-widgets-label-color: white;\n",
       "                    --jp-ui-font-color1: white;\n",
       "                    --jp-layout-color2: #454545;\n",
       "                    background-color: #383838;\n",
       "                }\n",
       "\n",
       "                .geemap-dark .jupyter-button {\n",
       "                    --jp-layout-color3: #383838;\n",
       "                }\n",
       "\n",
       "                .geemap-colab {\n",
       "                    background-color: var(--colab-primary-surface-color, white);\n",
       "                }\n",
       "\n",
       "                .geemap-colab .jupyter-button {\n",
       "                    --jp-layout-color3: var(--colab-primary-surface-color, white);\n",
       "                }\n",
       "            </style>\n",
       "            "
      ],
      "text/plain": [
       "<IPython.core.display.HTML object>"
      ]
     },
     "metadata": {},
     "output_type": "display_data"
    },
    {
     "name": "stdout",
     "output_type": "stream",
     "text": [
      "ETH Dire_Dawa\n",
      "KEN Nairobi\n",
      "RWA Kigali\n",
      "RWA Musanze\n",
      "ZAF CityOfJohannesburg\n",
      "ZAF NelsonMandelaBay\n",
      "MEX Guadalajara\n"
     ]
    }
   ],
   "source": [
    "for fname in boundary_filenames:\n",
    "    if fname.split('-')[3].split('.')[0][-1] != 'n':\n",
    "        cityname = '{0} {1}'.format(fname.split('-')[1], fname.split('-')[2])\n",
    "        print(cityname)\n",
    "        with open('{0}/boundaries/{1}'.format(FILEPATH, fname), 'r') as ifile:\n",
    "            json_obj = json.loads(ifile.read())\n",
    "        feature = geemap.geojson_to_ee(json_obj)\n",
    "        zones = geemap.ee_to_gdf(feature)\n",
    "        schools = OpenStreetMap(OpenStreetMapClass.SCHOOLS).get_data(buffer_gdf(zones, 500).total_bounds)\n",
    "        if len(schools):\n",
    "            schools_buffered = buffer_gdf(schools, 500)\n",
    "        else:\n",
    "            schools_buffered = schools\n",
    "        with open('{0}/schools_prebuf_{1}.geojson'.format(FILEPATH, cityname.replace(' ', '-')), 'w') as ofile:\n",
    "            ofile.write(schools_buffered.to_json())"
   ]
  },
  {
   "cell_type": "code",
   "execution_count": 470,
   "id": "f067bf83",
   "metadata": {},
   "outputs": [
    {
     "data": {
      "text/html": [
       "\n",
       "            <style>\n",
       "                .geemap-dark {\n",
       "                    --jp-widgets-color: white;\n",
       "                    --jp-widgets-label-color: white;\n",
       "                    --jp-ui-font-color1: white;\n",
       "                    --jp-layout-color2: #454545;\n",
       "                    background-color: #383838;\n",
       "                }\n",
       "\n",
       "                .geemap-dark .jupyter-button {\n",
       "                    --jp-layout-color3: #383838;\n",
       "                }\n",
       "\n",
       "                .geemap-colab {\n",
       "                    background-color: var(--colab-primary-surface-color, white);\n",
       "                }\n",
       "\n",
       "                .geemap-colab .jupyter-button {\n",
       "                    --jp-layout-color3: var(--colab-primary-surface-color, white);\n",
       "                }\n",
       "            </style>\n",
       "            "
      ],
      "text/plain": [
       "<IPython.core.display.HTML object>"
      ]
     },
     "metadata": {},
     "output_type": "display_data"
    }
   ],
   "source": [
    "def accessible_population_gdf(access_features_layer, popraster_layer, zones):\n",
    "    if len(access_features_layer.gdf):\n",
    "        result_series = popraster_layer.mask(access_features_layer).groupby(zones).sum()\n",
    "    else:\n",
    "        result_series = pd.Series([0] * len(zones))\n",
    "    return result_series"
   ]
  },
  {
   "cell_type": "code",
   "execution_count": 519,
   "id": "9ce15ad9",
   "metadata": {},
   "outputs": [
    {
     "data": {
      "text/html": [
       "\n",
       "            <style>\n",
       "                .geemap-dark {\n",
       "                    --jp-widgets-color: white;\n",
       "                    --jp-widgets-label-color: white;\n",
       "                    --jp-ui-font-color1: white;\n",
       "                    --jp-layout-color2: #454545;\n",
       "                    background-color: #383838;\n",
       "                }\n",
       "\n",
       "                .geemap-dark .jupyter-button {\n",
       "                    --jp-layout-color3: #383838;\n",
       "                }\n",
       "\n",
       "                .geemap-colab {\n",
       "                    background-color: var(--colab-primary-surface-color, white);\n",
       "                }\n",
       "\n",
       "                .geemap-colab .jupyter-button {\n",
       "                    --jp-layout-color3: var(--colab-primary-surface-color, white);\n",
       "                }\n",
       "            </style>\n",
       "            "
      ],
      "text/plain": [
       "<IPython.core.display.HTML object>"
      ]
     },
     "metadata": {},
     "output_type": "display_data"
    }
   ],
   "source": [
    "def get_result_gdf(population_layer, accesszone_layer, zones):\n",
    "    try:\n",
    "        access_pop = accessible_population_gdf(accesszone_layer, population_layer, zones)\n",
    "        total_pop = population_layer.groupby(zones).sum()\n",
    "        zones['total_population'] = total_pop\n",
    "        zones['accessible_population'] = access_pop\n",
    "        zones['accessible_fraction'] = access_pop / total_pop\n",
    "        return zones\n",
    "    except:\n",
    "        print('*** Trying dropping a district ***')\n",
    "        idx = 0\n",
    "        while idx < len(zones.index):\n",
    "            try:\n",
    "                mostrows_gdf = zones.drop(zones.index[idx]).reset_index()\n",
    "                access_pop = accessible_population_gdf(accesszone_layer, population_layer, mostrows_gdf)\n",
    "                total_pop = population_layer.groupby(mostrows_gdf).sum()\n",
    "                mostrows_gdf['total_population'] = total_pop\n",
    "                mostrows_gdf['accessible_population'] = access_pop\n",
    "                mostrows_gdf['accessible_fraction'] = access_pop / total_pop\n",
    "                dropped_gdf = zones.loc[[zones.index[idx]]]\n",
    "                dropped_access_pop = accessible_population_gdf(accesszone_layer, population_layer, dropped_gdf)\n",
    "                dropped_total_pop = population_layer.groupby(dropped_gdf).sum()\n",
    "                dropped_gdf['total_population'] = dropped_total_pop\n",
    "                dropped_gdf['accessible_population'] = dropped_access_pop\n",
    "                dropped_gdf['accessible_fraction'] = dropped_access_pop / dropped_total_pop\n",
    "                print('*** FOUND RESULT WITH IDX', idx)\n",
    "                return pd.concat([mostrows_gdf, dropped_gdf]).reset_index()\n",
    "            except:\n",
    "                idx += 1\n",
    "        zones['total_population'] = None\n",
    "        zones['accessible_population'] = None\n",
    "        zones['accessible_fraction'] = None\n",
    "        return zones\n",
    "            "
   ]
  },
  {
   "cell_type": "code",
   "execution_count": 522,
   "id": "24eda111",
   "metadata": {
    "scrolled": false
   },
   "outputs": [
    {
     "data": {
      "text/html": [
       "\n",
       "            <style>\n",
       "                .geemap-dark {\n",
       "                    --jp-widgets-color: white;\n",
       "                    --jp-widgets-label-color: white;\n",
       "                    --jp-ui-font-color1: white;\n",
       "                    --jp-layout-color2: #454545;\n",
       "                    background-color: #383838;\n",
       "                }\n",
       "\n",
       "                .geemap-dark .jupyter-button {\n",
       "                    --jp-layout-color3: #383838;\n",
       "                }\n",
       "\n",
       "                .geemap-colab {\n",
       "                    background-color: var(--colab-primary-surface-color, white);\n",
       "                }\n",
       "\n",
       "                .geemap-colab .jupyter-button {\n",
       "                    --jp-layout-color3: var(--colab-primary-surface-color, white);\n",
       "                }\n",
       "            </style>\n",
       "            "
      ],
      "text/plain": [
       "<IPython.core.display.HTML object>"
      ]
     },
     "metadata": {},
     "output_type": "display_data"
    },
    {
     "name": "stdout",
     "output_type": "stream",
     "text": [
      "ETH Dire_Dawa\n",
      "Input covers too much area, splitting into 2 tiles\n"
     ]
    },
    {
     "name": "stderr",
     "output_type": "stream",
     "text": [
      "C:\\Users\\theodore.wong\\AppData\\Local\\anaconda3\\envs\\cif\\lib\\site-packages\\xee\\ext.py:685: UserWarning: Unable to retrieve 'system:time_start' values from an ImageCollection due to: No 'system:time_start' values found in the 'ImageCollection'.\n",
      "  warnings.warn(\n"
     ]
    },
    {
     "name": "stdout",
     "output_type": "stream",
     "text": [
      "Extracting layer world pop from Google Earth Engine for bbox [41.63315988  9.44538064 42.13315988  9.79335473]:\n",
      "[########################################] | 100% Completed | 1.81 ss\n"
     ]
    },
    {
     "name": "stderr",
     "output_type": "stream",
     "text": [
      "C:\\Users\\theodore.wong\\AppData\\Local\\anaconda3\\envs\\cif\\lib\\site-packages\\xee\\ext.py:685: UserWarning: Unable to retrieve 'system:time_start' values from an ImageCollection due to: No 'system:time_start' values found in the 'ImageCollection'.\n",
      "  warnings.warn(\n"
     ]
    },
    {
     "name": "stdout",
     "output_type": "stream",
     "text": [
      "Extracting layer world pop from Google Earth Engine for bbox [42.13315988  9.57078713 42.42197622  9.84160302]:\n",
      "[########################################] | 100% Completed | 925.17 ms\n"
     ]
    },
    {
     "name": "stderr",
     "output_type": "stream",
     "text": [
      "C:\\Users\\theodore.wong\\cif\\cities-cif\\city_metrix\\layers\\layer.py:151: DeprecationWarning: DataFrameGroupBy.apply operated on the grouping columns. This behavior is deprecated, and in a future version of pandas the grouping columns will be excluded from the operation. Either pass `include_groups=False` to exclude the groupings or explicitly select the grouping columns after groupby to silence this warning.\n",
      "  return aggregated.reset_index()\n"
     ]
    },
    {
     "name": "stdout",
     "output_type": "stream",
     "text": [
      "KEN Nairobi\n"
     ]
    },
    {
     "name": "stderr",
     "output_type": "stream",
     "text": [
      "C:\\Users\\theodore.wong\\AppData\\Local\\anaconda3\\envs\\cif\\lib\\site-packages\\xee\\ext.py:685: UserWarning: Unable to retrieve 'system:time_start' values from an ImageCollection due to: No 'system:time_start' values found in the 'ImageCollection'.\n",
      "  warnings.warn(\n"
     ]
    },
    {
     "name": "stdout",
     "output_type": "stream",
     "text": [
      "Extracting layer world pop from Google Earth Engine for bbox [36.66446402 -1.44560888 37.10497899 -1.16058296]:\n",
      "[########################################] | 100% Completed | 1.28 ss\n"
     ]
    },
    {
     "name": "stderr",
     "output_type": "stream",
     "text": [
      "C:\\Users\\theodore.wong\\AppData\\Local\\anaconda3\\envs\\cif\\lib\\site-packages\\xee\\ext.py:685: UserWarning: Unable to retrieve 'system:time_start' values from an ImageCollection due to: No 'system:time_start' values found in the 'ImageCollection'.\n",
      "  warnings.warn(\n"
     ]
    },
    {
     "name": "stdout",
     "output_type": "stream",
     "text": [
      "Extracting layer world pop from Google Earth Engine for bbox [36.66446402 -1.44560888 37.10497899 -1.16058296]:\n",
      "[########################################] | 100% Completed | 1.05 ss\n",
      "RWA Kigali\n"
     ]
    },
    {
     "name": "stderr",
     "output_type": "stream",
     "text": [
      "C:\\Users\\theodore.wong\\AppData\\Local\\anaconda3\\envs\\cif\\lib\\site-packages\\xee\\ext.py:685: UserWarning: Unable to retrieve 'system:time_start' values from an ImageCollection due to: No 'system:time_start' values found in the 'ImageCollection'.\n",
      "  warnings.warn(\n"
     ]
    },
    {
     "name": "stdout",
     "output_type": "stream",
     "text": [
      "Extracting layer world pop from Google Earth Engine for bbox [29.97751933 -2.07980328 30.27715038 -1.77956142]:\n",
      "[########################################] | 100% Completed | 1.07 ss\n"
     ]
    },
    {
     "name": "stderr",
     "output_type": "stream",
     "text": [
      "C:\\Users\\theodore.wong\\AppData\\Local\\anaconda3\\envs\\cif\\lib\\site-packages\\xee\\ext.py:685: UserWarning: Unable to retrieve 'system:time_start' values from an ImageCollection due to: No 'system:time_start' values found in the 'ImageCollection'.\n",
      "  warnings.warn(\n"
     ]
    },
    {
     "name": "stdout",
     "output_type": "stream",
     "text": [
      "Extracting layer world pop from Google Earth Engine for bbox [29.97751933 -2.07980328 30.27715038 -1.77956142]:\n",
      "[########################################] | 100% Completed | 698.88 ms\n",
      "RWA Musanze\n"
     ]
    },
    {
     "name": "stderr",
     "output_type": "stream",
     "text": [
      "C:\\Users\\theodore.wong\\AppData\\Local\\anaconda3\\envs\\cif\\lib\\site-packages\\xee\\ext.py:685: UserWarning: Unable to retrieve 'system:time_start' values from an ImageCollection due to: No 'system:time_start' values found in the 'ImageCollection'.\n",
      "  warnings.warn(\n"
     ]
    },
    {
     "name": "stdout",
     "output_type": "stream",
     "text": [
      "Extracting layer world pop from Google Earth Engine for bbox [29.45000211 -1.59884698 29.76527319 -1.38580709]:\n",
      "[########################################] | 100% Completed | 800.00 ms\n"
     ]
    },
    {
     "name": "stderr",
     "output_type": "stream",
     "text": [
      "C:\\Users\\theodore.wong\\AppData\\Local\\anaconda3\\envs\\cif\\lib\\site-packages\\xee\\ext.py:685: UserWarning: Unable to retrieve 'system:time_start' values from an ImageCollection due to: No 'system:time_start' values found in the 'ImageCollection'.\n",
      "  warnings.warn(\n"
     ]
    },
    {
     "name": "stdout",
     "output_type": "stream",
     "text": [
      "Extracting layer world pop from Google Earth Engine for bbox [29.45000211 -1.59884698 29.76527319 -1.38580709]:\n",
      "[########################################] | 100% Completed | 574.41 ms\n",
      "ZAF CityOfJohannesburg\n",
      "Input covers too much area, splitting into 3 tiles\n"
     ]
    },
    {
     "name": "stderr",
     "output_type": "stream",
     "text": [
      "C:\\Users\\theodore.wong\\AppData\\Local\\anaconda3\\envs\\cif\\lib\\site-packages\\xee\\ext.py:685: UserWarning: Unable to retrieve 'system:time_start' values from an ImageCollection due to: No 'system:time_start' values found in the 'ImageCollection'.\n",
      "  warnings.warn(\n"
     ]
    },
    {
     "name": "stdout",
     "output_type": "stream",
     "text": [
      "Extracting layer world pop from Google Earth Engine for bbox [ 27.71427 -26.52629  28.18942 -26.02629]:\n",
      "[########################################] | 100% Completed | 916.73 ms\n"
     ]
    },
    {
     "name": "stderr",
     "output_type": "stream",
     "text": [
      "C:\\Users\\theodore.wong\\AppData\\Local\\anaconda3\\envs\\cif\\lib\\site-packages\\xee\\ext.py:685: UserWarning: Unable to retrieve 'system:time_start' values from an ImageCollection due to: No 'system:time_start' values found in the 'ImageCollection'.\n",
      "  warnings.warn(\n"
     ]
    },
    {
     "name": "stdout",
     "output_type": "stream",
     "text": [
      "Extracting layer world pop from Google Earth Engine for bbox [ 27.89758999 -26.02629     28.21427    -25.90283   ]:\n",
      "[########################################] | 100% Completed | 583.12 ms\n"
     ]
    },
    {
     "name": "stderr",
     "output_type": "stream",
     "text": [
      "C:\\Users\\theodore.wong\\AppData\\Local\\anaconda3\\envs\\cif\\lib\\site-packages\\xee\\ext.py:685: UserWarning: Unable to retrieve 'system:time_start' values from an ImageCollection due to: No 'system:time_start' values found in the 'ImageCollection'.\n",
      "  warnings.warn(\n"
     ]
    },
    {
     "name": "stdout",
     "output_type": "stream",
     "text": [
      "Extracting layer world pop from Google Earth Engine for bbox [ 28.21427    -25.99463094  28.21446    -25.99352175]:\n",
      "[########################################] | 100% Completed | 344.70 ms\n"
     ]
    },
    {
     "name": "stderr",
     "output_type": "stream",
     "text": [
      "C:\\Users\\theodore.wong\\cif\\cities-cif\\city_metrix\\layers\\layer.py:151: DeprecationWarning: DataFrameGroupBy.apply operated on the grouping columns. This behavior is deprecated, and in a future version of pandas the grouping columns will be excluded from the operation. Either pass `include_groups=False` to exclude the groupings or explicitly select the grouping columns after groupby to silence this warning.\n",
      "  return aggregated.reset_index()\n"
     ]
    },
    {
     "name": "stdout",
     "output_type": "stream",
     "text": [
      "Input covers too much area, splitting into 3 tiles\n"
     ]
    },
    {
     "name": "stderr",
     "output_type": "stream",
     "text": [
      "C:\\Users\\theodore.wong\\AppData\\Local\\anaconda3\\envs\\cif\\lib\\site-packages\\xee\\ext.py:685: UserWarning: Unable to retrieve 'system:time_start' values from an ImageCollection due to: No 'system:time_start' values found in the 'ImageCollection'.\n",
      "  warnings.warn(\n"
     ]
    },
    {
     "name": "stdout",
     "output_type": "stream",
     "text": [
      "Extracting layer world pop from Google Earth Engine for bbox [ 27.71427 -26.52629  28.18942 -26.02629]:\n",
      "[########################################] | 100% Completed | 694.49 ms\n"
     ]
    },
    {
     "name": "stderr",
     "output_type": "stream",
     "text": [
      "C:\\Users\\theodore.wong\\AppData\\Local\\anaconda3\\envs\\cif\\lib\\site-packages\\xee\\ext.py:685: UserWarning: Unable to retrieve 'system:time_start' values from an ImageCollection due to: No 'system:time_start' values found in the 'ImageCollection'.\n",
      "  warnings.warn(\n"
     ]
    },
    {
     "name": "stdout",
     "output_type": "stream",
     "text": [
      "Extracting layer world pop from Google Earth Engine for bbox [ 27.89758999 -26.02629     28.21427    -25.90283   ]:\n",
      "[########################################] | 100% Completed | 590.12 ms\n"
     ]
    },
    {
     "name": "stderr",
     "output_type": "stream",
     "text": [
      "C:\\Users\\theodore.wong\\AppData\\Local\\anaconda3\\envs\\cif\\lib\\site-packages\\xee\\ext.py:685: UserWarning: Unable to retrieve 'system:time_start' values from an ImageCollection due to: No 'system:time_start' values found in the 'ImageCollection'.\n",
      "  warnings.warn(\n"
     ]
    },
    {
     "name": "stdout",
     "output_type": "stream",
     "text": [
      "Extracting layer world pop from Google Earth Engine for bbox [ 28.21427    -25.99463094  28.21446    -25.99352175]:\n",
      "[########################################] | 100% Completed | 444.42 ms\n"
     ]
    },
    {
     "name": "stderr",
     "output_type": "stream",
     "text": [
      "C:\\Users\\theodore.wong\\cif\\cities-cif\\city_metrix\\layers\\layer.py:151: DeprecationWarning: DataFrameGroupBy.apply operated on the grouping columns. This behavior is deprecated, and in a future version of pandas the grouping columns will be excluded from the operation. Either pass `include_groups=False` to exclude the groupings or explicitly select the grouping columns after groupby to silence this warning.\n",
      "  return aggregated.reset_index()\n"
     ]
    },
    {
     "name": "stdout",
     "output_type": "stream",
     "text": [
      "ZAF NelsonMandelaBay\n",
      "Input covers too much area, splitting into 2 tiles\n"
     ]
    },
    {
     "name": "stderr",
     "output_type": "stream",
     "text": [
      "C:\\Users\\theodore.wong\\AppData\\Local\\anaconda3\\envs\\cif\\lib\\site-packages\\xee\\ext.py:685: UserWarning: Unable to retrieve 'system:time_start' values from an ImageCollection due to: No 'system:time_start' values found in the 'ImageCollection'.\n",
      "  warnings.warn(\n"
     ]
    },
    {
     "name": "stdout",
     "output_type": "stream",
     "text": [
      "Extracting layer world pop from Google Earth Engine for bbox [ 25.19221 -34.05076  25.69221 -33.55308]:\n",
      "[########################################] | 100% Completed | 667.03 ms\n"
     ]
    },
    {
     "name": "stderr",
     "output_type": "stream",
     "text": [
      "C:\\Users\\theodore.wong\\AppData\\Local\\anaconda3\\envs\\cif\\lib\\site-packages\\xee\\ext.py:685: UserWarning: Unable to retrieve 'system:time_start' values from an ImageCollection due to: No 'system:time_start' values found in the 'ImageCollection'.\n",
      "  warnings.warn(\n"
     ]
    },
    {
     "name": "stdout",
     "output_type": "stream",
     "text": [
      "Extracting layer world pop from Google Earth Engine for bbox [ 25.69221    -34.03228     25.868165   -33.60739586]:\n",
      "[########################################] | 100% Completed | 470.95 ms\n",
      "*** Trying dropping a district ***\n",
      "Input covers too much area, splitting into 2 tiles\n"
     ]
    },
    {
     "name": "stderr",
     "output_type": "stream",
     "text": [
      "C:\\Users\\theodore.wong\\AppData\\Local\\anaconda3\\envs\\cif\\lib\\site-packages\\xee\\ext.py:685: UserWarning: Unable to retrieve 'system:time_start' values from an ImageCollection due to: No 'system:time_start' values found in the 'ImageCollection'.\n",
      "  warnings.warn(\n"
     ]
    },
    {
     "name": "stdout",
     "output_type": "stream",
     "text": [
      "Extracting layer world pop from Google Earth Engine for bbox [ 25.19221 -34.05076  25.69221 -33.55308]:\n",
      "[########################################] | 100% Completed | 1.46 sms\n"
     ]
    },
    {
     "name": "stderr",
     "output_type": "stream",
     "text": [
      "C:\\Users\\theodore.wong\\AppData\\Local\\anaconda3\\envs\\cif\\lib\\site-packages\\xee\\ext.py:685: UserWarning: Unable to retrieve 'system:time_start' values from an ImageCollection due to: No 'system:time_start' values found in the 'ImageCollection'.\n",
      "  warnings.warn(\n"
     ]
    },
    {
     "name": "stdout",
     "output_type": "stream",
     "text": [
      "Extracting layer world pop from Google Earth Engine for bbox [ 25.69221    -34.03228     25.868165   -33.60739586]:\n",
      "[########################################] | 100% Completed | 625.35 ms\n",
      "Input covers too much area, splitting into 2 tiles\n"
     ]
    },
    {
     "name": "stderr",
     "output_type": "stream",
     "text": [
      "C:\\Users\\theodore.wong\\AppData\\Local\\anaconda3\\envs\\cif\\lib\\site-packages\\xee\\ext.py:685: UserWarning: Unable to retrieve 'system:time_start' values from an ImageCollection due to: No 'system:time_start' values found in the 'ImageCollection'.\n",
      "  warnings.warn(\n"
     ]
    },
    {
     "name": "stdout",
     "output_type": "stream",
     "text": [
      "Extracting layer world pop from Google Earth Engine for bbox [ 25.19221 -34.05076  25.69221 -33.55308]:\n",
      "[########################################] | 100% Completed | 934.37 ms\n"
     ]
    },
    {
     "name": "stderr",
     "output_type": "stream",
     "text": [
      "C:\\Users\\theodore.wong\\AppData\\Local\\anaconda3\\envs\\cif\\lib\\site-packages\\xee\\ext.py:685: UserWarning: Unable to retrieve 'system:time_start' values from an ImageCollection due to: No 'system:time_start' values found in the 'ImageCollection'.\n",
      "  warnings.warn(\n"
     ]
    },
    {
     "name": "stdout",
     "output_type": "stream",
     "text": [
      "Extracting layer world pop from Google Earth Engine for bbox [ 25.69221    -34.03228     25.868165   -33.60739586]:\n",
      "[########################################] | 100% Completed | 544.36 ms\n",
      "Input covers too much area, splitting into 2 tiles\n"
     ]
    },
    {
     "name": "stderr",
     "output_type": "stream",
     "text": [
      "C:\\Users\\theodore.wong\\AppData\\Local\\anaconda3\\envs\\cif\\lib\\site-packages\\xee\\ext.py:685: UserWarning: Unable to retrieve 'system:time_start' values from an ImageCollection due to: No 'system:time_start' values found in the 'ImageCollection'.\n",
      "  warnings.warn(\n"
     ]
    },
    {
     "name": "stdout",
     "output_type": "stream",
     "text": [
      "Extracting layer world pop from Google Earth Engine for bbox [ 25.19221 -34.05076  25.69221 -33.55308]:\n",
      "[########################################] | 100% Completed | 835.81 ms\n"
     ]
    },
    {
     "name": "stderr",
     "output_type": "stream",
     "text": [
      "C:\\Users\\theodore.wong\\AppData\\Local\\anaconda3\\envs\\cif\\lib\\site-packages\\xee\\ext.py:685: UserWarning: Unable to retrieve 'system:time_start' values from an ImageCollection due to: No 'system:time_start' values found in the 'ImageCollection'.\n",
      "  warnings.warn(\n"
     ]
    },
    {
     "name": "stdout",
     "output_type": "stream",
     "text": [
      "Extracting layer world pop from Google Earth Engine for bbox [ 25.69221    -34.03228     25.868165   -33.60739586]:\n",
      "[########################################] | 100% Completed | 523.77 ms\n",
      "Input covers too much area, splitting into 2 tiles\n"
     ]
    },
    {
     "name": "stderr",
     "output_type": "stream",
     "text": [
      "C:\\Users\\theodore.wong\\AppData\\Local\\anaconda3\\envs\\cif\\lib\\site-packages\\xee\\ext.py:685: UserWarning: Unable to retrieve 'system:time_start' values from an ImageCollection due to: No 'system:time_start' values found in the 'ImageCollection'.\n",
      "  warnings.warn(\n"
     ]
    },
    {
     "name": "stdout",
     "output_type": "stream",
     "text": [
      "Extracting layer world pop from Google Earth Engine for bbox [ 25.19221 -34.05076  25.69221 -33.55308]:\n",
      "[########################################] | 100% Completed | 832.31 ms\n"
     ]
    },
    {
     "name": "stderr",
     "output_type": "stream",
     "text": [
      "C:\\Users\\theodore.wong\\AppData\\Local\\anaconda3\\envs\\cif\\lib\\site-packages\\xee\\ext.py:685: UserWarning: Unable to retrieve 'system:time_start' values from an ImageCollection due to: No 'system:time_start' values found in the 'ImageCollection'.\n",
      "  warnings.warn(\n"
     ]
    },
    {
     "name": "stdout",
     "output_type": "stream",
     "text": [
      "Extracting layer world pop from Google Earth Engine for bbox [ 25.69221    -34.03228     25.868165   -33.60739586]:\n",
      "[########################################] | 100% Completed | 631.20 ms\n",
      "Input covers too much area, splitting into 2 tiles\n"
     ]
    },
    {
     "name": "stderr",
     "output_type": "stream",
     "text": [
      "C:\\Users\\theodore.wong\\AppData\\Local\\anaconda3\\envs\\cif\\lib\\site-packages\\xee\\ext.py:685: UserWarning: Unable to retrieve 'system:time_start' values from an ImageCollection due to: No 'system:time_start' values found in the 'ImageCollection'.\n",
      "  warnings.warn(\n"
     ]
    },
    {
     "name": "stdout",
     "output_type": "stream",
     "text": [
      "Extracting layer world pop from Google Earth Engine for bbox [ 25.19221 -34.05076  25.69221 -33.55308]:\n",
      "[########################################] | 100% Completed | 832.33 ms\n"
     ]
    },
    {
     "name": "stderr",
     "output_type": "stream",
     "text": [
      "C:\\Users\\theodore.wong\\AppData\\Local\\anaconda3\\envs\\cif\\lib\\site-packages\\xee\\ext.py:685: UserWarning: Unable to retrieve 'system:time_start' values from an ImageCollection due to: No 'system:time_start' values found in the 'ImageCollection'.\n",
      "  warnings.warn(\n"
     ]
    },
    {
     "name": "stdout",
     "output_type": "stream",
     "text": [
      "Extracting layer world pop from Google Earth Engine for bbox [ 25.69221    -34.03228     25.868165   -33.60739586]:\n",
      "[########################################] | 100% Completed | 528.81 ms\n",
      "Input covers too much area, splitting into 2 tiles\n"
     ]
    },
    {
     "name": "stderr",
     "output_type": "stream",
     "text": [
      "C:\\Users\\theodore.wong\\AppData\\Local\\anaconda3\\envs\\cif\\lib\\site-packages\\xee\\ext.py:685: UserWarning: Unable to retrieve 'system:time_start' values from an ImageCollection due to: No 'system:time_start' values found in the 'ImageCollection'.\n",
      "  warnings.warn(\n"
     ]
    },
    {
     "name": "stdout",
     "output_type": "stream",
     "text": [
      "Extracting layer world pop from Google Earth Engine for bbox [ 25.19221 -34.05076  25.69221 -33.55308]:\n",
      "[########################################] | 100% Completed | 948.09 ms\n"
     ]
    },
    {
     "name": "stderr",
     "output_type": "stream",
     "text": [
      "C:\\Users\\theodore.wong\\AppData\\Local\\anaconda3\\envs\\cif\\lib\\site-packages\\xee\\ext.py:685: UserWarning: Unable to retrieve 'system:time_start' values from an ImageCollection due to: No 'system:time_start' values found in the 'ImageCollection'.\n",
      "  warnings.warn(\n"
     ]
    },
    {
     "name": "stdout",
     "output_type": "stream",
     "text": [
      "Extracting layer world pop from Google Earth Engine for bbox [ 25.69221    -34.03228     25.868165   -33.60739586]:\n",
      "[########################################] | 100% Completed | 943.35 ms\n",
      "Input covers too much area, splitting into 2 tiles\n"
     ]
    },
    {
     "name": "stderr",
     "output_type": "stream",
     "text": [
      "C:\\Users\\theodore.wong\\AppData\\Local\\anaconda3\\envs\\cif\\lib\\site-packages\\xee\\ext.py:685: UserWarning: Unable to retrieve 'system:time_start' values from an ImageCollection due to: No 'system:time_start' values found in the 'ImageCollection'.\n",
      "  warnings.warn(\n"
     ]
    },
    {
     "name": "stdout",
     "output_type": "stream",
     "text": [
      "Extracting layer world pop from Google Earth Engine for bbox [ 25.19221 -34.05076  25.69221 -33.55308]:\n",
      "[########################################] | 100% Completed | 833.51 ms\n"
     ]
    },
    {
     "name": "stderr",
     "output_type": "stream",
     "text": [
      "C:\\Users\\theodore.wong\\AppData\\Local\\anaconda3\\envs\\cif\\lib\\site-packages\\xee\\ext.py:685: UserWarning: Unable to retrieve 'system:time_start' values from an ImageCollection due to: No 'system:time_start' values found in the 'ImageCollection'.\n",
      "  warnings.warn(\n"
     ]
    },
    {
     "name": "stdout",
     "output_type": "stream",
     "text": [
      "Extracting layer world pop from Google Earth Engine for bbox [ 25.69221    -34.03228     25.868165   -33.60739586]:\n",
      "[########################################] | 100% Completed | 1.56 ss\n"
     ]
    },
    {
     "name": "stderr",
     "output_type": "stream",
     "text": [
      "C:\\Users\\theodore.wong\\AppData\\Local\\anaconda3\\envs\\cif\\lib\\site-packages\\xee\\ext.py:685: UserWarning: Unable to retrieve 'system:time_start' values from an ImageCollection due to: No 'system:time_start' values found in the 'ImageCollection'.\n",
      "  warnings.warn(\n"
     ]
    },
    {
     "name": "stdout",
     "output_type": "stream",
     "text": [
      "Extracting layer world pop from Google Earth Engine for bbox [ 25.19221 -34.05076  25.70445 -33.66606]:\n",
      "[########################################] | 100% Completed | 729.84 ms\n"
     ]
    },
    {
     "name": "stderr",
     "output_type": "stream",
     "text": [
      "C:\\Users\\theodore.wong\\AppData\\Local\\anaconda3\\envs\\cif\\lib\\site-packages\\xee\\ext.py:685: UserWarning: Unable to retrieve 'system:time_start' values from an ImageCollection due to: No 'system:time_start' values found in the 'ImageCollection'.\n",
      "  warnings.warn(\n"
     ]
    },
    {
     "name": "stdout",
     "output_type": "stream",
     "text": [
      "Extracting layer world pop from Google Earth Engine for bbox [ 25.19221 -34.05076  25.70445 -33.66606]:\n",
      "[########################################] | 100% Completed | 939.68 ms\n"
     ]
    },
    {
     "name": "stderr",
     "output_type": "stream",
     "text": [
      "C:\\Users\\theodore.wong\\AppData\\Local\\anaconda3\\envs\\cif\\lib\\site-packages\\xee\\ext.py:685: UserWarning: Unable to retrieve 'system:time_start' values from an ImageCollection due to: No 'system:time_start' values found in the 'ImageCollection'.\n",
      "  warnings.warn(\n"
     ]
    },
    {
     "name": "stdout",
     "output_type": "stream",
     "text": [
      "Extracting layer world pop from Google Earth Engine for bbox [ 25.30806  -33.808752  25.868165 -33.55308 ]:\n",
      "[########################################] | 100% Completed | 525.92 ms\n"
     ]
    },
    {
     "name": "stderr",
     "output_type": "stream",
     "text": [
      "C:\\Users\\theodore.wong\\AppData\\Local\\anaconda3\\envs\\cif\\lib\\site-packages\\xee\\ext.py:685: UserWarning: Unable to retrieve 'system:time_start' values from an ImageCollection due to: No 'system:time_start' values found in the 'ImageCollection'.\n",
      "  warnings.warn(\n"
     ]
    },
    {
     "name": "stdout",
     "output_type": "stream",
     "text": [
      "Extracting layer world pop from Google Earth Engine for bbox [ 25.30806  -33.808752  25.868165 -33.55308 ]:\n",
      "[########################################] | 100% Completed | 1.16 sms\n",
      "*** FOUND RESULT WITH IDX 7\n",
      "MEX Guadalajara\n",
      "Input covers too much area, splitting into 3 tiles\n"
     ]
    },
    {
     "name": "stderr",
     "output_type": "stream",
     "text": [
      "C:\\Users\\theodore.wong\\AppData\\Local\\anaconda3\\envs\\cif\\lib\\site-packages\\xee\\ext.py:685: UserWarning: Unable to retrieve 'system:time_start' values from an ImageCollection due to: No 'system:time_start' values found in the 'ImageCollection'.\n",
      "  warnings.warn(\n"
     ]
    },
    {
     "name": "stdout",
     "output_type": "stream",
     "text": [
      "Extracting layer world pop from Google Earth Engine for bbox [-103.6884244   20.3257581 -103.1884244   20.8257581]:\n",
      "[########################################] | 100% Completed | 698.28 ms\n"
     ]
    },
    {
     "name": "stderr",
     "output_type": "stream",
     "text": [
      "C:\\Users\\theodore.wong\\AppData\\Local\\anaconda3\\envs\\cif\\lib\\site-packages\\xee\\ext.py:685: UserWarning: Unable to retrieve 'system:time_start' values from an ImageCollection due to: No 'system:time_start' values found in the 'ImageCollection'.\n",
      "  warnings.warn(\n"
     ]
    },
    {
     "name": "stdout",
     "output_type": "stream",
     "text": [
      "Extracting layer world pop from Google Earth Engine for bbox [-103.1884244    20.32698925 -102.869427     20.7961688 ]:\n",
      "[########################################] | 100% Completed | 1.05 sms\n"
     ]
    },
    {
     "name": "stderr",
     "output_type": "stream",
     "text": [
      "C:\\Users\\theodore.wong\\AppData\\Local\\anaconda3\\envs\\cif\\lib\\site-packages\\xee\\ext.py:685: UserWarning: Unable to retrieve 'system:time_start' values from an ImageCollection due to: No 'system:time_start' values found in the 'ImageCollection'.\n",
      "  warnings.warn(\n"
     ]
    },
    {
     "name": "stdout",
     "output_type": "stream",
     "text": [
      "Extracting layer world pop from Google Earth Engine for bbox [-103.6552783   20.8257581 -103.3252144   20.9982375]:\n",
      "[########################################] | 100% Completed | 575.65 ms\n"
     ]
    },
    {
     "name": "stderr",
     "output_type": "stream",
     "text": [
      "C:\\Users\\theodore.wong\\cif\\cities-cif\\city_metrix\\layers\\layer.py:151: DeprecationWarning: DataFrameGroupBy.apply operated on the grouping columns. This behavior is deprecated, and in a future version of pandas the grouping columns will be excluded from the operation. Either pass `include_groups=False` to exclude the groupings or explicitly select the grouping columns after groupby to silence this warning.\n",
      "  return aggregated.reset_index()\n"
     ]
    },
    {
     "name": "stdout",
     "output_type": "stream",
     "text": [
      "Input covers too much area, splitting into 3 tiles\n"
     ]
    },
    {
     "name": "stderr",
     "output_type": "stream",
     "text": [
      "C:\\Users\\theodore.wong\\AppData\\Local\\anaconda3\\envs\\cif\\lib\\site-packages\\xee\\ext.py:685: UserWarning: Unable to retrieve 'system:time_start' values from an ImageCollection due to: No 'system:time_start' values found in the 'ImageCollection'.\n",
      "  warnings.warn(\n"
     ]
    },
    {
     "name": "stdout",
     "output_type": "stream",
     "text": [
      "Extracting layer world pop from Google Earth Engine for bbox [-103.6884244   20.3257581 -103.1884244   20.8257581]:\n",
      "[########################################] | 100% Completed | 1.03 sms\n"
     ]
    },
    {
     "name": "stderr",
     "output_type": "stream",
     "text": [
      "C:\\Users\\theodore.wong\\AppData\\Local\\anaconda3\\envs\\cif\\lib\\site-packages\\xee\\ext.py:685: UserWarning: Unable to retrieve 'system:time_start' values from an ImageCollection due to: No 'system:time_start' values found in the 'ImageCollection'.\n",
      "  warnings.warn(\n"
     ]
    },
    {
     "name": "stdout",
     "output_type": "stream",
     "text": [
      "Extracting layer world pop from Google Earth Engine for bbox [-103.1884244    20.32698925 -102.869427     20.7961688 ]:\n",
      "[########################################] | 100% Completed | 1.16 sms\n"
     ]
    },
    {
     "name": "stderr",
     "output_type": "stream",
     "text": [
      "C:\\Users\\theodore.wong\\AppData\\Local\\anaconda3\\envs\\cif\\lib\\site-packages\\xee\\ext.py:685: UserWarning: Unable to retrieve 'system:time_start' values from an ImageCollection due to: No 'system:time_start' values found in the 'ImageCollection'.\n",
      "  warnings.warn(\n"
     ]
    },
    {
     "name": "stdout",
     "output_type": "stream",
     "text": [
      "Extracting layer world pop from Google Earth Engine for bbox [-103.6552783   20.8257581 -103.3252144   20.9982375]:\n",
      "[########################################] | 100% Completed | 584.79 ms\n"
     ]
    },
    {
     "name": "stderr",
     "output_type": "stream",
     "text": [
      "C:\\Users\\theodore.wong\\cif\\cities-cif\\city_metrix\\layers\\layer.py:151: DeprecationWarning: DataFrameGroupBy.apply operated on the grouping columns. This behavior is deprecated, and in a future version of pandas the grouping columns will be excluded from the operation. Either pass `include_groups=False` to exclude the groupings or explicitly select the grouping columns after groupby to silence this warning.\n",
      "  return aggregated.reset_index()\n"
     ]
    }
   ],
   "source": [
    "population_layer = WorldPop()\n",
    "\n",
    "for fname in boundary_filenames:\n",
    "    if fname.split('-')[3].split('.')[0][-1] != 'n':\n",
    "        cityname = '{0} {1}'.format(fname.split('-')[1], fname.split('-')[2])\n",
    "        print(cityname)\n",
    "        with open('{0}/boundaries/{1}'.format(FILEPATH, fname), 'r') as ifile:\n",
    "            json_obj = json.loads(ifile.read())\n",
    "        feature = geemap.geojson_to_ee(json_obj)\n",
    "        zones = geemap.ee_to_gdf(feature)\n",
    "        schools_layer = IsochroneVectorFromGeoJSON('{0}/schools_prebuf_{1}.geojson'.format(FILEPATH, cityname.replace(' ', '-')))\n",
    "        result = get_result_gdf(population_layer, schools_layer, zones)\n",
    "        with open('{0}/schools_accessfraction_{1}.geojson'.format(FILEPATH, cityname.replace(' ', '-')), 'w') as ofile:\n",
    "            ofile.write(zones.to_json())"
   ]
  },
  {
   "cell_type": "code",
   "execution_count": null,
   "id": "a0d2fb92",
   "metadata": {},
   "outputs": [],
   "source": []
  }
 ],
 "metadata": {
  "kernelspec": {
   "display_name": "Python [conda env:cif]",
   "language": "python",
   "name": "conda-env-cif-py"
  },
  "language_info": {
   "codemirror_mode": {
    "name": "ipython",
    "version": 3
   },
   "file_extension": ".py",
   "mimetype": "text/x-python",
   "name": "python",
   "nbconvert_exporter": "python",
   "pygments_lexer": "ipython3",
   "version": "3.10.14"
  }
 },
 "nbformat": 4,
 "nbformat_minor": 5
}
