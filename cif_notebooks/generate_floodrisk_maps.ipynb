{
 "cells": [
  {
   "cell_type": "code",
   "execution_count": null,
   "id": "aded29f8",
   "metadata": {},
   "outputs": [],
   "source": [
    "import os\n",
    "os.chdir('C:/Users/theodore.wong/cif/cities-cif')\n",
    "import geemap, json\n",
    "import ee\n",
    "# ee.Authenticate()\n",
    "ee.Initialize()\n",
    "from city_metrix.layers import Layer\n",
    "from city_metrix.layers.layer import get_image_collection\n",
    "\n",
    "FILEPATH = 'C:/Users/theodore.wong/danida_africa'"
   ]
  },
  {
   "cell_type": "code",
   "execution_count": null,
   "id": "079a06ca",
   "metadata": {},
   "outputs": [],
   "source": [
    "boundary_filenames = os.listdir('{0}/boundaries'.format(FILEPATH))\n",
    "boundary_filenames"
   ]
  },
  {
   "cell_type": "code",
   "execution_count": null,
   "id": "4e094b41",
   "metadata": {},
   "outputs": [],
   "source": [
    "class CoastalRiverineFloodRisk(Layer):\n",
    "    def __init__(self, spatial_resolution=30, **kwargs):\n",
    "        super().__init__(**kwargs)\n",
    "        self.spatial_resolution = spatial_resolution\n",
    "\n",
    "    def get_data(self, bbox):\n",
    "        dataset = ee.ImageCollection('WRI/Aqueduct_Flood_Hazard_Maps/V2')\n",
    "        inundationDepth = ee.ImageCollection(dataset\n",
    "                                         .filterBounds(ee.Geometry.BBox(*bbox))\n",
    "                                         .select('inundation_depth')\n",
    "                                         .max()\n",
    "                                         )\n",
    "        data = get_image_collection(inundationDepth, bbox, self.spatial_resolution, \"inundation_depth\")\n",
    "        return data.inundation_depth"
   ]
  },
  {
   "cell_type": "code",
   "execution_count": null,
   "id": "019bd330",
   "metadata": {
    "scrolled": true
   },
   "outputs": [],
   "source": [
    "for fname in boundary_filenames:\n",
    "    if fname.split('-')[3].split('.')[0][-1] == 'n':\n",
    "        cityname = '{0} {1}'.format(fname.split('-')[1], fname.split('-')[2])\n",
    "        with open('{0}/boundaries/{1}'.format(FILEPATH, fname), 'r') as ifile:\n",
    "            json_obj = json.loads(ifile.read())\n",
    "            feature = geemap.geojson_to_ee(json_obj)\n",
    "            geom = geemap.ee_to_gdf(feature)['geometry'][0]\n",
    "            resultmap = CoastalRiverineFloodRisk().get_data(geom.bounds).rename(\"inundation_depth\")\n",
    "            resultmap.rio.to_raster('{0}/flooddepth-{1}.tif'.format(FILEPATH, cityname.replace(' ', '-')))\n",
    "            print(cityname)"
   ]
  },
  {
   "cell_type": "code",
   "execution_count": null,
   "id": "5c411e32",
   "metadata": {},
   "outputs": [],
   "source": []
  }
 ],
 "metadata": {
  "kernelspec": {
   "display_name": "Python [conda env:cif]",
   "language": "python",
   "name": "conda-env-cif-py"
  },
  "language_info": {
   "codemirror_mode": {
    "name": "ipython",
    "version": 3
   },
   "file_extension": ".py",
   "mimetype": "text/x-python",
   "name": "python",
   "nbconvert_exporter": "python",
   "pygments_lexer": "ipython3",
   "version": "3.10.14"
  }
 },
 "nbformat": 4,
 "nbformat_minor": 5
}
