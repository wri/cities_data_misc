{
 "cells": [
  {
   "cell_type": "code",
   "execution_count": null,
   "id": "6b3d1f53",
   "metadata": {},
   "outputs": [],
   "source": [
    "import os\n",
    "os.chdir('C:/Users/theodore.wong/cif/cities-cif')\n",
    "import ee, geemap, json\n",
    "# ee.Authenticate()\n",
    "ee.Initialize()\n",
    "from city_metrix.layers import Layer, EsaWorldCover, EsaWorldCoverClass\n",
    "\n",
    "FILEPATH = 'C:/Users/theodore.wong/danida_africa'"
   ]
  },
  {
   "cell_type": "code",
   "execution_count": null,
   "id": "e1f36714",
   "metadata": {},
   "outputs": [],
   "source": [
    "boundary_filenames = os.listdir('{0}/boundaries'.format(FILEPATH))\n",
    "boundary_filenames"
   ]
  },
  {
   "cell_type": "code",
   "execution_count": null,
   "id": "0c79eca7",
   "metadata": {},
   "outputs": [],
   "source": [
    "def percent_builtup(geoms):\n",
    "    built_up_land = EsaWorldCover(land_cover_class=EsaWorldCoverClass.BUILT_UP)\n",
    "    built_land = built_up_land.groupby(geoms).count()\n",
    "    all_land = EsaWorldCover().groupby(geoms).count()\n",
    "    return built_land / all_land"
   ]
  },
  {
   "cell_type": "code",
   "execution_count": null,
   "id": "7dfdb2d4",
   "metadata": {
    "scrolled": true
   },
   "outputs": [],
   "source": [
    "for fname in boundary_filenames:\n",
    "    if fname.split('-')[3].split('.')[0][-1] != 'n':\n",
    "        cityname = '{0} {1}'.format(fname.split('-')[1], fname.split('-')[2])\n",
    "        with open('{0}/boundaries/{1}'.format(FILEPATH, fname), 'r') as ifile:\n",
    "            json_obj = json.loads(ifile.read())\n",
    "            feature = geemap.geojson_to_ee(json_obj)\n",
    "            geoms = geemap.ee_to_gdf(feature)['geometry']\n",
    "            result = (percent_builtup(geoms) * 100).round(decimals=1)\n",
    "            out_gdf = geemap.ee_to_gdf(feature)\n",
    "            out_gdf['percent_builtup'] = result\n",
    "            with open('{0}/percent_builtup-{1}.geojson'.format(FILEPATH, cityname.replace(' ', '-')), 'w') as ofile:\n",
    "                ofile.write(out_gdf.to_json())\n",
    "            print(cityname)"
   ]
  },
  {
   "cell_type": "code",
   "execution_count": null,
   "id": "54112357",
   "metadata": {},
   "outputs": [],
   "source": []
  }
 ],
 "metadata": {
  "kernelspec": {
   "display_name": "Python [conda env:cif]",
   "language": "python",
   "name": "conda-env-cif-py"
  },
  "language_info": {
   "codemirror_mode": {
    "name": "ipython",
    "version": 3
   },
   "file_extension": ".py",
   "mimetype": "text/x-python",
   "name": "python",
   "nbconvert_exporter": "python",
   "pygments_lexer": "ipython3",
   "version": "3.10.14"
  }
 },
 "nbformat": 4,
 "nbformat_minor": 5
}
