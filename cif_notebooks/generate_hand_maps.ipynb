{
 "cells": [
  {
   "cell_type": "code",
   "execution_count": null,
   "id": "6b3d1f53",
   "metadata": {},
   "outputs": [],
   "source": [
    "import os\n",
    "os.chdir('C:/Users/theodore.wong/cif/cities-cif')\n",
    "import geemap, json\n",
    "from city_metrix.layers import Layer\n",
    "from city_metrix.layers.layer import get_image_collection\n",
    "import ee\n",
    "# ee.Authenticate()\n",
    "ee.Initialize()\n",
    "\n",
    "FILEPATH = 'C:/Users/theodore.wong/danida_africa'"
   ]
  },
  {
   "cell_type": "code",
   "execution_count": null,
   "id": "e1f36714",
   "metadata": {},
   "outputs": [],
   "source": [
    "boundary_filenames = os.listdir('{0}/boundaries'.format(FILEPATH))\n",
    "boundary_filenames"
   ]
  },
  {
   "cell_type": "code",
   "execution_count": null,
   "id": "b0e70306",
   "metadata": {},
   "outputs": [],
   "source": [
    "class Hand(Layer):\n",
    "    def __init__(self, spatial_resolution=30, **kwargs):\n",
    "        super().__init__(**kwargs)\n",
    "        self.spatial_resolution = spatial_resolution\n",
    "\n",
    "    def get_data(self, bbox):\n",
    "        dataset = ee.ImageCollection(ee.Image(\"users/gena/GlobalHAND/30m/hand-1000\").focal_mean(0.1))\n",
    "        hand = ee.ImageCollection(dataset\n",
    "             .filterBounds(ee.Geometry.BBox(*bbox))\n",
    "             .select('b1')\n",
    "             .sum()\n",
    "             )\n",
    "\n",
    "        data = get_image_collection(hand, bbox, self.spatial_resolution, \"hand\")\n",
    "        return data.b1"
   ]
  },
  {
   "cell_type": "code",
   "execution_count": null,
   "id": "70fb7797",
   "metadata": {},
   "outputs": [],
   "source": [
    "for fname in boundary_filenames:\n",
    "    if fname.split('-')[3].split('.')[0][-1] == 'n':\n",
    "        cityname = '{0} {1}'.format(fname.split('-')[1], fname.split('-')[2])\n",
    "        with open('{0}/boundaries/{1}'.format(FILEPATH, fname), 'r') as ifile:\n",
    "            json_obj = json.loads(ifile.read())\n",
    "            feature = geemap.geojson_to_ee(json_obj)\n",
    "            geom = geemap.ee_to_gdf(feature)['geometry'][0]\n",
    "            handmap = Hand().get_data(geom.bounds).rename(\"HAND_lt_1m\")\n",
    "            handmap.rio.to_raster('{0}/HANDlt1m-{1}.tif'.format(FILEPATH, cityname.replace(' ', '-')))\n",
    "            print(cityname)"
   ]
  },
  {
   "cell_type": "code",
   "execution_count": null,
   "id": "253bc439",
   "metadata": {},
   "outputs": [],
   "source": []
  }
 ],
 "metadata": {
  "kernelspec": {
   "display_name": "Python [conda env:cif]",
   "language": "python",
   "name": "conda-env-cif-py"
  },
  "language_info": {
   "codemirror_mode": {
    "name": "ipython",
    "version": 3
   },
   "file_extension": ".py",
   "mimetype": "text/x-python",
   "name": "python",
   "nbconvert_exporter": "python",
   "pygments_lexer": "ipython3",
   "version": "3.10.14"
  }
 },
 "nbformat": 4,
 "nbformat_minor": 5
}
