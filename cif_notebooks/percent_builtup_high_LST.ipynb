{
 "cells": [
  {
   "cell_type": "code",
   "execution_count": null,
   "id": "a194fbbf",
   "metadata": {},
   "outputs": [],
   "source": [
    "import os\n",
    "os.chdir('C:/Users/theodore.wong/cif/cities-cif')\n",
    "import geemap, json\n",
    "import pandas as pd\n",
    "import geopandas as gpd\n",
    "import ee\n",
    "# ee.Authenticate()\n",
    "ee.Initialize()\n",
    "from city_metrix.layers import Layer, LandSurfaceTemperature, EsaWorldCover, EsaWorldCoverClass\n",
    "\n",
    "FILEPATH = 'C:/Users/theodore.wong/danida_africa'"
   ]
  },
  {
   "cell_type": "code",
   "execution_count": null,
   "id": "67137766",
   "metadata": {},
   "outputs": [],
   "source": [
    "boundary_filenames = os.listdir('{0}/boundaries'.format(FILEPATH))\n",
    "boundary_filenames"
   ]
  },
  {
   "cell_type": "code",
   "execution_count": null,
   "id": "0965bc6a",
   "metadata": {},
   "outputs": [],
   "source": [
    "def percent_builtup_in_high_LST(gdf, matches):\n",
    "    results = [None] * len(gdf)\n",
    "    dones = []\n",
    "    builtup_mask = EsaWorldCover(land_cover_class=EsaWorldCoverClass.BUILT_UP, year=2021)\n",
    "    mean_LSTs_from_groupby = LandSurfaceTemperature().mask(builtup_mask).groupby(gdf['geometry']).mean()\n",
    "    \n",
    "    mean_LSTs = [None] * len(gdf)\n",
    "    idx = 0\n",
    "    for mean_LST in mean_LSTs_from_groupby:\n",
    "        while mean_LSTs[idx] is not None:\n",
    "            idx += 1\n",
    "        mean_LSTs[idx] = mean_LST\n",
    "        for match in matches[idx]:\n",
    "            mean_LSTs[match] = mean_LST\n",
    "        idx += 1\n",
    "    \n",
    "    for idx in range(len(gdf)):\n",
    "        if not idx in dones:\n",
    "            the_geom = gpd.GeoDataFrame(gdf.iloc[idx]).transpose().set_geometry('geometry').set_crs('epsg:4326').total_bounds\n",
    "            bu = EsaWorldCover(land_cover_class=EsaWorldCoverClass.BUILT_UP, year=2021).get_data(the_geom) / 50\n",
    "            lst = LandSurfaceTemperature().get_data(the_geom) > (mean_LSTs[idx] + 3)\n",
    "            combo = bu * lst\n",
    "\n",
    "            results[idx] = 100 * (float(combo.sum()) / float(bu.sum()))\n",
    "            dones.append(idx)\n",
    "            for i in matches[idx]:\n",
    "                results[i] = results[idx]\n",
    "                dones.append(i)\n",
    "    return pd.Series(results).round(decimals=1)\n"
   ]
  },
  {
   "cell_type": "code",
   "execution_count": null,
   "id": "432fdac1",
   "metadata": {
    "scrolled": false
   },
   "outputs": [],
   "source": [
    "for fname in boundary_filenames:\n",
    "    if fname.split('-')[3].split('.')[0][-1] != 'n':\n",
    "        cityname = '{0} {1}'.format(fname.split('-')[1], fname.split('-')[2])\n",
    "        with open('{0}/boundaries/{1}'.format(FILEPATH, fname), 'r') as ifile:\n",
    "            json_obj = json.loads(ifile.read())\n",
    "            gdf = gpd.GeoDataFrame.from_features(json_obj)\n",
    "            matches = {rownum: [] for rownum in range(len(gdf))}\n",
    "            for r_out in range(len(gdf)):\n",
    "                for r_in in range(len(gdf)):\n",
    "                    if not r_out == r_in:\n",
    "                        if gdf.iloc[r_out]['geometry'] == gdf.iloc[r_in]['geometry']:\n",
    "                            matches[r_out].append(r_in)\n",
    "            gdf['percent_builtup_in_highLST'] = percent_builtup_in_high_LST(gdf, matches)\n",
    "            with open('{0}/percent_builtup_in_highLST-{1}.geojson'.format(FILEPATH, cityname.replace(' ', '-')), 'w') as ofile:\n",
    "                ofile.write(gdf.to_json())\n",
    "            print(cityname)"
   ]
  },
  {
   "cell_type": "code",
   "execution_count": null,
   "id": "e0884e19",
   "metadata": {},
   "outputs": [],
   "source": []
  }
 ],
 "metadata": {
  "kernelspec": {
   "display_name": "Python [conda env:cif]",
   "language": "python",
   "name": "conda-env-cif-py"
  },
  "language_info": {
   "codemirror_mode": {
    "name": "ipython",
    "version": 3
   },
   "file_extension": ".py",
   "mimetype": "text/x-python",
   "name": "python",
   "nbconvert_exporter": "python",
   "pygments_lexer": "ipython3",
   "version": "3.10.14"
  }
 },
 "nbformat": 4,
 "nbformat_minor": 5
}
