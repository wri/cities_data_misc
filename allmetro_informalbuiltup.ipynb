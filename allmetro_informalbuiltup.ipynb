{
 "cells": [
  {
   "cell_type": "code",
   "execution_count": 1,
   "id": "f7276b9c",
   "metadata": {},
   "outputs": [],
   "source": [
    "import os, requests, json\n",
    "import pandas as pd\n",
    "import geemap\n",
    "import ee\n",
    "#ee.Authenticate()"
   ]
  },
  {
   "cell_type": "code",
   "execution_count": 2,
   "id": "19e49f84",
   "metadata": {},
   "outputs": [],
   "source": [
    "ee.Initialize()"
   ]
  },
  {
   "cell_type": "code",
   "execution_count": 3,
   "id": "606b134c",
   "metadata": {},
   "outputs": [],
   "source": [
    "# Get ULU polygons\n",
    "\n",
    "lu1 = ee.ImageCollection('projects/wri-datalab/cities/urban_land_use/V1')\n",
    "lu2 = ee.ImageCollection('projects/wri-datalab/urban_land_use/V2')\n",
    "lu = lu1.merge(lu2).select('lulc')"
   ]
  },
  {
   "cell_type": "code",
   "execution_count": 61,
   "id": "75d2c1fc",
   "metadata": {},
   "outputs": [],
   "source": [
    "# Get WorldPop data\n",
    "\n",
    "pop = ee.ImageCollection('WorldPop/GP/100m/pop').filter(ee.Filter.equals('year', 2010))"
   ]
  },
  {
   "cell_type": "code",
   "execution_count": 4,
   "id": "3d97a564",
   "metadata": {},
   "outputs": [],
   "source": [
    "with open('country_list.csv', 'r') as ifile:\n",
    "    countries = [[j.strip() for j in line.split(',')] for line in ifile.readlines()]\n",
    "\n",
    "country_boundaries = ee.FeatureCollection(\"FAO/GAUL_SIMPLIFIED_500m/2015/level0\")"
   ]
  },
  {
   "cell_type": "code",
   "execution_count": 5,
   "id": "be1d97d3",
   "metadata": {},
   "outputs": [],
   "source": [
    "REDUCER_SCALES = [100, 200, 500, 1000, 1500, 2000, 2500, 5000]"
   ]
  },
  {
   "cell_type": "code",
   "execution_count": 75,
   "id": "7ac6bc05",
   "metadata": {},
   "outputs": [
    {
     "data": {
      "text/plain": [
       "'                                            \\n    ee_metronames = ee.List(metro_names)\\n    \\n    country_pop = pop.filter(ee.Filter.equals(\\'country\\', country_code)).select(\\'population\\').first()\\n\\n    def get_fc(metro_name):\\n        lu_local = lu.filter(ee.Filter.equals(\"Country__Name\", country_name)).filter(ee.Filter.equals(\"City__Name\", metro_name)).mosaic()\\n        lu_area = ee.Image.pixelArea().addBands(lu_local.select(\"lulc\").reduce(ee.Reducer.firstNonNull()))\\n\\n        areas = lu_area.reduceRegion(\\n                reducer= ee.Reducer.sum().group(\\n                groupField= 1,\\n                groupName= \\'lulc\\',\\n            ),\\n            geometry= country_feat.geometry(),\\n            scale= 50,\\n            maxPixels= 1e12\\n        )\\n        \\n        total_pop_raster = lu_local.select(\"lulc\").gt(0).multiply(country_pop)\\n        total_pop_sum = total_pop_raster.reduceRegion(ee.Reducer.sum(), country_feat.geometry(), 100, maxPixels= 1e12)\\n\\n        \\n        return ee.Feature(country_feat.geometry(), {\\n            \"country_name\": country_name,\\n            \"metro_name\": metro_name,\\n            \"population_2010\": ee.Number.float(ee.Dictionary(total_pop_sum).get(\"lulc\")),\\n            \"openspace_area\": ee.Number.float((ee.List(ee.Dictionary(areas).get(\"groups\")).map(lambda x: ee.Number.float(ee.Dictionary(x).get(\"sum\")).multiply(ee.Number.int(ee.Number.int(ee.Dictionary(x).get(\\'lulc\\')).eq(0))))).reduce(ee.Reducer.sum())),\\n            \"nonresidential_area\": ee.Number.float((ee.List(ee.Dictionary(areas).get(\"groups\")).map(lambda x: ee.Number.float(ee.Dictionary(x).get(\"sum\")).multiply(ee.Number.int(ee.Number.int(ee.Dictionary(x).get(\\'lulc\\')).eq(1))))).reduce(ee.Reducer.sum())),\\n            \"atomisticsubdiv_area\": ee.Number.float((ee.List(ee.Dictionary(areas).get(\"groups\")).map(lambda x: ee.Number.float(ee.Dictionary(x).get(\"sum\")).multiply(ee.Number.int(ee.Number.int(ee.Dictionary(x).get(\\'lulc\\')).eq(2))))).reduce(ee.Reducer.sum())),\\n            \"informalsubdiv_area\": ee.Number.float((ee.List(ee.Dictionary(areas).get(\"groups\")).map(lambda x: ee.Number.float(ee.Dictionary(x).get(\"sum\")).multiply(ee.Number.int(ee.Number.int(ee.Dictionary(x).get(\\'lulc\\')).eq(3))))).reduce(ee.Reducer.sum())),\\n            \"formalsubdiv_area\": ee.Number.float((ee.List(ee.Dictionary(areas).get(\"groups\")).map(lambda x: ee.Number.float(ee.Dictionary(x).get(\"sum\")).multiply(ee.Number.int(ee.Number.int(ee.Dictionary(x).get(\\'lulc\\')).eq(4))))).reduce(ee.Reducer.sum())),\\n            \"housingproject_area\": ee.Number.float((ee.List(ee.Dictionary(areas).get(\"groups\")).map(lambda x: ee.Number.float(ee.Dictionary(x).get(\"sum\")).multiply(ee.Number.int(ee.Number.int(ee.Dictionary(x).get(\\'lulc\\')).eq(5))))).reduce(ee.Reducer.sum())),\\n            \"road_area\": ee.Number.float((ee.List(ee.Dictionary(areas).get(\"groups\")).map(lambda x: ee.Number.float(ee.Dictionary(x).get(\"sum\")).multiply(ee.Number.int(ee.Number.int(ee.Dictionary(x).get(\\'lulc\\')).eq(6))))).reduce(ee.Reducer.sum()))\\n            })\\n    \\n    results = ee_metronames.map(get_fc)\\n    results_fc = ee.FeatureCollection(results)\\n    \\n    task = ee.batch.Export.table.toAsset(results_fc, \"informal_builtup_{}\".format(country_name.replace(\\' \\',\\'_\\')), \"projects/ee-tedwongwri/assets/informal_builtup_{}\".format(country_name.replace(\\' \\',\\'_\\')))\\n    task.start()\\n    all_fc = all_fc.merge(results_fc)\\ntask = ee.batch.Export.table.toAsset(all_fc, \"informal_builtup_allcountries\", \"projects/ee-tedwongwri/assets/informal_builtup_allcountries\")\\ntask.start()\\n'"
      ]
     },
     "execution_count": 75,
     "metadata": {},
     "output_type": "execute_result"
    }
   ],
   "source": [
    "all_fc = ee.FeatureCollection([])\n",
    "for country_code, country_name, FAO_country_name in countries:\n",
    "    if country_code == 'ETH':\n",
    "        all_cities = lu.filter(ee.Filter.equals(\"Country__Name\", country_name))\n",
    "        country_feat = country_boundaries.filter(ee.Filter.equals('ADM0_NAME', FAO_country_name))\n",
    "        bysize = all_cities.sort(\"Pop_2010\", False)\n",
    "        thelist = bysize.select('lulc').toList(1000000)\n",
    "        metro_names = []\n",
    "        already_found = []\n",
    "        for i in [j['properties']['City__Name'] for j in thelist.getInfo()]:\n",
    "            if not i in already_found:\n",
    "                metro_names.append(i)\n",
    "                already_found.append(i)\n",
    "                if len(i.split('__')) > 1:\n",
    "                    for j in i.split('__'):\n",
    "                        already_found.append(j.strip()\n",
    "                                             \n",
    "                                             \n",
    "    ee_metronames = ee.List(metro_names)\n",
    "    \n",
    "    country_pop = pop.filter(ee.Filter.equals('country', country_code)).select('population').first()\n",
    "\n",
    "    def get_fc(metro_name):\n",
    "        lu_local = lu.filter(ee.Filter.equals(\"Country__Name\", country_name)).filter(ee.Filter.equals(\"City__Name\", metro_name)).mosaic()\n",
    "        lu_area = ee.Image.pixelArea().addBands(lu_local.select(\"lulc\").reduce(ee.Reducer.firstNonNull()))\n",
    "\n",
    "        areas = lu_area.reduceRegion(\n",
    "                reducer= ee.Reducer.sum().group(\n",
    "                groupField= 1,\n",
    "                groupName= 'lulc',\n",
    "            ),\n",
    "            geometry= country_feat.geometry(),\n",
    "            scale= 50,\n",
    "            maxPixels= 1e12\n",
    "        )\n",
    "        \n",
    "        total_pop_raster = lu_local.select(\"lulc\").gt(0).multiply(country_pop)\n",
    "        total_pop_sum = total_pop_raster.reduceRegion(ee.Reducer.sum(), country_feat.geometry(), 100, maxPixels= 1e12)\n",
    "\n",
    "        \n",
    "        return ee.Feature(country_feat.geometry(), {\n",
    "            \"country_name\": country_name,\n",
    "            \"metro_name\": metro_name,\n",
    "            \"population_2010\": ee.Number.float(ee.Dictionary(total_pop_sum).get(\"lulc\")),\n",
    "            \"openspace_area\": ee.Number.float((ee.List(ee.Dictionary(areas).get(\"groups\")).map(lambda x: ee.Number.float(ee.Dictionary(x).get(\"sum\")).multiply(ee.Number.int(ee.Number.int(ee.Dictionary(x).get('lulc')).eq(0))))).reduce(ee.Reducer.sum())),\n",
    "            \"nonresidential_area\": ee.Number.float((ee.List(ee.Dictionary(areas).get(\"groups\")).map(lambda x: ee.Number.float(ee.Dictionary(x).get(\"sum\")).multiply(ee.Number.int(ee.Number.int(ee.Dictionary(x).get('lulc')).eq(1))))).reduce(ee.Reducer.sum())),\n",
    "            \"atomisticsubdiv_area\": ee.Number.float((ee.List(ee.Dictionary(areas).get(\"groups\")).map(lambda x: ee.Number.float(ee.Dictionary(x).get(\"sum\")).multiply(ee.Number.int(ee.Number.int(ee.Dictionary(x).get('lulc')).eq(2))))).reduce(ee.Reducer.sum())),\n",
    "            \"informalsubdiv_area\": ee.Number.float((ee.List(ee.Dictionary(areas).get(\"groups\")).map(lambda x: ee.Number.float(ee.Dictionary(x).get(\"sum\")).multiply(ee.Number.int(ee.Number.int(ee.Dictionary(x).get('lulc')).eq(3))))).reduce(ee.Reducer.sum())),\n",
    "            \"formalsubdiv_area\": ee.Number.float((ee.List(ee.Dictionary(areas).get(\"groups\")).map(lambda x: ee.Number.float(ee.Dictionary(x).get(\"sum\")).multiply(ee.Number.int(ee.Number.int(ee.Dictionary(x).get('lulc')).eq(4))))).reduce(ee.Reducer.sum())),\n",
    "            \"housingproject_area\": ee.Number.float((ee.List(ee.Dictionary(areas).get(\"groups\")).map(lambda x: ee.Number.float(ee.Dictionary(x).get(\"sum\")).multiply(ee.Number.int(ee.Number.int(ee.Dictionary(x).get('lulc')).eq(5))))).reduce(ee.Reducer.sum())),\n",
    "            \"road_area\": ee.Number.float((ee.List(ee.Dictionary(areas).get(\"groups\")).map(lambda x: ee.Number.float(ee.Dictionary(x).get(\"sum\")).multiply(ee.Number.int(ee.Number.int(ee.Dictionary(x).get('lulc')).eq(6))))).reduce(ee.Reducer.sum()))\n",
    "            })\n",
    "    \n",
    "    results = ee_metronames.map(get_fc)\n",
    "    results_fc = ee.FeatureCollection(results)\n",
    "    \n",
    "    task = ee.batch.Export.table.toAsset(results_fc, \"informal_builtup_{}\".format(country_name.replace(' ','_')), \"projects/ee-tedwongwri/assets/informal_builtup_{}\".format(country_name.replace(' ','_')))\n",
    "    task.start()\n",
    "    all_fc = all_fc.merge(results_fc)\n",
    "task = ee.batch.Export.table.toAsset(all_fc, \"informal_builtup_allcountries\", \"projects/ee-tedwongwri/assets/informal_builtup_allcountries\")\n",
    "task.start()\n",
    "    "
   ]
  },
  {
   "cell_type": "code",
   "execution_count": null,
   "id": "9de9d886",
   "metadata": {},
   "outputs": [],
   "source": []
  }
 ],
 "metadata": {
  "kernelspec": {
   "display_name": "Python 3 (ipykernel)",
   "language": "python",
   "name": "python3"
  },
  "language_info": {
   "codemirror_mode": {
    "name": "ipython",
    "version": 3
   },
   "file_extension": ".py",
   "mimetype": "text/x-python",
   "name": "python",
   "nbconvert_exporter": "python",
   "pygments_lexer": "ipython3",
   "version": "3.9.10"
  }
 },
 "nbformat": 4,
 "nbformat_minor": 5
}
